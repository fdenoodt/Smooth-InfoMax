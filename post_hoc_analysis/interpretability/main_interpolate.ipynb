{
 "cells": [
  {
   "cell_type": "code",
   "execution_count": 1,
   "metadata": {},
   "outputs": [],
   "source": [
    "from __future__ import print_function\n",
    "import torch\n",
    "from GIM_encoder import GIM_Encoder\n",
    "from data import get_dataloader\n",
    "from decoder_architectures import SimpleV2Decoder\n",
    "from helper_functions import create_log_dir, fft_magnitude, plot_two_graphs_side_by_side\n",
    "from options_interpolate import get_options\n",
    "from IPython.display import Audio\n",
    "import numpy as np\n",
    "import soundfile as sf\n",
    "\n",
    "from ipywidgets import interact, interactive, fixed, interact_manual\n",
    "import ipywidgets as widgets\n",
    "import matplotlib.pyplot as plt\n",
    "import random"
   ]
  },
  {
   "cell_type": "code",
   "execution_count": 2,
   "metadata": {},
   "outputs": [],
   "source": [
    "def load_decoder(options, decoder_model_path, device):\n",
    "    decoder = options['decoder'].to(device)\n",
    "    decoder.load_state_dict(torch.load(\n",
    "        decoder_model_path, map_location=device))\n",
    "    return decoder\n",
    "\n",
    "\n",
    "def set_dimension_equal_to(batch, b_idx, dim_idx, val):\n",
    "    # batch is of shape: 171, 32, 2\n",
    "    # so always change the last two points\n",
    "\n",
    "    b, c, l = batch.shape\n",
    "    batch[b_idx, dim_idx, 0] = val\n",
    "\n",
    "def invent_latent_rnd(device, timesteps=2):\n",
    "    batch_enc = torch.rand((171, 32, timesteps)).to(device)\n",
    "\n",
    "    return batch_enc\n",
    "\n",
    "\n",
    "def invent_latent(device):\n",
    "    # batch_enc = torch.randn((171, 32, 2)).to(device)\n",
    "    batch_enc = torch.zeros((171, 32, 2)).to(device)\n",
    "\n",
    "    # first sample: val(dim 0) := 1\n",
    "    nb_dims = 32\n",
    "    for dim in range(nb_dims):\n",
    "        set_dimension_equal_to(batch_enc, b_idx=dim, dim_idx=dim, val=0.5)\n",
    "\n",
    "    return batch_enc"
   ]
  },
  {
   "cell_type": "code",
   "execution_count": 3,
   "metadata": {},
   "outputs": [
    {
     "name": "stdout",
     "output_type": "stream",
     "text": [
      "Let's use 1 GPUs!\n",
      "Loading De Boer Sounds dataset...\n"
     ]
    }
   ],
   "source": [
    "def setup():\n",
    "  OPTIONS = get_options()\n",
    "  DEVICE = OPTIONS[\"device\"]\n",
    "\n",
    "  CPC_MODEL_PATH = OPTIONS[\"cpc_model_path\"]\n",
    "  DECODER_MODEL_PATH = OPTIONS[\"decoder_model_path\"]\n",
    "\n",
    "  ENCODER = GIM_Encoder(OPTIONS, path=CPC_MODEL_PATH)\n",
    "  ENCODER.encoder.eval()\n",
    "\n",
    "  DECODER = load_decoder(OPTIONS, DECODER_MODEL_PATH, DEVICE)\n",
    "  DECODER.eval()\n",
    "\n",
    "  train_loader, _, test_loader, _ = get_dataloader.get_dataloader(\n",
    "      OPTIONS, dataset=\"xxxx_sounds_reshuffledv2\", split_and_pad=False, train_noise=False, shuffle=True)\n",
    "\n",
    "  return OPTIONS, DEVICE, ENCODER, DECODER\n",
    "\n",
    "OPTIONS, DEVICE, ENCODER, DECODER = setup()"
   ]
  },
  {
   "cell_type": "code",
   "execution_count": 6,
   "metadata": {},
   "outputs": [
    {
     "name": "stdout",
     "output_type": "stream",
     "text": [
      "torch.Size([171, 1, 448])\n",
      "torch.Size([171, 1, 10240])\n"
     ]
    }
   ],
   "source": [
    "zs = invent_latent_rnd(DEVICE, timesteps=1)\n",
    "print(DECODER(zs).shape)\n",
    "\n",
    "zs = invent_latent_rnd(DEVICE, timesteps=52)\n",
    "print(DECODER(zs).shape)"
   ]
  },
  {
   "cell_type": "code",
   "execution_count": 4,
   "metadata": {},
   "outputs": [
    {
     "data": {
      "application/vnd.jupyter.widget-view+json": {
       "model_id": "21ebe71159704934845842d8dfd746dc",
       "version_major": 2,
       "version_minor": 0
      },
      "text/plain": [
       "interactive(children=(FloatSlider(value=0.0, description='dim_0_val', max=3.0, min=-3.0, step=0.01), FloatSlid…"
      ]
     },
     "metadata": {},
     "output_type": "display_data"
    },
    {
     "data": {
      "text/plain": [
       "<function __main__.plot_latents(**kwargs)>"
      ]
     },
     "execution_count": 4,
     "metadata": {},
     "output_type": "execute_result"
    }
   ],
   "source": [
    "import librosa\n",
    "import tikzplotlib\n",
    "import os\n",
    "\n",
    "def latent_space(device, **kwargs):\n",
    "    batch_enc = torch.zeros((171, 32, 1)).to(device)\n",
    "\n",
    "    for dim_idx, dim_val in kwargs.items():\n",
    "        #eg: dim_1_val\n",
    "        dim_idx = int(dim_idx.split(\"_\")[-2])\n",
    "        set_dimension_equal_to(\n",
    "            batch_enc, b_idx=0, dim_idx=dim_idx, val=dim_val)\n",
    "\n",
    "    # set_dimension_equal_to(batch_enc, b_idx=0, dim_idx=0, val=dim1_val)\n",
    "\n",
    "    return batch_enc\n",
    "\n",
    "\n",
    "def beginning_and_end_to_zero(seq):\n",
    "    line_space = np.linspace(seq[0], seq[-1], len(seq))\n",
    "    return seq - line_space\n",
    "\n",
    "\n",
    "def plot_speech_wave(sequence, sample_rate, dir=None, file=None, show=True):\n",
    "    plt.figure(figsize=(16, 4))\n",
    "\n",
    "    number_of_samples = len(sequence)\n",
    "    duration_seconds =  number_of_samples / sample_rate\n",
    "    duration_milliseconds = duration_seconds * 1000\n",
    "\n",
    "    # x-ticks in milliseconds\n",
    "    x_ticks = np.linspace(0, duration_milliseconds, number_of_samples)\n",
    "\n",
    "    plt.plot(x_ticks, sequence)\n",
    "    plt.xlabel(\"Time (ms)\")\n",
    "    plt.ylabel(\"Amplitude\")\n",
    "\n",
    "    # y limit\n",
    "    plt.ylim(-0.15, 0.15)\n",
    "    \n",
    "    if file:\n",
    "        assert dir is not None\n",
    "        os.makedirs(f\"{dir}/tex\", exist_ok=True)\n",
    "        tikzplotlib.save(f\"{dir}/tex/{file}.tex\")\n",
    "        plt.savefig(f\"{dir}/{file}.png\")\n",
    "\n",
    "    if show:\n",
    "        plt.show()\n",
    "\n",
    "    # clear figure\n",
    "    plt.clf()\n",
    "\n",
    "def plot_fourier_bar2(sequence, sample_rate, dir=None, file=None, show=True):\n",
    "    fft_signal = np.fft.fft(sequence)\n",
    "    freq_axis = np.fft.fftfreq(len(sequence), 1/sample_rate)\n",
    "\n",
    "    # Plot bar chart\n",
    "    plt.figure(figsize=(16, 4))\n",
    "    freq_axis = freq_axis[:len(freq_axis)//2]\n",
    "    fft_signal = np.abs(fft_signal[:len(fft_signal)//2])\n",
    "\n",
    "    freq_axis = freq_axis[:50]\n",
    "    fft_signal = fft_signal[:50]\n",
    "\n",
    "    # y limit\n",
    "    plt.ylim(0, 15)\n",
    "\n",
    "    # more x ticks\n",
    "    plt.xticks(np.arange(0, max(freq_axis), 100))\n",
    "    \n",
    "    plt.bar(freq_axis, fft_signal, width=10)\n",
    "    plt.xlabel('Frequency (Hz)')\n",
    "    plt.ylabel('Magnitude')\n",
    "\n",
    "    if file:\n",
    "        assert dir is not None\n",
    "        os.makedirs(f\"{dir}/tex\", exist_ok=True)\n",
    "        tikzplotlib.save(f\"{dir}/tex/{file}.tex\")\n",
    "        plt.savefig(f\"{dir}/{file}.png\")\n",
    "\n",
    "    if show:\n",
    "        plt.show()\n",
    "\n",
    "    # clear figure\n",
    "    plt.clf()\n",
    "\n",
    "\n",
    "def plot_latents(**kwargs):\n",
    "    batch_enc_audio = latent_space(DEVICE, **kwargs)\n",
    "    batch_outp = DECODER(batch_enc_audio)\n",
    "\n",
    "    sr = 16000\n",
    "    for idx, outp in enumerate(batch_outp):\n",
    "        sequence = outp[0].cpu().detach().numpy()\n",
    "\n",
    "        plot_fourier_bar2(sequence, sr)\n",
    "        sequence = beginning_and_end_to_zero(sequence)\n",
    "        plot_speech_wave(sequence, sr)\n",
    "\n",
    "        return Audio(sequence, rate=sr)\n",
    "\n",
    "        break\n",
    "    return\n",
    "\n",
    "\n",
    "radio_range = (-3, 3, 0.01)\n",
    "interact(plot_latents,\n",
    "         dim_0_val=radio_range,\n",
    "         dim_1_val=radio_range,\n",
    "         dim_2_val=radio_range,\n",
    "         dim_3_val=radio_range,\n",
    "         dim_4_val=radio_range,\n",
    "         dim_5_val=radio_range,\n",
    "         dim_6_val=radio_range,\n",
    "         dim_7_val=radio_range,\n",
    "         dim_8_val=radio_range,\n",
    "         dim_9_val=radio_range,\n",
    "         dim_10_val=radio_range,\n",
    "         dim_11_val=radio_range,\n",
    "         dim_12_val=radio_range,\n",
    "         dim_13_val=radio_range,\n",
    "         dim_14_val=radio_range,\n",
    "         dim_15_val=radio_range,\n",
    "         dim_16_val=radio_range,\n",
    "         dim_17_val=radio_range,\n",
    "         dim_18_val=radio_range,\n",
    "         dim_19_val=radio_range,\n",
    "         dim_20_val=radio_range,\n",
    "         dim_21_val=radio_range,\n",
    "         dim_22_val=radio_range,\n",
    "         dim_23_val=radio_range,\n",
    "         dim_24_val=radio_range,\n",
    "         dim_25_val=radio_range,\n",
    "         dim_26_val=radio_range,\n",
    "         dim_27_val=radio_range,\n",
    "         dim_28_val=radio_range,\n",
    "         dim_29_val=radio_range,\n",
    "         dim_30_val=radio_range,\n",
    "         dim_31_val=radio_range)\n"
   ]
  },
  {
   "cell_type": "code",
   "execution_count": 12,
   "metadata": {},
   "outputs": [
    {
     "name": "stdout",
     "output_type": "stream",
     "text": [
      "dim: 0, val: -3.0\n",
      "dim: 0, val: -2.6842105263157894\n",
      "dim: 0, val: -2.3684210526315788\n",
      "dim: 0, val: -2.0526315789473686\n",
      "dim: 0, val: -1.736842105263158\n",
      "dim: 0, val: -1.4210526315789473\n",
      "dim: 0, val: -1.105263157894737\n",
      "dim: 0, val: -0.7894736842105265\n",
      "dim: 0, val: -0.47368421052631593\n",
      "dim: 0, val: -0.1578947368421053\n",
      "dim: 0, val: 0.1578947368421053\n"
     ]
    },
    {
     "name": "stderr",
     "output_type": "stream",
     "text": [
      "C:\\Users\\Fab\\AppData\\Local\\Temp\\ipykernel_27740\\2247023845.py:58: RuntimeWarning: More than 20 figures have been opened. Figures created through the pyplot interface (`matplotlib.pyplot.figure`) are retained until explicitly closed and may consume too much memory. (To control this warning, see the rcParam `figure.max_open_warning`).\n",
      "  plt.figure(figsize=(16, 4))\n"
     ]
    },
    {
     "name": "stdout",
     "output_type": "stream",
     "text": [
      "dim: 0, val: 0.4736842105263155\n",
      "dim: 0, val: 0.7894736842105261\n",
      "dim: 0, val: 1.1052631578947363\n",
      "dim: 0, val: 1.421052631578947\n",
      "dim: 0, val: 1.7368421052631575\n",
      "dim: 0, val: 2.052631578947368\n",
      "dim: 0, val: 2.3684210526315788\n",
      "dim: 0, val: 2.6842105263157894\n",
      "dim: 0, val: 3.0\n",
      "dim: 1, val: -3.0\n",
      "dim: 1, val: -2.6842105263157894\n",
      "dim: 1, val: -2.3684210526315788\n",
      "dim: 1, val: -2.0526315789473686\n",
      "dim: 1, val: -1.736842105263158\n",
      "dim: 1, val: -1.4210526315789473\n",
      "dim: 1, val: -1.105263157894737\n",
      "dim: 1, val: -0.7894736842105265\n",
      "dim: 1, val: -0.47368421052631593\n",
      "dim: 1, val: -0.1578947368421053\n",
      "dim: 1, val: 0.1578947368421053\n",
      "dim: 1, val: 0.4736842105263155\n",
      "dim: 1, val: 0.7894736842105261\n",
      "dim: 1, val: 1.1052631578947363\n",
      "dim: 1, val: 1.421052631578947\n",
      "dim: 1, val: 1.7368421052631575\n",
      "dim: 1, val: 2.052631578947368\n",
      "dim: 1, val: 2.3684210526315788\n",
      "dim: 1, val: 2.6842105263157894\n",
      "dim: 1, val: 3.0\n",
      "dim: 2, val: -3.0\n",
      "dim: 2, val: -2.6842105263157894\n",
      "dim: 2, val: -2.3684210526315788\n",
      "dim: 2, val: -2.0526315789473686\n",
      "dim: 2, val: -1.736842105263158\n",
      "dim: 2, val: -1.4210526315789473\n",
      "dim: 2, val: -1.105263157894737\n",
      "dim: 2, val: -0.7894736842105265\n",
      "dim: 2, val: -0.47368421052631593\n",
      "dim: 2, val: -0.1578947368421053\n",
      "dim: 2, val: 0.1578947368421053\n",
      "dim: 2, val: 0.4736842105263155\n",
      "dim: 2, val: 0.7894736842105261\n",
      "dim: 2, val: 1.1052631578947363\n",
      "dim: 2, val: 1.421052631578947\n",
      "dim: 2, val: 1.7368421052631575\n",
      "dim: 2, val: 2.052631578947368\n",
      "dim: 2, val: 2.3684210526315788\n",
      "dim: 2, val: 2.6842105263157894\n",
      "dim: 2, val: 3.0\n",
      "dim: 3, val: -3.0\n",
      "dim: 3, val: -2.6842105263157894\n",
      "dim: 3, val: -2.3684210526315788\n",
      "dim: 3, val: -2.0526315789473686\n",
      "dim: 3, val: -1.736842105263158\n",
      "dim: 3, val: -1.4210526315789473\n",
      "dim: 3, val: -1.105263157894737\n",
      "dim: 3, val: -0.7894736842105265\n",
      "dim: 3, val: -0.47368421052631593\n",
      "dim: 3, val: -0.1578947368421053\n",
      "dim: 3, val: 0.1578947368421053\n",
      "dim: 3, val: 0.4736842105263155\n",
      "dim: 3, val: 0.7894736842105261\n",
      "dim: 3, val: 1.1052631578947363\n",
      "dim: 3, val: 1.421052631578947\n",
      "dim: 3, val: 1.7368421052631575\n",
      "dim: 3, val: 2.052631578947368\n",
      "dim: 3, val: 2.3684210526315788\n",
      "dim: 3, val: 2.6842105263157894\n",
      "dim: 3, val: 3.0\n",
      "dim: 4, val: -3.0\n",
      "dim: 4, val: -2.6842105263157894\n",
      "dim: 4, val: -2.3684210526315788\n",
      "dim: 4, val: -2.0526315789473686\n",
      "dim: 4, val: -1.736842105263158\n",
      "dim: 4, val: -1.4210526315789473\n",
      "dim: 4, val: -1.105263157894737\n",
      "dim: 4, val: -0.7894736842105265\n",
      "dim: 4, val: -0.47368421052631593\n",
      "dim: 4, val: -0.1578947368421053\n",
      "dim: 4, val: 0.1578947368421053\n",
      "dim: 4, val: 0.4736842105263155\n",
      "dim: 4, val: 0.7894736842105261\n",
      "dim: 4, val: 1.1052631578947363\n",
      "dim: 4, val: 1.421052631578947\n",
      "dim: 4, val: 1.7368421052631575\n",
      "dim: 4, val: 2.052631578947368\n",
      "dim: 4, val: 2.3684210526315788\n",
      "dim: 4, val: 2.6842105263157894\n",
      "dim: 4, val: 3.0\n",
      "dim: 5, val: -3.0\n",
      "dim: 5, val: -2.6842105263157894\n",
      "dim: 5, val: -2.3684210526315788\n",
      "dim: 5, val: -2.0526315789473686\n",
      "dim: 5, val: -1.736842105263158\n",
      "dim: 5, val: -1.4210526315789473\n",
      "dim: 5, val: -1.105263157894737\n",
      "dim: 5, val: -0.7894736842105265\n",
      "dim: 5, val: -0.47368421052631593\n",
      "dim: 5, val: -0.1578947368421053\n",
      "dim: 5, val: 0.1578947368421053\n",
      "dim: 5, val: 0.4736842105263155\n",
      "dim: 5, val: 0.7894736842105261\n",
      "dim: 5, val: 1.1052631578947363\n",
      "dim: 5, val: 1.421052631578947\n",
      "dim: 5, val: 1.7368421052631575\n",
      "dim: 5, val: 2.052631578947368\n",
      "dim: 5, val: 2.3684210526315788\n",
      "dim: 5, val: 2.6842105263157894\n",
      "dim: 5, val: 3.0\n",
      "dim: 6, val: -3.0\n",
      "dim: 6, val: -2.6842105263157894\n",
      "dim: 6, val: -2.3684210526315788\n",
      "dim: 6, val: -2.0526315789473686\n",
      "dim: 6, val: -1.736842105263158\n",
      "dim: 6, val: -1.4210526315789473\n",
      "dim: 6, val: -1.105263157894737\n",
      "dim: 6, val: -0.7894736842105265\n",
      "dim: 6, val: -0.47368421052631593\n",
      "dim: 6, val: -0.1578947368421053\n",
      "dim: 6, val: 0.1578947368421053\n",
      "dim: 6, val: 0.4736842105263155\n",
      "dim: 6, val: 0.7894736842105261\n",
      "dim: 6, val: 1.1052631578947363\n",
      "dim: 6, val: 1.421052631578947\n",
      "dim: 6, val: 1.7368421052631575\n",
      "dim: 6, val: 2.052631578947368\n",
      "dim: 6, val: 2.3684210526315788\n",
      "dim: 6, val: 2.6842105263157894\n",
      "dim: 6, val: 3.0\n",
      "dim: 7, val: -3.0\n",
      "dim: 7, val: -2.6842105263157894\n",
      "dim: 7, val: -2.3684210526315788\n",
      "dim: 7, val: -2.0526315789473686\n",
      "dim: 7, val: -1.736842105263158\n",
      "dim: 7, val: -1.4210526315789473\n",
      "dim: 7, val: -1.105263157894737\n",
      "dim: 7, val: -0.7894736842105265\n",
      "dim: 7, val: -0.47368421052631593\n",
      "dim: 7, val: -0.1578947368421053\n",
      "dim: 7, val: 0.1578947368421053\n",
      "dim: 7, val: 0.4736842105263155\n",
      "dim: 7, val: 0.7894736842105261\n",
      "dim: 7, val: 1.1052631578947363\n",
      "dim: 7, val: 1.421052631578947\n",
      "dim: 7, val: 1.7368421052631575\n",
      "dim: 7, val: 2.052631578947368\n",
      "dim: 7, val: 2.3684210526315788\n",
      "dim: 7, val: 2.6842105263157894\n",
      "dim: 7, val: 3.0\n",
      "dim: 8, val: -3.0\n",
      "dim: 8, val: -2.6842105263157894\n",
      "dim: 8, val: -2.3684210526315788\n",
      "dim: 8, val: -2.0526315789473686\n",
      "dim: 8, val: -1.736842105263158\n",
      "dim: 8, val: -1.4210526315789473\n",
      "dim: 8, val: -1.105263157894737\n",
      "dim: 8, val: -0.7894736842105265\n",
      "dim: 8, val: -0.47368421052631593\n",
      "dim: 8, val: -0.1578947368421053\n",
      "dim: 8, val: 0.1578947368421053\n",
      "dim: 8, val: 0.4736842105263155\n",
      "dim: 8, val: 0.7894736842105261\n",
      "dim: 8, val: 1.1052631578947363\n",
      "dim: 8, val: 1.421052631578947\n",
      "dim: 8, val: 1.7368421052631575\n",
      "dim: 8, val: 2.052631578947368\n",
      "dim: 8, val: 2.3684210526315788\n",
      "dim: 8, val: 2.6842105263157894\n",
      "dim: 8, val: 3.0\n",
      "dim: 9, val: -3.0\n",
      "dim: 9, val: -2.6842105263157894\n",
      "dim: 9, val: -2.3684210526315788\n",
      "dim: 9, val: -2.0526315789473686\n",
      "dim: 9, val: -1.736842105263158\n",
      "dim: 9, val: -1.4210526315789473\n",
      "dim: 9, val: -1.105263157894737\n",
      "dim: 9, val: -0.7894736842105265\n",
      "dim: 9, val: -0.47368421052631593\n",
      "dim: 9, val: -0.1578947368421053\n",
      "dim: 9, val: 0.1578947368421053\n",
      "dim: 9, val: 0.4736842105263155\n",
      "dim: 9, val: 0.7894736842105261\n",
      "dim: 9, val: 1.1052631578947363\n",
      "dim: 9, val: 1.421052631578947\n",
      "dim: 9, val: 1.7368421052631575\n",
      "dim: 9, val: 2.052631578947368\n",
      "dim: 9, val: 2.3684210526315788\n",
      "dim: 9, val: 2.6842105263157894\n",
      "dim: 9, val: 3.0\n",
      "dim: 10, val: -3.0\n",
      "dim: 10, val: -2.6842105263157894\n",
      "dim: 10, val: -2.3684210526315788\n",
      "dim: 10, val: -2.0526315789473686\n",
      "dim: 10, val: -1.736842105263158\n",
      "dim: 10, val: -1.4210526315789473\n",
      "dim: 10, val: -1.105263157894737\n",
      "dim: 10, val: -0.7894736842105265\n",
      "dim: 10, val: -0.47368421052631593\n",
      "dim: 10, val: -0.1578947368421053\n",
      "dim: 10, val: 0.1578947368421053\n",
      "dim: 10, val: 0.4736842105263155\n",
      "dim: 10, val: 0.7894736842105261\n",
      "dim: 10, val: 1.1052631578947363\n",
      "dim: 10, val: 1.421052631578947\n",
      "dim: 10, val: 1.7368421052631575\n",
      "dim: 10, val: 2.052631578947368\n",
      "dim: 10, val: 2.3684210526315788\n",
      "dim: 10, val: 2.6842105263157894\n",
      "dim: 10, val: 3.0\n",
      "dim: 11, val: -3.0\n",
      "dim: 11, val: -2.6842105263157894\n",
      "dim: 11, val: -2.3684210526315788\n",
      "dim: 11, val: -2.0526315789473686\n",
      "dim: 11, val: -1.736842105263158\n",
      "dim: 11, val: -1.4210526315789473\n",
      "dim: 11, val: -1.105263157894737\n",
      "dim: 11, val: -0.7894736842105265\n",
      "dim: 11, val: -0.47368421052631593\n",
      "dim: 11, val: -0.1578947368421053\n",
      "dim: 11, val: 0.1578947368421053\n",
      "dim: 11, val: 0.4736842105263155\n",
      "dim: 11, val: 0.7894736842105261\n",
      "dim: 11, val: 1.1052631578947363\n",
      "dim: 11, val: 1.421052631578947\n",
      "dim: 11, val: 1.7368421052631575\n",
      "dim: 11, val: 2.052631578947368\n",
      "dim: 11, val: 2.3684210526315788\n",
      "dim: 11, val: 2.6842105263157894\n",
      "dim: 11, val: 3.0\n",
      "dim: 12, val: -3.0\n",
      "dim: 12, val: -2.6842105263157894\n",
      "dim: 12, val: -2.3684210526315788\n",
      "dim: 12, val: -2.0526315789473686\n",
      "dim: 12, val: -1.736842105263158\n",
      "dim: 12, val: -1.4210526315789473\n",
      "dim: 12, val: -1.105263157894737\n",
      "dim: 12, val: -0.7894736842105265\n",
      "dim: 12, val: -0.47368421052631593\n",
      "dim: 12, val: -0.1578947368421053\n",
      "dim: 12, val: 0.1578947368421053\n",
      "dim: 12, val: 0.4736842105263155\n",
      "dim: 12, val: 0.7894736842105261\n",
      "dim: 12, val: 1.1052631578947363\n",
      "dim: 12, val: 1.421052631578947\n",
      "dim: 12, val: 1.7368421052631575\n",
      "dim: 12, val: 2.052631578947368\n",
      "dim: 12, val: 2.3684210526315788\n",
      "dim: 12, val: 2.6842105263157894\n",
      "dim: 12, val: 3.0\n",
      "dim: 13, val: -3.0\n",
      "dim: 13, val: -2.6842105263157894\n",
      "dim: 13, val: -2.3684210526315788\n",
      "dim: 13, val: -2.0526315789473686\n",
      "dim: 13, val: -1.736842105263158\n",
      "dim: 13, val: -1.4210526315789473\n",
      "dim: 13, val: -1.105263157894737\n",
      "dim: 13, val: -0.7894736842105265\n",
      "dim: 13, val: -0.47368421052631593\n",
      "dim: 13, val: -0.1578947368421053\n",
      "dim: 13, val: 0.1578947368421053\n",
      "dim: 13, val: 0.4736842105263155\n",
      "dim: 13, val: 0.7894736842105261\n",
      "dim: 13, val: 1.1052631578947363\n",
      "dim: 13, val: 1.421052631578947\n",
      "dim: 13, val: 1.7368421052631575\n",
      "dim: 13, val: 2.052631578947368\n",
      "dim: 13, val: 2.3684210526315788\n",
      "dim: 13, val: 2.6842105263157894\n",
      "dim: 13, val: 3.0\n",
      "dim: 14, val: -3.0\n",
      "dim: 14, val: -2.6842105263157894\n",
      "dim: 14, val: -2.3684210526315788\n",
      "dim: 14, val: -2.0526315789473686\n",
      "dim: 14, val: -1.736842105263158\n",
      "dim: 14, val: -1.4210526315789473\n",
      "dim: 14, val: -1.105263157894737\n",
      "dim: 14, val: -0.7894736842105265\n",
      "dim: 14, val: -0.47368421052631593\n",
      "dim: 14, val: -0.1578947368421053\n",
      "dim: 14, val: 0.1578947368421053\n",
      "dim: 14, val: 0.4736842105263155\n",
      "dim: 14, val: 0.7894736842105261\n",
      "dim: 14, val: 1.1052631578947363\n",
      "dim: 14, val: 1.421052631578947\n",
      "dim: 14, val: 1.7368421052631575\n",
      "dim: 14, val: 2.052631578947368\n",
      "dim: 14, val: 2.3684210526315788\n",
      "dim: 14, val: 2.6842105263157894\n",
      "dim: 14, val: 3.0\n",
      "dim: 15, val: -3.0\n",
      "dim: 15, val: -2.6842105263157894\n",
      "dim: 15, val: -2.3684210526315788\n",
      "dim: 15, val: -2.0526315789473686\n",
      "dim: 15, val: -1.736842105263158\n",
      "dim: 15, val: -1.4210526315789473\n",
      "dim: 15, val: -1.105263157894737\n",
      "dim: 15, val: -0.7894736842105265\n",
      "dim: 15, val: -0.47368421052631593\n",
      "dim: 15, val: -0.1578947368421053\n",
      "dim: 15, val: 0.1578947368421053\n",
      "dim: 15, val: 0.4736842105263155\n",
      "dim: 15, val: 0.7894736842105261\n",
      "dim: 15, val: 1.1052631578947363\n",
      "dim: 15, val: 1.421052631578947\n",
      "dim: 15, val: 1.7368421052631575\n",
      "dim: 15, val: 2.052631578947368\n",
      "dim: 15, val: 2.3684210526315788\n",
      "dim: 15, val: 2.6842105263157894\n",
      "dim: 15, val: 3.0\n",
      "dim: 16, val: -3.0\n",
      "dim: 16, val: -2.6842105263157894\n",
      "dim: 16, val: -2.3684210526315788\n",
      "dim: 16, val: -2.0526315789473686\n",
      "dim: 16, val: -1.736842105263158\n",
      "dim: 16, val: -1.4210526315789473\n",
      "dim: 16, val: -1.105263157894737\n",
      "dim: 16, val: -0.7894736842105265\n",
      "dim: 16, val: -0.47368421052631593\n",
      "dim: 16, val: -0.1578947368421053\n",
      "dim: 16, val: 0.1578947368421053\n",
      "dim: 16, val: 0.4736842105263155\n",
      "dim: 16, val: 0.7894736842105261\n",
      "dim: 16, val: 1.1052631578947363\n",
      "dim: 16, val: 1.421052631578947\n",
      "dim: 16, val: 1.7368421052631575\n",
      "dim: 16, val: 2.052631578947368\n",
      "dim: 16, val: 2.3684210526315788\n",
      "dim: 16, val: 2.6842105263157894\n",
      "dim: 16, val: 3.0\n",
      "dim: 17, val: -3.0\n",
      "dim: 17, val: -2.6842105263157894\n",
      "dim: 17, val: -2.3684210526315788\n",
      "dim: 17, val: -2.0526315789473686\n",
      "dim: 17, val: -1.736842105263158\n",
      "dim: 17, val: -1.4210526315789473\n",
      "dim: 17, val: -1.105263157894737\n",
      "dim: 17, val: -0.7894736842105265\n",
      "dim: 17, val: -0.47368421052631593\n",
      "dim: 17, val: -0.1578947368421053\n",
      "dim: 17, val: 0.1578947368421053\n",
      "dim: 17, val: 0.4736842105263155\n",
      "dim: 17, val: 0.7894736842105261\n",
      "dim: 17, val: 1.1052631578947363\n",
      "dim: 17, val: 1.421052631578947\n",
      "dim: 17, val: 1.7368421052631575\n",
      "dim: 17, val: 2.052631578947368\n",
      "dim: 17, val: 2.3684210526315788\n",
      "dim: 17, val: 2.6842105263157894\n",
      "dim: 17, val: 3.0\n",
      "dim: 18, val: -3.0\n",
      "dim: 18, val: -2.6842105263157894\n",
      "dim: 18, val: -2.3684210526315788\n",
      "dim: 18, val: -2.0526315789473686\n",
      "dim: 18, val: -1.736842105263158\n",
      "dim: 18, val: -1.4210526315789473\n",
      "dim: 18, val: -1.105263157894737\n",
      "dim: 18, val: -0.7894736842105265\n",
      "dim: 18, val: -0.47368421052631593\n",
      "dim: 18, val: -0.1578947368421053\n",
      "dim: 18, val: 0.1578947368421053\n",
      "dim: 18, val: 0.4736842105263155\n",
      "dim: 18, val: 0.7894736842105261\n",
      "dim: 18, val: 1.1052631578947363\n",
      "dim: 18, val: 1.421052631578947\n",
      "dim: 18, val: 1.7368421052631575\n",
      "dim: 18, val: 2.052631578947368\n",
      "dim: 18, val: 2.3684210526315788\n",
      "dim: 18, val: 2.6842105263157894\n",
      "dim: 18, val: 3.0\n",
      "dim: 19, val: -3.0\n",
      "dim: 19, val: -2.6842105263157894\n",
      "dim: 19, val: -2.3684210526315788\n",
      "dim: 19, val: -2.0526315789473686\n",
      "dim: 19, val: -1.736842105263158\n",
      "dim: 19, val: -1.4210526315789473\n",
      "dim: 19, val: -1.105263157894737\n",
      "dim: 19, val: -0.7894736842105265\n",
      "dim: 19, val: -0.47368421052631593\n",
      "dim: 19, val: -0.1578947368421053\n",
      "dim: 19, val: 0.1578947368421053\n",
      "dim: 19, val: 0.4736842105263155\n",
      "dim: 19, val: 0.7894736842105261\n",
      "dim: 19, val: 1.1052631578947363\n",
      "dim: 19, val: 1.421052631578947\n",
      "dim: 19, val: 1.7368421052631575\n",
      "dim: 19, val: 2.052631578947368\n",
      "dim: 19, val: 2.3684210526315788\n",
      "dim: 19, val: 2.6842105263157894\n",
      "dim: 19, val: 3.0\n",
      "dim: 20, val: -3.0\n",
      "dim: 20, val: -2.6842105263157894\n",
      "dim: 20, val: -2.3684210526315788\n",
      "dim: 20, val: -2.0526315789473686\n",
      "dim: 20, val: -1.736842105263158\n",
      "dim: 20, val: -1.4210526315789473\n",
      "dim: 20, val: -1.105263157894737\n",
      "dim: 20, val: -0.7894736842105265\n",
      "dim: 20, val: -0.47368421052631593\n",
      "dim: 20, val: -0.1578947368421053\n",
      "dim: 20, val: 0.1578947368421053\n",
      "dim: 20, val: 0.4736842105263155\n",
      "dim: 20, val: 0.7894736842105261\n",
      "dim: 20, val: 1.1052631578947363\n",
      "dim: 20, val: 1.421052631578947\n",
      "dim: 20, val: 1.7368421052631575\n",
      "dim: 20, val: 2.052631578947368\n",
      "dim: 20, val: 2.3684210526315788\n",
      "dim: 20, val: 2.6842105263157894\n",
      "dim: 20, val: 3.0\n",
      "dim: 21, val: -3.0\n",
      "dim: 21, val: -2.6842105263157894\n",
      "dim: 21, val: -2.3684210526315788\n",
      "dim: 21, val: -2.0526315789473686\n",
      "dim: 21, val: -1.736842105263158\n",
      "dim: 21, val: -1.4210526315789473\n",
      "dim: 21, val: -1.105263157894737\n",
      "dim: 21, val: -0.7894736842105265\n",
      "dim: 21, val: -0.47368421052631593\n",
      "dim: 21, val: -0.1578947368421053\n",
      "dim: 21, val: 0.1578947368421053\n",
      "dim: 21, val: 0.4736842105263155\n",
      "dim: 21, val: 0.7894736842105261\n",
      "dim: 21, val: 1.1052631578947363\n",
      "dim: 21, val: 1.421052631578947\n",
      "dim: 21, val: 1.7368421052631575\n",
      "dim: 21, val: 2.052631578947368\n",
      "dim: 21, val: 2.3684210526315788\n",
      "dim: 21, val: 2.6842105263157894\n",
      "dim: 21, val: 3.0\n",
      "dim: 22, val: -3.0\n",
      "dim: 22, val: -2.6842105263157894\n",
      "dim: 22, val: -2.3684210526315788\n",
      "dim: 22, val: -2.0526315789473686\n",
      "dim: 22, val: -1.736842105263158\n",
      "dim: 22, val: -1.4210526315789473\n",
      "dim: 22, val: -1.105263157894737\n",
      "dim: 22, val: -0.7894736842105265\n",
      "dim: 22, val: -0.47368421052631593\n",
      "dim: 22, val: -0.1578947368421053\n",
      "dim: 22, val: 0.1578947368421053\n",
      "dim: 22, val: 0.4736842105263155\n",
      "dim: 22, val: 0.7894736842105261\n",
      "dim: 22, val: 1.1052631578947363\n",
      "dim: 22, val: 1.421052631578947\n",
      "dim: 22, val: 1.7368421052631575\n",
      "dim: 22, val: 2.052631578947368\n",
      "dim: 22, val: 2.3684210526315788\n",
      "dim: 22, val: 2.6842105263157894\n",
      "dim: 22, val: 3.0\n",
      "dim: 23, val: -3.0\n",
      "dim: 23, val: -2.6842105263157894\n",
      "dim: 23, val: -2.3684210526315788\n",
      "dim: 23, val: -2.0526315789473686\n",
      "dim: 23, val: -1.736842105263158\n",
      "dim: 23, val: -1.4210526315789473\n",
      "dim: 23, val: -1.105263157894737\n",
      "dim: 23, val: -0.7894736842105265\n",
      "dim: 23, val: -0.47368421052631593\n",
      "dim: 23, val: -0.1578947368421053\n",
      "dim: 23, val: 0.1578947368421053\n",
      "dim: 23, val: 0.4736842105263155\n",
      "dim: 23, val: 0.7894736842105261\n",
      "dim: 23, val: 1.1052631578947363\n",
      "dim: 23, val: 1.421052631578947\n",
      "dim: 23, val: 1.7368421052631575\n",
      "dim: 23, val: 2.052631578947368\n",
      "dim: 23, val: 2.3684210526315788\n",
      "dim: 23, val: 2.6842105263157894\n",
      "dim: 23, val: 3.0\n",
      "dim: 24, val: -3.0\n",
      "dim: 24, val: -2.6842105263157894\n",
      "dim: 24, val: -2.3684210526315788\n",
      "dim: 24, val: -2.0526315789473686\n",
      "dim: 24, val: -1.736842105263158\n",
      "dim: 24, val: -1.4210526315789473\n",
      "dim: 24, val: -1.105263157894737\n",
      "dim: 24, val: -0.7894736842105265\n",
      "dim: 24, val: -0.47368421052631593\n",
      "dim: 24, val: -0.1578947368421053\n",
      "dim: 24, val: 0.1578947368421053\n",
      "dim: 24, val: 0.4736842105263155\n",
      "dim: 24, val: 0.7894736842105261\n",
      "dim: 24, val: 1.1052631578947363\n",
      "dim: 24, val: 1.421052631578947\n",
      "dim: 24, val: 1.7368421052631575\n",
      "dim: 24, val: 2.052631578947368\n",
      "dim: 24, val: 2.3684210526315788\n",
      "dim: 24, val: 2.6842105263157894\n",
      "dim: 24, val: 3.0\n",
      "dim: 25, val: -3.0\n",
      "dim: 25, val: -2.6842105263157894\n",
      "dim: 25, val: -2.3684210526315788\n",
      "dim: 25, val: -2.0526315789473686\n",
      "dim: 25, val: -1.736842105263158\n",
      "dim: 25, val: -1.4210526315789473\n",
      "dim: 25, val: -1.105263157894737\n",
      "dim: 25, val: -0.7894736842105265\n",
      "dim: 25, val: -0.47368421052631593\n",
      "dim: 25, val: -0.1578947368421053\n",
      "dim: 25, val: 0.1578947368421053\n",
      "dim: 25, val: 0.4736842105263155\n",
      "dim: 25, val: 0.7894736842105261\n",
      "dim: 25, val: 1.1052631578947363\n",
      "dim: 25, val: 1.421052631578947\n",
      "dim: 25, val: 1.7368421052631575\n",
      "dim: 25, val: 2.052631578947368\n",
      "dim: 25, val: 2.3684210526315788\n",
      "dim: 25, val: 2.6842105263157894\n",
      "dim: 25, val: 3.0\n",
      "dim: 26, val: -3.0\n",
      "dim: 26, val: -2.6842105263157894\n",
      "dim: 26, val: -2.3684210526315788\n",
      "dim: 26, val: -2.0526315789473686\n",
      "dim: 26, val: -1.736842105263158\n",
      "dim: 26, val: -1.4210526315789473\n",
      "dim: 26, val: -1.105263157894737\n",
      "dim: 26, val: -0.7894736842105265\n",
      "dim: 26, val: -0.47368421052631593\n",
      "dim: 26, val: -0.1578947368421053\n",
      "dim: 26, val: 0.1578947368421053\n",
      "dim: 26, val: 0.4736842105263155\n",
      "dim: 26, val: 0.7894736842105261\n",
      "dim: 26, val: 1.1052631578947363\n",
      "dim: 26, val: 1.421052631578947\n",
      "dim: 26, val: 1.7368421052631575\n",
      "dim: 26, val: 2.052631578947368\n",
      "dim: 26, val: 2.3684210526315788\n",
      "dim: 26, val: 2.6842105263157894\n",
      "dim: 26, val: 3.0\n",
      "dim: 27, val: -3.0\n",
      "dim: 27, val: -2.6842105263157894\n",
      "dim: 27, val: -2.3684210526315788\n",
      "dim: 27, val: -2.0526315789473686\n",
      "dim: 27, val: -1.736842105263158\n",
      "dim: 27, val: -1.4210526315789473\n",
      "dim: 27, val: -1.105263157894737\n",
      "dim: 27, val: -0.7894736842105265\n",
      "dim: 27, val: -0.47368421052631593\n",
      "dim: 27, val: -0.1578947368421053\n",
      "dim: 27, val: 0.1578947368421053\n",
      "dim: 27, val: 0.4736842105263155\n",
      "dim: 27, val: 0.7894736842105261\n",
      "dim: 27, val: 1.1052631578947363\n",
      "dim: 27, val: 1.421052631578947\n",
      "dim: 27, val: 1.7368421052631575\n",
      "dim: 27, val: 2.052631578947368\n",
      "dim: 27, val: 2.3684210526315788\n",
      "dim: 27, val: 2.6842105263157894\n",
      "dim: 27, val: 3.0\n",
      "dim: 28, val: -3.0\n",
      "dim: 28, val: -2.6842105263157894\n",
      "dim: 28, val: -2.3684210526315788\n",
      "dim: 28, val: -2.0526315789473686\n",
      "dim: 28, val: -1.736842105263158\n",
      "dim: 28, val: -1.4210526315789473\n",
      "dim: 28, val: -1.105263157894737\n",
      "dim: 28, val: -0.7894736842105265\n",
      "dim: 28, val: -0.47368421052631593\n",
      "dim: 28, val: -0.1578947368421053\n",
      "dim: 28, val: 0.1578947368421053\n",
      "dim: 28, val: 0.4736842105263155\n",
      "dim: 28, val: 0.7894736842105261\n",
      "dim: 28, val: 1.1052631578947363\n",
      "dim: 28, val: 1.421052631578947\n",
      "dim: 28, val: 1.7368421052631575\n",
      "dim: 28, val: 2.052631578947368\n",
      "dim: 28, val: 2.3684210526315788\n",
      "dim: 28, val: 2.6842105263157894\n",
      "dim: 28, val: 3.0\n",
      "dim: 29, val: -3.0\n",
      "dim: 29, val: -2.6842105263157894\n",
      "dim: 29, val: -2.3684210526315788\n",
      "dim: 29, val: -2.0526315789473686\n",
      "dim: 29, val: -1.736842105263158\n",
      "dim: 29, val: -1.4210526315789473\n",
      "dim: 29, val: -1.105263157894737\n",
      "dim: 29, val: -0.7894736842105265\n",
      "dim: 29, val: -0.47368421052631593\n",
      "dim: 29, val: -0.1578947368421053\n",
      "dim: 29, val: 0.1578947368421053\n",
      "dim: 29, val: 0.4736842105263155\n",
      "dim: 29, val: 0.7894736842105261\n",
      "dim: 29, val: 1.1052631578947363\n",
      "dim: 29, val: 1.421052631578947\n",
      "dim: 29, val: 1.7368421052631575\n",
      "dim: 29, val: 2.052631578947368\n",
      "dim: 29, val: 2.3684210526315788\n",
      "dim: 29, val: 2.6842105263157894\n",
      "dim: 29, val: 3.0\n",
      "dim: 30, val: -3.0\n",
      "dim: 30, val: -2.6842105263157894\n",
      "dim: 30, val: -2.3684210526315788\n",
      "dim: 30, val: -2.0526315789473686\n",
      "dim: 30, val: -1.736842105263158\n",
      "dim: 30, val: -1.4210526315789473\n",
      "dim: 30, val: -1.105263157894737\n",
      "dim: 30, val: -0.7894736842105265\n",
      "dim: 30, val: -0.47368421052631593\n",
      "dim: 30, val: -0.1578947368421053\n",
      "dim: 30, val: 0.1578947368421053\n",
      "dim: 30, val: 0.4736842105263155\n",
      "dim: 30, val: 0.7894736842105261\n",
      "dim: 30, val: 1.1052631578947363\n",
      "dim: 30, val: 1.421052631578947\n",
      "dim: 30, val: 1.7368421052631575\n",
      "dim: 30, val: 2.052631578947368\n",
      "dim: 30, val: 2.3684210526315788\n",
      "dim: 30, val: 2.6842105263157894\n",
      "dim: 30, val: 3.0\n",
      "dim: 31, val: -3.0\n",
      "dim: 31, val: -2.6842105263157894\n",
      "dim: 31, val: -2.3684210526315788\n",
      "dim: 31, val: -2.0526315789473686\n",
      "dim: 31, val: -1.736842105263158\n",
      "dim: 31, val: -1.4210526315789473\n",
      "dim: 31, val: -1.105263157894737\n",
      "dim: 31, val: -0.7894736842105265\n",
      "dim: 31, val: -0.47368421052631593\n",
      "dim: 31, val: -0.1578947368421053\n",
      "dim: 31, val: 0.1578947368421053\n",
      "dim: 31, val: 0.4736842105263155\n",
      "dim: 31, val: 0.7894736842105261\n",
      "dim: 31, val: 1.1052631578947363\n",
      "dim: 31, val: 1.421052631578947\n",
      "dim: 31, val: 1.7368421052631575\n",
      "dim: 31, val: 2.052631578947368\n",
      "dim: 31, val: 2.3684210526315788\n",
      "dim: 31, val: 2.6842105263157894\n",
      "dim: 31, val: 3.0\n"
     ]
    },
    {
     "data": {
      "text/plain": [
       "<Figure size 1152x288 with 0 Axes>"
      ]
     },
     "metadata": {},
     "output_type": "display_data"
    },
    {
     "data": {
      "text/plain": [
       "<Figure size 1152x288 with 0 Axes>"
      ]
     },
     "metadata": {},
     "output_type": "display_data"
    },
    {
     "data": {
      "text/plain": [
       "<Figure size 1152x288 with 0 Axes>"
      ]
     },
     "metadata": {},
     "output_type": "display_data"
    },
    {
     "data": {
      "text/plain": [
       "<Figure size 1152x288 with 0 Axes>"
      ]
     },
     "metadata": {},
     "output_type": "display_data"
    },
    {
     "data": {
      "text/plain": [
       "<Figure size 1152x288 with 0 Axes>"
      ]
     },
     "metadata": {},
     "output_type": "display_data"
    },
    {
     "data": {
      "text/plain": [
       "<Figure size 1152x288 with 0 Axes>"
      ]
     },
     "metadata": {},
     "output_type": "display_data"
    },
    {
     "data": {
      "text/plain": [
       "<Figure size 1152x288 with 0 Axes>"
      ]
     },
     "metadata": {},
     "output_type": "display_data"
    },
    {
     "data": {
      "text/plain": [
       "<Figure size 1152x288 with 0 Axes>"
      ]
     },
     "metadata": {},
     "output_type": "display_data"
    },
    {
     "data": {
      "text/plain": [
       "<Figure size 1152x288 with 0 Axes>"
      ]
     },
     "metadata": {},
     "output_type": "display_data"
    },
    {
     "data": {
      "text/plain": [
       "<Figure size 1152x288 with 0 Axes>"
      ]
     },
     "metadata": {},
     "output_type": "display_data"
    },
    {
     "data": {
      "text/plain": [
       "<Figure size 1152x288 with 0 Axes>"
      ]
     },
     "metadata": {},
     "output_type": "display_data"
    },
    {
     "data": {
      "text/plain": [
       "<Figure size 1152x288 with 0 Axes>"
      ]
     },
     "metadata": {},
     "output_type": "display_data"
    },
    {
     "data": {
      "text/plain": [
       "<Figure size 1152x288 with 0 Axes>"
      ]
     },
     "metadata": {},
     "output_type": "display_data"
    },
    {
     "data": {
      "text/plain": [
       "<Figure size 1152x288 with 0 Axes>"
      ]
     },
     "metadata": {},
     "output_type": "display_data"
    },
    {
     "data": {
      "text/plain": [
       "<Figure size 1152x288 with 0 Axes>"
      ]
     },
     "metadata": {},
     "output_type": "display_data"
    },
    {
     "data": {
      "text/plain": [
       "<Figure size 1152x288 with 0 Axes>"
      ]
     },
     "metadata": {},
     "output_type": "display_data"
    },
    {
     "data": {
      "text/plain": [
       "<Figure size 1152x288 with 0 Axes>"
      ]
     },
     "metadata": {},
     "output_type": "display_data"
    },
    {
     "data": {
      "text/plain": [
       "<Figure size 1152x288 with 0 Axes>"
      ]
     },
     "metadata": {},
     "output_type": "display_data"
    },
    {
     "data": {
      "text/plain": [
       "<Figure size 1152x288 with 0 Axes>"
      ]
     },
     "metadata": {},
     "output_type": "display_data"
    },
    {
     "data": {
      "text/plain": [
       "<Figure size 1152x288 with 0 Axes>"
      ]
     },
     "metadata": {},
     "output_type": "display_data"
    },
    {
     "data": {
      "text/plain": [
       "<Figure size 1152x288 with 0 Axes>"
      ]
     },
     "metadata": {},
     "output_type": "display_data"
    },
    {
     "data": {
      "text/plain": [
       "<Figure size 1152x288 with 0 Axes>"
      ]
     },
     "metadata": {},
     "output_type": "display_data"
    },
    {
     "data": {
      "text/plain": [
       "<Figure size 1152x288 with 0 Axes>"
      ]
     },
     "metadata": {},
     "output_type": "display_data"
    },
    {
     "data": {
      "text/plain": [
       "<Figure size 1152x288 with 0 Axes>"
      ]
     },
     "metadata": {},
     "output_type": "display_data"
    },
    {
     "data": {
      "text/plain": [
       "<Figure size 1152x288 with 0 Axes>"
      ]
     },
     "metadata": {},
     "output_type": "display_data"
    },
    {
     "data": {
      "text/plain": [
       "<Figure size 1152x288 with 0 Axes>"
      ]
     },
     "metadata": {},
     "output_type": "display_data"
    },
    {
     "data": {
      "text/plain": [
       "<Figure size 1152x288 with 0 Axes>"
      ]
     },
     "metadata": {},
     "output_type": "display_data"
    },
    {
     "data": {
      "text/plain": [
       "<Figure size 1152x288 with 0 Axes>"
      ]
     },
     "metadata": {},
     "output_type": "display_data"
    },
    {
     "data": {
      "text/plain": [
       "<Figure size 1152x288 with 0 Axes>"
      ]
     },
     "metadata": {},
     "output_type": "display_data"
    },
    {
     "data": {
      "text/plain": [
       "<Figure size 1152x288 with 0 Axes>"
      ]
     },
     "metadata": {},
     "output_type": "display_data"
    },
    {
     "data": {
      "text/plain": [
       "<Figure size 1152x288 with 0 Axes>"
      ]
     },
     "metadata": {},
     "output_type": "display_data"
    },
    {
     "data": {
      "text/plain": [
       "<Figure size 1152x288 with 0 Axes>"
      ]
     },
     "metadata": {},
     "output_type": "display_data"
    },
    {
     "data": {
      "text/plain": [
       "<Figure size 1152x288 with 0 Axes>"
      ]
     },
     "metadata": {},
     "output_type": "display_data"
    },
    {
     "data": {
      "text/plain": [
       "<Figure size 1152x288 with 0 Axes>"
      ]
     },
     "metadata": {},
     "output_type": "display_data"
    },
    {
     "data": {
      "text/plain": [
       "<Figure size 1152x288 with 0 Axes>"
      ]
     },
     "metadata": {},
     "output_type": "display_data"
    },
    {
     "data": {
      "text/plain": [
       "<Figure size 1152x288 with 0 Axes>"
      ]
     },
     "metadata": {},
     "output_type": "display_data"
    },
    {
     "data": {
      "text/plain": [
       "<Figure size 1152x288 with 0 Axes>"
      ]
     },
     "metadata": {},
     "output_type": "display_data"
    },
    {
     "data": {
      "text/plain": [
       "<Figure size 1152x288 with 0 Axes>"
      ]
     },
     "metadata": {},
     "output_type": "display_data"
    },
    {
     "data": {
      "text/plain": [
       "<Figure size 1152x288 with 0 Axes>"
      ]
     },
     "metadata": {},
     "output_type": "display_data"
    },
    {
     "data": {
      "text/plain": [
       "<Figure size 1152x288 with 0 Axes>"
      ]
     },
     "metadata": {},
     "output_type": "display_data"
    },
    {
     "data": {
      "text/plain": [
       "<Figure size 1152x288 with 0 Axes>"
      ]
     },
     "metadata": {},
     "output_type": "display_data"
    },
    {
     "data": {
      "text/plain": [
       "<Figure size 1152x288 with 0 Axes>"
      ]
     },
     "metadata": {},
     "output_type": "display_data"
    },
    {
     "data": {
      "text/plain": [
       "<Figure size 1152x288 with 0 Axes>"
      ]
     },
     "metadata": {},
     "output_type": "display_data"
    },
    {
     "data": {
      "text/plain": [
       "<Figure size 1152x288 with 0 Axes>"
      ]
     },
     "metadata": {},
     "output_type": "display_data"
    },
    {
     "data": {
      "text/plain": [
       "<Figure size 1152x288 with 0 Axes>"
      ]
     },
     "metadata": {},
     "output_type": "display_data"
    },
    {
     "data": {
      "text/plain": [
       "<Figure size 1152x288 with 0 Axes>"
      ]
     },
     "metadata": {},
     "output_type": "display_data"
    },
    {
     "data": {
      "text/plain": [
       "<Figure size 1152x288 with 0 Axes>"
      ]
     },
     "metadata": {},
     "output_type": "display_data"
    },
    {
     "data": {
      "text/plain": [
       "<Figure size 1152x288 with 0 Axes>"
      ]
     },
     "metadata": {},
     "output_type": "display_data"
    },
    {
     "data": {
      "text/plain": [
       "<Figure size 1152x288 with 0 Axes>"
      ]
     },
     "metadata": {},
     "output_type": "display_data"
    },
    {
     "data": {
      "text/plain": [
       "<Figure size 1152x288 with 0 Axes>"
      ]
     },
     "metadata": {},
     "output_type": "display_data"
    },
    {
     "data": {
      "text/plain": [
       "<Figure size 1152x288 with 0 Axes>"
      ]
     },
     "metadata": {},
     "output_type": "display_data"
    },
    {
     "data": {
      "text/plain": [
       "<Figure size 1152x288 with 0 Axes>"
      ]
     },
     "metadata": {},
     "output_type": "display_data"
    },
    {
     "data": {
      "text/plain": [
       "<Figure size 1152x288 with 0 Axes>"
      ]
     },
     "metadata": {},
     "output_type": "display_data"
    },
    {
     "data": {
      "text/plain": [
       "<Figure size 1152x288 with 0 Axes>"
      ]
     },
     "metadata": {},
     "output_type": "display_data"
    },
    {
     "data": {
      "text/plain": [
       "<Figure size 1152x288 with 0 Axes>"
      ]
     },
     "metadata": {},
     "output_type": "display_data"
    },
    {
     "data": {
      "text/plain": [
       "<Figure size 1152x288 with 0 Axes>"
      ]
     },
     "metadata": {},
     "output_type": "display_data"
    },
    {
     "data": {
      "text/plain": [
       "<Figure size 1152x288 with 0 Axes>"
      ]
     },
     "metadata": {},
     "output_type": "display_data"
    },
    {
     "data": {
      "text/plain": [
       "<Figure size 1152x288 with 0 Axes>"
      ]
     },
     "metadata": {},
     "output_type": "display_data"
    },
    {
     "data": {
      "text/plain": [
       "<Figure size 1152x288 with 0 Axes>"
      ]
     },
     "metadata": {},
     "output_type": "display_data"
    },
    {
     "data": {
      "text/plain": [
       "<Figure size 1152x288 with 0 Axes>"
      ]
     },
     "metadata": {},
     "output_type": "display_data"
    },
    {
     "data": {
      "text/plain": [
       "<Figure size 1152x288 with 0 Axes>"
      ]
     },
     "metadata": {},
     "output_type": "display_data"
    },
    {
     "data": {
      "text/plain": [
       "<Figure size 1152x288 with 0 Axes>"
      ]
     },
     "metadata": {},
     "output_type": "display_data"
    },
    {
     "data": {
      "text/plain": [
       "<Figure size 1152x288 with 0 Axes>"
      ]
     },
     "metadata": {},
     "output_type": "display_data"
    },
    {
     "data": {
      "text/plain": [
       "<Figure size 1152x288 with 0 Axes>"
      ]
     },
     "metadata": {},
     "output_type": "display_data"
    },
    {
     "data": {
      "text/plain": [
       "<Figure size 1152x288 with 0 Axes>"
      ]
     },
     "metadata": {},
     "output_type": "display_data"
    },
    {
     "data": {
      "text/plain": [
       "<Figure size 1152x288 with 0 Axes>"
      ]
     },
     "metadata": {},
     "output_type": "display_data"
    },
    {
     "data": {
      "text/plain": [
       "<Figure size 1152x288 with 0 Axes>"
      ]
     },
     "metadata": {},
     "output_type": "display_data"
    },
    {
     "data": {
      "text/plain": [
       "<Figure size 1152x288 with 0 Axes>"
      ]
     },
     "metadata": {},
     "output_type": "display_data"
    },
    {
     "data": {
      "text/plain": [
       "<Figure size 1152x288 with 0 Axes>"
      ]
     },
     "metadata": {},
     "output_type": "display_data"
    },
    {
     "data": {
      "text/plain": [
       "<Figure size 1152x288 with 0 Axes>"
      ]
     },
     "metadata": {},
     "output_type": "display_data"
    },
    {
     "data": {
      "text/plain": [
       "<Figure size 1152x288 with 0 Axes>"
      ]
     },
     "metadata": {},
     "output_type": "display_data"
    },
    {
     "data": {
      "text/plain": [
       "<Figure size 1152x288 with 0 Axes>"
      ]
     },
     "metadata": {},
     "output_type": "display_data"
    },
    {
     "data": {
      "text/plain": [
       "<Figure size 1152x288 with 0 Axes>"
      ]
     },
     "metadata": {},
     "output_type": "display_data"
    },
    {
     "data": {
      "text/plain": [
       "<Figure size 1152x288 with 0 Axes>"
      ]
     },
     "metadata": {},
     "output_type": "display_data"
    },
    {
     "data": {
      "text/plain": [
       "<Figure size 1152x288 with 0 Axes>"
      ]
     },
     "metadata": {},
     "output_type": "display_data"
    },
    {
     "data": {
      "text/plain": [
       "<Figure size 1152x288 with 0 Axes>"
      ]
     },
     "metadata": {},
     "output_type": "display_data"
    },
    {
     "data": {
      "text/plain": [
       "<Figure size 1152x288 with 0 Axes>"
      ]
     },
     "metadata": {},
     "output_type": "display_data"
    },
    {
     "data": {
      "text/plain": [
       "<Figure size 1152x288 with 0 Axes>"
      ]
     },
     "metadata": {},
     "output_type": "display_data"
    },
    {
     "data": {
      "text/plain": [
       "<Figure size 1152x288 with 0 Axes>"
      ]
     },
     "metadata": {},
     "output_type": "display_data"
    },
    {
     "data": {
      "text/plain": [
       "<Figure size 1152x288 with 0 Axes>"
      ]
     },
     "metadata": {},
     "output_type": "display_data"
    },
    {
     "data": {
      "text/plain": [
       "<Figure size 1152x288 with 0 Axes>"
      ]
     },
     "metadata": {},
     "output_type": "display_data"
    },
    {
     "data": {
      "text/plain": [
       "<Figure size 1152x288 with 0 Axes>"
      ]
     },
     "metadata": {},
     "output_type": "display_data"
    },
    {
     "data": {
      "text/plain": [
       "<Figure size 1152x288 with 0 Axes>"
      ]
     },
     "metadata": {},
     "output_type": "display_data"
    },
    {
     "data": {
      "text/plain": [
       "<Figure size 1152x288 with 0 Axes>"
      ]
     },
     "metadata": {},
     "output_type": "display_data"
    },
    {
     "data": {
      "text/plain": [
       "<Figure size 1152x288 with 0 Axes>"
      ]
     },
     "metadata": {},
     "output_type": "display_data"
    },
    {
     "data": {
      "text/plain": [
       "<Figure size 1152x288 with 0 Axes>"
      ]
     },
     "metadata": {},
     "output_type": "display_data"
    },
    {
     "data": {
      "text/plain": [
       "<Figure size 1152x288 with 0 Axes>"
      ]
     },
     "metadata": {},
     "output_type": "display_data"
    },
    {
     "data": {
      "text/plain": [
       "<Figure size 1152x288 with 0 Axes>"
      ]
     },
     "metadata": {},
     "output_type": "display_data"
    },
    {
     "data": {
      "text/plain": [
       "<Figure size 1152x288 with 0 Axes>"
      ]
     },
     "metadata": {},
     "output_type": "display_data"
    },
    {
     "data": {
      "text/plain": [
       "<Figure size 1152x288 with 0 Axes>"
      ]
     },
     "metadata": {},
     "output_type": "display_data"
    },
    {
     "data": {
      "text/plain": [
       "<Figure size 1152x288 with 0 Axes>"
      ]
     },
     "metadata": {},
     "output_type": "display_data"
    },
    {
     "data": {
      "text/plain": [
       "<Figure size 1152x288 with 0 Axes>"
      ]
     },
     "metadata": {},
     "output_type": "display_data"
    },
    {
     "data": {
      "text/plain": [
       "<Figure size 1152x288 with 0 Axes>"
      ]
     },
     "metadata": {},
     "output_type": "display_data"
    },
    {
     "data": {
      "text/plain": [
       "<Figure size 1152x288 with 0 Axes>"
      ]
     },
     "metadata": {},
     "output_type": "display_data"
    },
    {
     "data": {
      "text/plain": [
       "<Figure size 1152x288 with 0 Axes>"
      ]
     },
     "metadata": {},
     "output_type": "display_data"
    },
    {
     "data": {
      "text/plain": [
       "<Figure size 1152x288 with 0 Axes>"
      ]
     },
     "metadata": {},
     "output_type": "display_data"
    },
    {
     "data": {
      "text/plain": [
       "<Figure size 1152x288 with 0 Axes>"
      ]
     },
     "metadata": {},
     "output_type": "display_data"
    },
    {
     "data": {
      "text/plain": [
       "<Figure size 1152x288 with 0 Axes>"
      ]
     },
     "metadata": {},
     "output_type": "display_data"
    },
    {
     "data": {
      "text/plain": [
       "<Figure size 1152x288 with 0 Axes>"
      ]
     },
     "metadata": {},
     "output_type": "display_data"
    },
    {
     "data": {
      "text/plain": [
       "<Figure size 1152x288 with 0 Axes>"
      ]
     },
     "metadata": {},
     "output_type": "display_data"
    },
    {
     "data": {
      "text/plain": [
       "<Figure size 1152x288 with 0 Axes>"
      ]
     },
     "metadata": {},
     "output_type": "display_data"
    },
    {
     "data": {
      "text/plain": [
       "<Figure size 1152x288 with 0 Axes>"
      ]
     },
     "metadata": {},
     "output_type": "display_data"
    },
    {
     "data": {
      "text/plain": [
       "<Figure size 1152x288 with 0 Axes>"
      ]
     },
     "metadata": {},
     "output_type": "display_data"
    },
    {
     "data": {
      "text/plain": [
       "<Figure size 1152x288 with 0 Axes>"
      ]
     },
     "metadata": {},
     "output_type": "display_data"
    },
    {
     "data": {
      "text/plain": [
       "<Figure size 1152x288 with 0 Axes>"
      ]
     },
     "metadata": {},
     "output_type": "display_data"
    },
    {
     "data": {
      "text/plain": [
       "<Figure size 1152x288 with 0 Axes>"
      ]
     },
     "metadata": {},
     "output_type": "display_data"
    },
    {
     "data": {
      "text/plain": [
       "<Figure size 1152x288 with 0 Axes>"
      ]
     },
     "metadata": {},
     "output_type": "display_data"
    },
    {
     "data": {
      "text/plain": [
       "<Figure size 1152x288 with 0 Axes>"
      ]
     },
     "metadata": {},
     "output_type": "display_data"
    },
    {
     "data": {
      "text/plain": [
       "<Figure size 1152x288 with 0 Axes>"
      ]
     },
     "metadata": {},
     "output_type": "display_data"
    },
    {
     "data": {
      "text/plain": [
       "<Figure size 1152x288 with 0 Axes>"
      ]
     },
     "metadata": {},
     "output_type": "display_data"
    },
    {
     "data": {
      "text/plain": [
       "<Figure size 1152x288 with 0 Axes>"
      ]
     },
     "metadata": {},
     "output_type": "display_data"
    },
    {
     "data": {
      "text/plain": [
       "<Figure size 1152x288 with 0 Axes>"
      ]
     },
     "metadata": {},
     "output_type": "display_data"
    },
    {
     "data": {
      "text/plain": [
       "<Figure size 1152x288 with 0 Axes>"
      ]
     },
     "metadata": {},
     "output_type": "display_data"
    },
    {
     "data": {
      "text/plain": [
       "<Figure size 1152x288 with 0 Axes>"
      ]
     },
     "metadata": {},
     "output_type": "display_data"
    },
    {
     "data": {
      "text/plain": [
       "<Figure size 1152x288 with 0 Axes>"
      ]
     },
     "metadata": {},
     "output_type": "display_data"
    },
    {
     "data": {
      "text/plain": [
       "<Figure size 1152x288 with 0 Axes>"
      ]
     },
     "metadata": {},
     "output_type": "display_data"
    },
    {
     "data": {
      "text/plain": [
       "<Figure size 1152x288 with 0 Axes>"
      ]
     },
     "metadata": {},
     "output_type": "display_data"
    },
    {
     "data": {
      "text/plain": [
       "<Figure size 1152x288 with 0 Axes>"
      ]
     },
     "metadata": {},
     "output_type": "display_data"
    },
    {
     "data": {
      "text/plain": [
       "<Figure size 1152x288 with 0 Axes>"
      ]
     },
     "metadata": {},
     "output_type": "display_data"
    },
    {
     "data": {
      "text/plain": [
       "<Figure size 1152x288 with 0 Axes>"
      ]
     },
     "metadata": {},
     "output_type": "display_data"
    },
    {
     "data": {
      "text/plain": [
       "<Figure size 1152x288 with 0 Axes>"
      ]
     },
     "metadata": {},
     "output_type": "display_data"
    },
    {
     "data": {
      "text/plain": [
       "<Figure size 1152x288 with 0 Axes>"
      ]
     },
     "metadata": {},
     "output_type": "display_data"
    },
    {
     "data": {
      "text/plain": [
       "<Figure size 1152x288 with 0 Axes>"
      ]
     },
     "metadata": {},
     "output_type": "display_data"
    },
    {
     "data": {
      "text/plain": [
       "<Figure size 1152x288 with 0 Axes>"
      ]
     },
     "metadata": {},
     "output_type": "display_data"
    },
    {
     "data": {
      "text/plain": [
       "<Figure size 1152x288 with 0 Axes>"
      ]
     },
     "metadata": {},
     "output_type": "display_data"
    },
    {
     "data": {
      "text/plain": [
       "<Figure size 1152x288 with 0 Axes>"
      ]
     },
     "metadata": {},
     "output_type": "display_data"
    },
    {
     "data": {
      "text/plain": [
       "<Figure size 1152x288 with 0 Axes>"
      ]
     },
     "metadata": {},
     "output_type": "display_data"
    },
    {
     "data": {
      "text/plain": [
       "<Figure size 1152x288 with 0 Axes>"
      ]
     },
     "metadata": {},
     "output_type": "display_data"
    },
    {
     "data": {
      "text/plain": [
       "<Figure size 1152x288 with 0 Axes>"
      ]
     },
     "metadata": {},
     "output_type": "display_data"
    },
    {
     "data": {
      "text/plain": [
       "<Figure size 1152x288 with 0 Axes>"
      ]
     },
     "metadata": {},
     "output_type": "display_data"
    },
    {
     "data": {
      "text/plain": [
       "<Figure size 1152x288 with 0 Axes>"
      ]
     },
     "metadata": {},
     "output_type": "display_data"
    },
    {
     "data": {
      "text/plain": [
       "<Figure size 1152x288 with 0 Axes>"
      ]
     },
     "metadata": {},
     "output_type": "display_data"
    },
    {
     "data": {
      "text/plain": [
       "<Figure size 1152x288 with 0 Axes>"
      ]
     },
     "metadata": {},
     "output_type": "display_data"
    },
    {
     "data": {
      "text/plain": [
       "<Figure size 1152x288 with 0 Axes>"
      ]
     },
     "metadata": {},
     "output_type": "display_data"
    },
    {
     "data": {
      "text/plain": [
       "<Figure size 1152x288 with 0 Axes>"
      ]
     },
     "metadata": {},
     "output_type": "display_data"
    },
    {
     "data": {
      "text/plain": [
       "<Figure size 1152x288 with 0 Axes>"
      ]
     },
     "metadata": {},
     "output_type": "display_data"
    },
    {
     "data": {
      "text/plain": [
       "<Figure size 1152x288 with 0 Axes>"
      ]
     },
     "metadata": {},
     "output_type": "display_data"
    },
    {
     "data": {
      "text/plain": [
       "<Figure size 1152x288 with 0 Axes>"
      ]
     },
     "metadata": {},
     "output_type": "display_data"
    },
    {
     "data": {
      "text/plain": [
       "<Figure size 1152x288 with 0 Axes>"
      ]
     },
     "metadata": {},
     "output_type": "display_data"
    },
    {
     "data": {
      "text/plain": [
       "<Figure size 1152x288 with 0 Axes>"
      ]
     },
     "metadata": {},
     "output_type": "display_data"
    },
    {
     "data": {
      "text/plain": [
       "<Figure size 1152x288 with 0 Axes>"
      ]
     },
     "metadata": {},
     "output_type": "display_data"
    },
    {
     "data": {
      "text/plain": [
       "<Figure size 1152x288 with 0 Axes>"
      ]
     },
     "metadata": {},
     "output_type": "display_data"
    },
    {
     "data": {
      "text/plain": [
       "<Figure size 1152x288 with 0 Axes>"
      ]
     },
     "metadata": {},
     "output_type": "display_data"
    },
    {
     "data": {
      "text/plain": [
       "<Figure size 1152x288 with 0 Axes>"
      ]
     },
     "metadata": {},
     "output_type": "display_data"
    },
    {
     "data": {
      "text/plain": [
       "<Figure size 1152x288 with 0 Axes>"
      ]
     },
     "metadata": {},
     "output_type": "display_data"
    },
    {
     "data": {
      "text/plain": [
       "<Figure size 1152x288 with 0 Axes>"
      ]
     },
     "metadata": {},
     "output_type": "display_data"
    },
    {
     "data": {
      "text/plain": [
       "<Figure size 1152x288 with 0 Axes>"
      ]
     },
     "metadata": {},
     "output_type": "display_data"
    },
    {
     "data": {
      "text/plain": [
       "<Figure size 1152x288 with 0 Axes>"
      ]
     },
     "metadata": {},
     "output_type": "display_data"
    },
    {
     "data": {
      "text/plain": [
       "<Figure size 1152x288 with 0 Axes>"
      ]
     },
     "metadata": {},
     "output_type": "display_data"
    },
    {
     "data": {
      "text/plain": [
       "<Figure size 1152x288 with 0 Axes>"
      ]
     },
     "metadata": {},
     "output_type": "display_data"
    },
    {
     "data": {
      "text/plain": [
       "<Figure size 1152x288 with 0 Axes>"
      ]
     },
     "metadata": {},
     "output_type": "display_data"
    },
    {
     "data": {
      "text/plain": [
       "<Figure size 1152x288 with 0 Axes>"
      ]
     },
     "metadata": {},
     "output_type": "display_data"
    },
    {
     "data": {
      "text/plain": [
       "<Figure size 1152x288 with 0 Axes>"
      ]
     },
     "metadata": {},
     "output_type": "display_data"
    },
    {
     "data": {
      "text/plain": [
       "<Figure size 1152x288 with 0 Axes>"
      ]
     },
     "metadata": {},
     "output_type": "display_data"
    },
    {
     "data": {
      "text/plain": [
       "<Figure size 1152x288 with 0 Axes>"
      ]
     },
     "metadata": {},
     "output_type": "display_data"
    },
    {
     "data": {
      "text/plain": [
       "<Figure size 1152x288 with 0 Axes>"
      ]
     },
     "metadata": {},
     "output_type": "display_data"
    },
    {
     "data": {
      "text/plain": [
       "<Figure size 1152x288 with 0 Axes>"
      ]
     },
     "metadata": {},
     "output_type": "display_data"
    },
    {
     "data": {
      "text/plain": [
       "<Figure size 1152x288 with 0 Axes>"
      ]
     },
     "metadata": {},
     "output_type": "display_data"
    },
    {
     "data": {
      "text/plain": [
       "<Figure size 1152x288 with 0 Axes>"
      ]
     },
     "metadata": {},
     "output_type": "display_data"
    },
    {
     "data": {
      "text/plain": [
       "<Figure size 1152x288 with 0 Axes>"
      ]
     },
     "metadata": {},
     "output_type": "display_data"
    },
    {
     "data": {
      "text/plain": [
       "<Figure size 1152x288 with 0 Axes>"
      ]
     },
     "metadata": {},
     "output_type": "display_data"
    },
    {
     "data": {
      "text/plain": [
       "<Figure size 1152x288 with 0 Axes>"
      ]
     },
     "metadata": {},
     "output_type": "display_data"
    },
    {
     "data": {
      "text/plain": [
       "<Figure size 1152x288 with 0 Axes>"
      ]
     },
     "metadata": {},
     "output_type": "display_data"
    },
    {
     "data": {
      "text/plain": [
       "<Figure size 1152x288 with 0 Axes>"
      ]
     },
     "metadata": {},
     "output_type": "display_data"
    },
    {
     "data": {
      "text/plain": [
       "<Figure size 1152x288 with 0 Axes>"
      ]
     },
     "metadata": {},
     "output_type": "display_data"
    },
    {
     "data": {
      "text/plain": [
       "<Figure size 1152x288 with 0 Axes>"
      ]
     },
     "metadata": {},
     "output_type": "display_data"
    },
    {
     "data": {
      "text/plain": [
       "<Figure size 1152x288 with 0 Axes>"
      ]
     },
     "metadata": {},
     "output_type": "display_data"
    },
    {
     "data": {
      "text/plain": [
       "<Figure size 1152x288 with 0 Axes>"
      ]
     },
     "metadata": {},
     "output_type": "display_data"
    },
    {
     "data": {
      "text/plain": [
       "<Figure size 1152x288 with 0 Axes>"
      ]
     },
     "metadata": {},
     "output_type": "display_data"
    },
    {
     "data": {
      "text/plain": [
       "<Figure size 1152x288 with 0 Axes>"
      ]
     },
     "metadata": {},
     "output_type": "display_data"
    },
    {
     "data": {
      "text/plain": [
       "<Figure size 1152x288 with 0 Axes>"
      ]
     },
     "metadata": {},
     "output_type": "display_data"
    },
    {
     "data": {
      "text/plain": [
       "<Figure size 1152x288 with 0 Axes>"
      ]
     },
     "metadata": {},
     "output_type": "display_data"
    },
    {
     "data": {
      "text/plain": [
       "<Figure size 1152x288 with 0 Axes>"
      ]
     },
     "metadata": {},
     "output_type": "display_data"
    },
    {
     "data": {
      "text/plain": [
       "<Figure size 1152x288 with 0 Axes>"
      ]
     },
     "metadata": {},
     "output_type": "display_data"
    },
    {
     "data": {
      "text/plain": [
       "<Figure size 1152x288 with 0 Axes>"
      ]
     },
     "metadata": {},
     "output_type": "display_data"
    },
    {
     "data": {
      "text/plain": [
       "<Figure size 1152x288 with 0 Axes>"
      ]
     },
     "metadata": {},
     "output_type": "display_data"
    },
    {
     "data": {
      "text/plain": [
       "<Figure size 1152x288 with 0 Axes>"
      ]
     },
     "metadata": {},
     "output_type": "display_data"
    },
    {
     "data": {
      "text/plain": [
       "<Figure size 1152x288 with 0 Axes>"
      ]
     },
     "metadata": {},
     "output_type": "display_data"
    },
    {
     "data": {
      "text/plain": [
       "<Figure size 1152x288 with 0 Axes>"
      ]
     },
     "metadata": {},
     "output_type": "display_data"
    },
    {
     "data": {
      "text/plain": [
       "<Figure size 1152x288 with 0 Axes>"
      ]
     },
     "metadata": {},
     "output_type": "display_data"
    },
    {
     "data": {
      "text/plain": [
       "<Figure size 1152x288 with 0 Axes>"
      ]
     },
     "metadata": {},
     "output_type": "display_data"
    },
    {
     "data": {
      "text/plain": [
       "<Figure size 1152x288 with 0 Axes>"
      ]
     },
     "metadata": {},
     "output_type": "display_data"
    },
    {
     "data": {
      "text/plain": [
       "<Figure size 1152x288 with 0 Axes>"
      ]
     },
     "metadata": {},
     "output_type": "display_data"
    },
    {
     "data": {
      "text/plain": [
       "<Figure size 1152x288 with 0 Axes>"
      ]
     },
     "metadata": {},
     "output_type": "display_data"
    },
    {
     "data": {
      "text/plain": [
       "<Figure size 1152x288 with 0 Axes>"
      ]
     },
     "metadata": {},
     "output_type": "display_data"
    },
    {
     "data": {
      "text/plain": [
       "<Figure size 1152x288 with 0 Axes>"
      ]
     },
     "metadata": {},
     "output_type": "display_data"
    },
    {
     "data": {
      "text/plain": [
       "<Figure size 1152x288 with 0 Axes>"
      ]
     },
     "metadata": {},
     "output_type": "display_data"
    },
    {
     "data": {
      "text/plain": [
       "<Figure size 1152x288 with 0 Axes>"
      ]
     },
     "metadata": {},
     "output_type": "display_data"
    },
    {
     "data": {
      "text/plain": [
       "<Figure size 1152x288 with 0 Axes>"
      ]
     },
     "metadata": {},
     "output_type": "display_data"
    },
    {
     "data": {
      "text/plain": [
       "<Figure size 1152x288 with 0 Axes>"
      ]
     },
     "metadata": {},
     "output_type": "display_data"
    },
    {
     "data": {
      "text/plain": [
       "<Figure size 1152x288 with 0 Axes>"
      ]
     },
     "metadata": {},
     "output_type": "display_data"
    },
    {
     "data": {
      "text/plain": [
       "<Figure size 1152x288 with 0 Axes>"
      ]
     },
     "metadata": {},
     "output_type": "display_data"
    },
    {
     "data": {
      "text/plain": [
       "<Figure size 1152x288 with 0 Axes>"
      ]
     },
     "metadata": {},
     "output_type": "display_data"
    },
    {
     "data": {
      "text/plain": [
       "<Figure size 1152x288 with 0 Axes>"
      ]
     },
     "metadata": {},
     "output_type": "display_data"
    },
    {
     "data": {
      "text/plain": [
       "<Figure size 1152x288 with 0 Axes>"
      ]
     },
     "metadata": {},
     "output_type": "display_data"
    },
    {
     "data": {
      "text/plain": [
       "<Figure size 1152x288 with 0 Axes>"
      ]
     },
     "metadata": {},
     "output_type": "display_data"
    },
    {
     "data": {
      "text/plain": [
       "<Figure size 1152x288 with 0 Axes>"
      ]
     },
     "metadata": {},
     "output_type": "display_data"
    },
    {
     "data": {
      "text/plain": [
       "<Figure size 1152x288 with 0 Axes>"
      ]
     },
     "metadata": {},
     "output_type": "display_data"
    },
    {
     "data": {
      "text/plain": [
       "<Figure size 1152x288 with 0 Axes>"
      ]
     },
     "metadata": {},
     "output_type": "display_data"
    },
    {
     "data": {
      "text/plain": [
       "<Figure size 1152x288 with 0 Axes>"
      ]
     },
     "metadata": {},
     "output_type": "display_data"
    },
    {
     "data": {
      "text/plain": [
       "<Figure size 1152x288 with 0 Axes>"
      ]
     },
     "metadata": {},
     "output_type": "display_data"
    },
    {
     "data": {
      "text/plain": [
       "<Figure size 1152x288 with 0 Axes>"
      ]
     },
     "metadata": {},
     "output_type": "display_data"
    },
    {
     "data": {
      "text/plain": [
       "<Figure size 1152x288 with 0 Axes>"
      ]
     },
     "metadata": {},
     "output_type": "display_data"
    },
    {
     "data": {
      "text/plain": [
       "<Figure size 1152x288 with 0 Axes>"
      ]
     },
     "metadata": {},
     "output_type": "display_data"
    },
    {
     "data": {
      "text/plain": [
       "<Figure size 1152x288 with 0 Axes>"
      ]
     },
     "metadata": {},
     "output_type": "display_data"
    },
    {
     "data": {
      "text/plain": [
       "<Figure size 1152x288 with 0 Axes>"
      ]
     },
     "metadata": {},
     "output_type": "display_data"
    },
    {
     "data": {
      "text/plain": [
       "<Figure size 1152x288 with 0 Axes>"
      ]
     },
     "metadata": {},
     "output_type": "display_data"
    },
    {
     "data": {
      "text/plain": [
       "<Figure size 1152x288 with 0 Axes>"
      ]
     },
     "metadata": {},
     "output_type": "display_data"
    },
    {
     "data": {
      "text/plain": [
       "<Figure size 1152x288 with 0 Axes>"
      ]
     },
     "metadata": {},
     "output_type": "display_data"
    },
    {
     "data": {
      "text/plain": [
       "<Figure size 1152x288 with 0 Axes>"
      ]
     },
     "metadata": {},
     "output_type": "display_data"
    },
    {
     "data": {
      "text/plain": [
       "<Figure size 1152x288 with 0 Axes>"
      ]
     },
     "metadata": {},
     "output_type": "display_data"
    },
    {
     "data": {
      "text/plain": [
       "<Figure size 1152x288 with 0 Axes>"
      ]
     },
     "metadata": {},
     "output_type": "display_data"
    },
    {
     "data": {
      "text/plain": [
       "<Figure size 1152x288 with 0 Axes>"
      ]
     },
     "metadata": {},
     "output_type": "display_data"
    },
    {
     "data": {
      "text/plain": [
       "<Figure size 1152x288 with 0 Axes>"
      ]
     },
     "metadata": {},
     "output_type": "display_data"
    },
    {
     "data": {
      "text/plain": [
       "<Figure size 1152x288 with 0 Axes>"
      ]
     },
     "metadata": {},
     "output_type": "display_data"
    },
    {
     "data": {
      "text/plain": [
       "<Figure size 1152x288 with 0 Axes>"
      ]
     },
     "metadata": {},
     "output_type": "display_data"
    },
    {
     "data": {
      "text/plain": [
       "<Figure size 1152x288 with 0 Axes>"
      ]
     },
     "metadata": {},
     "output_type": "display_data"
    },
    {
     "data": {
      "text/plain": [
       "<Figure size 1152x288 with 0 Axes>"
      ]
     },
     "metadata": {},
     "output_type": "display_data"
    },
    {
     "data": {
      "text/plain": [
       "<Figure size 1152x288 with 0 Axes>"
      ]
     },
     "metadata": {},
     "output_type": "display_data"
    },
    {
     "data": {
      "text/plain": [
       "<Figure size 1152x288 with 0 Axes>"
      ]
     },
     "metadata": {},
     "output_type": "display_data"
    },
    {
     "data": {
      "text/plain": [
       "<Figure size 1152x288 with 0 Axes>"
      ]
     },
     "metadata": {},
     "output_type": "display_data"
    },
    {
     "data": {
      "text/plain": [
       "<Figure size 1152x288 with 0 Axes>"
      ]
     },
     "metadata": {},
     "output_type": "display_data"
    },
    {
     "data": {
      "text/plain": [
       "<Figure size 1152x288 with 0 Axes>"
      ]
     },
     "metadata": {},
     "output_type": "display_data"
    },
    {
     "data": {
      "text/plain": [
       "<Figure size 1152x288 with 0 Axes>"
      ]
     },
     "metadata": {},
     "output_type": "display_data"
    },
    {
     "data": {
      "text/plain": [
       "<Figure size 1152x288 with 0 Axes>"
      ]
     },
     "metadata": {},
     "output_type": "display_data"
    },
    {
     "data": {
      "text/plain": [
       "<Figure size 1152x288 with 0 Axes>"
      ]
     },
     "metadata": {},
     "output_type": "display_data"
    },
    {
     "data": {
      "text/plain": [
       "<Figure size 1152x288 with 0 Axes>"
      ]
     },
     "metadata": {},
     "output_type": "display_data"
    },
    {
     "data": {
      "text/plain": [
       "<Figure size 1152x288 with 0 Axes>"
      ]
     },
     "metadata": {},
     "output_type": "display_data"
    },
    {
     "data": {
      "text/plain": [
       "<Figure size 1152x288 with 0 Axes>"
      ]
     },
     "metadata": {},
     "output_type": "display_data"
    },
    {
     "data": {
      "text/plain": [
       "<Figure size 1152x288 with 0 Axes>"
      ]
     },
     "metadata": {},
     "output_type": "display_data"
    },
    {
     "data": {
      "text/plain": [
       "<Figure size 1152x288 with 0 Axes>"
      ]
     },
     "metadata": {},
     "output_type": "display_data"
    },
    {
     "data": {
      "text/plain": [
       "<Figure size 1152x288 with 0 Axes>"
      ]
     },
     "metadata": {},
     "output_type": "display_data"
    },
    {
     "data": {
      "text/plain": [
       "<Figure size 1152x288 with 0 Axes>"
      ]
     },
     "metadata": {},
     "output_type": "display_data"
    },
    {
     "data": {
      "text/plain": [
       "<Figure size 1152x288 with 0 Axes>"
      ]
     },
     "metadata": {},
     "output_type": "display_data"
    },
    {
     "data": {
      "text/plain": [
       "<Figure size 1152x288 with 0 Axes>"
      ]
     },
     "metadata": {},
     "output_type": "display_data"
    },
    {
     "data": {
      "text/plain": [
       "<Figure size 1152x288 with 0 Axes>"
      ]
     },
     "metadata": {},
     "output_type": "display_data"
    },
    {
     "data": {
      "text/plain": [
       "<Figure size 1152x288 with 0 Axes>"
      ]
     },
     "metadata": {},
     "output_type": "display_data"
    },
    {
     "data": {
      "text/plain": [
       "<Figure size 1152x288 with 0 Axes>"
      ]
     },
     "metadata": {},
     "output_type": "display_data"
    },
    {
     "data": {
      "text/plain": [
       "<Figure size 1152x288 with 0 Axes>"
      ]
     },
     "metadata": {},
     "output_type": "display_data"
    },
    {
     "data": {
      "text/plain": [
       "<Figure size 1152x288 with 0 Axes>"
      ]
     },
     "metadata": {},
     "output_type": "display_data"
    },
    {
     "data": {
      "text/plain": [
       "<Figure size 1152x288 with 0 Axes>"
      ]
     },
     "metadata": {},
     "output_type": "display_data"
    },
    {
     "data": {
      "text/plain": [
       "<Figure size 1152x288 with 0 Axes>"
      ]
     },
     "metadata": {},
     "output_type": "display_data"
    },
    {
     "data": {
      "text/plain": [
       "<Figure size 1152x288 with 0 Axes>"
      ]
     },
     "metadata": {},
     "output_type": "display_data"
    },
    {
     "data": {
      "text/plain": [
       "<Figure size 1152x288 with 0 Axes>"
      ]
     },
     "metadata": {},
     "output_type": "display_data"
    },
    {
     "data": {
      "text/plain": [
       "<Figure size 1152x288 with 0 Axes>"
      ]
     },
     "metadata": {},
     "output_type": "display_data"
    },
    {
     "data": {
      "text/plain": [
       "<Figure size 1152x288 with 0 Axes>"
      ]
     },
     "metadata": {},
     "output_type": "display_data"
    },
    {
     "data": {
      "text/plain": [
       "<Figure size 1152x288 with 0 Axes>"
      ]
     },
     "metadata": {},
     "output_type": "display_data"
    },
    {
     "data": {
      "text/plain": [
       "<Figure size 1152x288 with 0 Axes>"
      ]
     },
     "metadata": {},
     "output_type": "display_data"
    },
    {
     "data": {
      "text/plain": [
       "<Figure size 1152x288 with 0 Axes>"
      ]
     },
     "metadata": {},
     "output_type": "display_data"
    },
    {
     "data": {
      "text/plain": [
       "<Figure size 1152x288 with 0 Axes>"
      ]
     },
     "metadata": {},
     "output_type": "display_data"
    },
    {
     "data": {
      "text/plain": [
       "<Figure size 1152x288 with 0 Axes>"
      ]
     },
     "metadata": {},
     "output_type": "display_data"
    },
    {
     "data": {
      "text/plain": [
       "<Figure size 1152x288 with 0 Axes>"
      ]
     },
     "metadata": {},
     "output_type": "display_data"
    },
    {
     "data": {
      "text/plain": [
       "<Figure size 1152x288 with 0 Axes>"
      ]
     },
     "metadata": {},
     "output_type": "display_data"
    },
    {
     "data": {
      "text/plain": [
       "<Figure size 1152x288 with 0 Axes>"
      ]
     },
     "metadata": {},
     "output_type": "display_data"
    },
    {
     "data": {
      "text/plain": [
       "<Figure size 1152x288 with 0 Axes>"
      ]
     },
     "metadata": {},
     "output_type": "display_data"
    },
    {
     "data": {
      "text/plain": [
       "<Figure size 1152x288 with 0 Axes>"
      ]
     },
     "metadata": {},
     "output_type": "display_data"
    },
    {
     "data": {
      "text/plain": [
       "<Figure size 1152x288 with 0 Axes>"
      ]
     },
     "metadata": {},
     "output_type": "display_data"
    },
    {
     "data": {
      "text/plain": [
       "<Figure size 1152x288 with 0 Axes>"
      ]
     },
     "metadata": {},
     "output_type": "display_data"
    },
    {
     "data": {
      "text/plain": [
       "<Figure size 1152x288 with 0 Axes>"
      ]
     },
     "metadata": {},
     "output_type": "display_data"
    },
    {
     "data": {
      "text/plain": [
       "<Figure size 1152x288 with 0 Axes>"
      ]
     },
     "metadata": {},
     "output_type": "display_data"
    },
    {
     "data": {
      "text/plain": [
       "<Figure size 1152x288 with 0 Axes>"
      ]
     },
     "metadata": {},
     "output_type": "display_data"
    },
    {
     "data": {
      "text/plain": [
       "<Figure size 1152x288 with 0 Axes>"
      ]
     },
     "metadata": {},
     "output_type": "display_data"
    },
    {
     "data": {
      "text/plain": [
       "<Figure size 1152x288 with 0 Axes>"
      ]
     },
     "metadata": {},
     "output_type": "display_data"
    },
    {
     "data": {
      "text/plain": [
       "<Figure size 1152x288 with 0 Axes>"
      ]
     },
     "metadata": {},
     "output_type": "display_data"
    },
    {
     "data": {
      "text/plain": [
       "<Figure size 1152x288 with 0 Axes>"
      ]
     },
     "metadata": {},
     "output_type": "display_data"
    },
    {
     "data": {
      "text/plain": [
       "<Figure size 1152x288 with 0 Axes>"
      ]
     },
     "metadata": {},
     "output_type": "display_data"
    },
    {
     "data": {
      "text/plain": [
       "<Figure size 1152x288 with 0 Axes>"
      ]
     },
     "metadata": {},
     "output_type": "display_data"
    },
    {
     "data": {
      "text/plain": [
       "<Figure size 1152x288 with 0 Axes>"
      ]
     },
     "metadata": {},
     "output_type": "display_data"
    },
    {
     "data": {
      "text/plain": [
       "<Figure size 1152x288 with 0 Axes>"
      ]
     },
     "metadata": {},
     "output_type": "display_data"
    },
    {
     "data": {
      "text/plain": [
       "<Figure size 1152x288 with 0 Axes>"
      ]
     },
     "metadata": {},
     "output_type": "display_data"
    },
    {
     "data": {
      "text/plain": [
       "<Figure size 1152x288 with 0 Axes>"
      ]
     },
     "metadata": {},
     "output_type": "display_data"
    },
    {
     "data": {
      "text/plain": [
       "<Figure size 1152x288 with 0 Axes>"
      ]
     },
     "metadata": {},
     "output_type": "display_data"
    },
    {
     "data": {
      "text/plain": [
       "<Figure size 1152x288 with 0 Axes>"
      ]
     },
     "metadata": {},
     "output_type": "display_data"
    },
    {
     "data": {
      "text/plain": [
       "<Figure size 1152x288 with 0 Axes>"
      ]
     },
     "metadata": {},
     "output_type": "display_data"
    },
    {
     "data": {
      "text/plain": [
       "<Figure size 1152x288 with 0 Axes>"
      ]
     },
     "metadata": {},
     "output_type": "display_data"
    },
    {
     "data": {
      "text/plain": [
       "<Figure size 1152x288 with 0 Axes>"
      ]
     },
     "metadata": {},
     "output_type": "display_data"
    },
    {
     "data": {
      "text/plain": [
       "<Figure size 1152x288 with 0 Axes>"
      ]
     },
     "metadata": {},
     "output_type": "display_data"
    },
    {
     "data": {
      "text/plain": [
       "<Figure size 1152x288 with 0 Axes>"
      ]
     },
     "metadata": {},
     "output_type": "display_data"
    },
    {
     "data": {
      "text/plain": [
       "<Figure size 1152x288 with 0 Axes>"
      ]
     },
     "metadata": {},
     "output_type": "display_data"
    },
    {
     "data": {
      "text/plain": [
       "<Figure size 1152x288 with 0 Axes>"
      ]
     },
     "metadata": {},
     "output_type": "display_data"
    },
    {
     "data": {
      "text/plain": [
       "<Figure size 1152x288 with 0 Axes>"
      ]
     },
     "metadata": {},
     "output_type": "display_data"
    },
    {
     "data": {
      "text/plain": [
       "<Figure size 1152x288 with 0 Axes>"
      ]
     },
     "metadata": {},
     "output_type": "display_data"
    },
    {
     "data": {
      "text/plain": [
       "<Figure size 1152x288 with 0 Axes>"
      ]
     },
     "metadata": {},
     "output_type": "display_data"
    },
    {
     "data": {
      "text/plain": [
       "<Figure size 1152x288 with 0 Axes>"
      ]
     },
     "metadata": {},
     "output_type": "display_data"
    },
    {
     "data": {
      "text/plain": [
       "<Figure size 1152x288 with 0 Axes>"
      ]
     },
     "metadata": {},
     "output_type": "display_data"
    },
    {
     "data": {
      "text/plain": [
       "<Figure size 1152x288 with 0 Axes>"
      ]
     },
     "metadata": {},
     "output_type": "display_data"
    },
    {
     "data": {
      "text/plain": [
       "<Figure size 1152x288 with 0 Axes>"
      ]
     },
     "metadata": {},
     "output_type": "display_data"
    },
    {
     "data": {
      "text/plain": [
       "<Figure size 1152x288 with 0 Axes>"
      ]
     },
     "metadata": {},
     "output_type": "display_data"
    },
    {
     "data": {
      "text/plain": [
       "<Figure size 1152x288 with 0 Axes>"
      ]
     },
     "metadata": {},
     "output_type": "display_data"
    },
    {
     "data": {
      "text/plain": [
       "<Figure size 1152x288 with 0 Axes>"
      ]
     },
     "metadata": {},
     "output_type": "display_data"
    },
    {
     "data": {
      "text/plain": [
       "<Figure size 1152x288 with 0 Axes>"
      ]
     },
     "metadata": {},
     "output_type": "display_data"
    },
    {
     "data": {
      "text/plain": [
       "<Figure size 1152x288 with 0 Axes>"
      ]
     },
     "metadata": {},
     "output_type": "display_data"
    },
    {
     "data": {
      "text/plain": [
       "<Figure size 1152x288 with 0 Axes>"
      ]
     },
     "metadata": {},
     "output_type": "display_data"
    },
    {
     "data": {
      "text/plain": [
       "<Figure size 1152x288 with 0 Axes>"
      ]
     },
     "metadata": {},
     "output_type": "display_data"
    },
    {
     "data": {
      "text/plain": [
       "<Figure size 1152x288 with 0 Axes>"
      ]
     },
     "metadata": {},
     "output_type": "display_data"
    },
    {
     "data": {
      "text/plain": [
       "<Figure size 1152x288 with 0 Axes>"
      ]
     },
     "metadata": {},
     "output_type": "display_data"
    },
    {
     "data": {
      "text/plain": [
       "<Figure size 1152x288 with 0 Axes>"
      ]
     },
     "metadata": {},
     "output_type": "display_data"
    },
    {
     "data": {
      "text/plain": [
       "<Figure size 1152x288 with 0 Axes>"
      ]
     },
     "metadata": {},
     "output_type": "display_data"
    },
    {
     "data": {
      "text/plain": [
       "<Figure size 1152x288 with 0 Axes>"
      ]
     },
     "metadata": {},
     "output_type": "display_data"
    },
    {
     "data": {
      "text/plain": [
       "<Figure size 1152x288 with 0 Axes>"
      ]
     },
     "metadata": {},
     "output_type": "display_data"
    },
    {
     "data": {
      "text/plain": [
       "<Figure size 1152x288 with 0 Axes>"
      ]
     },
     "metadata": {},
     "output_type": "display_data"
    },
    {
     "data": {
      "text/plain": [
       "<Figure size 1152x288 with 0 Axes>"
      ]
     },
     "metadata": {},
     "output_type": "display_data"
    },
    {
     "data": {
      "text/plain": [
       "<Figure size 1152x288 with 0 Axes>"
      ]
     },
     "metadata": {},
     "output_type": "display_data"
    },
    {
     "data": {
      "text/plain": [
       "<Figure size 1152x288 with 0 Axes>"
      ]
     },
     "metadata": {},
     "output_type": "display_data"
    },
    {
     "data": {
      "text/plain": [
       "<Figure size 1152x288 with 0 Axes>"
      ]
     },
     "metadata": {},
     "output_type": "display_data"
    },
    {
     "data": {
      "text/plain": [
       "<Figure size 1152x288 with 0 Axes>"
      ]
     },
     "metadata": {},
     "output_type": "display_data"
    },
    {
     "data": {
      "text/plain": [
       "<Figure size 1152x288 with 0 Axes>"
      ]
     },
     "metadata": {},
     "output_type": "display_data"
    },
    {
     "data": {
      "text/plain": [
       "<Figure size 1152x288 with 0 Axes>"
      ]
     },
     "metadata": {},
     "output_type": "display_data"
    },
    {
     "data": {
      "text/plain": [
       "<Figure size 1152x288 with 0 Axes>"
      ]
     },
     "metadata": {},
     "output_type": "display_data"
    },
    {
     "data": {
      "text/plain": [
       "<Figure size 1152x288 with 0 Axes>"
      ]
     },
     "metadata": {},
     "output_type": "display_data"
    },
    {
     "data": {
      "text/plain": [
       "<Figure size 1152x288 with 0 Axes>"
      ]
     },
     "metadata": {},
     "output_type": "display_data"
    },
    {
     "data": {
      "text/plain": [
       "<Figure size 1152x288 with 0 Axes>"
      ]
     },
     "metadata": {},
     "output_type": "display_data"
    },
    {
     "data": {
      "text/plain": [
       "<Figure size 1152x288 with 0 Axes>"
      ]
     },
     "metadata": {},
     "output_type": "display_data"
    },
    {
     "data": {
      "text/plain": [
       "<Figure size 1152x288 with 0 Axes>"
      ]
     },
     "metadata": {},
     "output_type": "display_data"
    },
    {
     "data": {
      "text/plain": [
       "<Figure size 1152x288 with 0 Axes>"
      ]
     },
     "metadata": {},
     "output_type": "display_data"
    },
    {
     "data": {
      "text/plain": [
       "<Figure size 1152x288 with 0 Axes>"
      ]
     },
     "metadata": {},
     "output_type": "display_data"
    },
    {
     "data": {
      "text/plain": [
       "<Figure size 1152x288 with 0 Axes>"
      ]
     },
     "metadata": {},
     "output_type": "display_data"
    },
    {
     "data": {
      "text/plain": [
       "<Figure size 1152x288 with 0 Axes>"
      ]
     },
     "metadata": {},
     "output_type": "display_data"
    },
    {
     "data": {
      "text/plain": [
       "<Figure size 1152x288 with 0 Axes>"
      ]
     },
     "metadata": {},
     "output_type": "display_data"
    },
    {
     "data": {
      "text/plain": [
       "<Figure size 1152x288 with 0 Axes>"
      ]
     },
     "metadata": {},
     "output_type": "display_data"
    },
    {
     "data": {
      "text/plain": [
       "<Figure size 1152x288 with 0 Axes>"
      ]
     },
     "metadata": {},
     "output_type": "display_data"
    },
    {
     "data": {
      "text/plain": [
       "<Figure size 1152x288 with 0 Axes>"
      ]
     },
     "metadata": {},
     "output_type": "display_data"
    },
    {
     "data": {
      "text/plain": [
       "<Figure size 1152x288 with 0 Axes>"
      ]
     },
     "metadata": {},
     "output_type": "display_data"
    },
    {
     "data": {
      "text/plain": [
       "<Figure size 1152x288 with 0 Axes>"
      ]
     },
     "metadata": {},
     "output_type": "display_data"
    },
    {
     "data": {
      "text/plain": [
       "<Figure size 1152x288 with 0 Axes>"
      ]
     },
     "metadata": {},
     "output_type": "display_data"
    },
    {
     "data": {
      "text/plain": [
       "<Figure size 1152x288 with 0 Axes>"
      ]
     },
     "metadata": {},
     "output_type": "display_data"
    },
    {
     "data": {
      "text/plain": [
       "<Figure size 1152x288 with 0 Axes>"
      ]
     },
     "metadata": {},
     "output_type": "display_data"
    },
    {
     "data": {
      "text/plain": [
       "<Figure size 1152x288 with 0 Axes>"
      ]
     },
     "metadata": {},
     "output_type": "display_data"
    },
    {
     "data": {
      "text/plain": [
       "<Figure size 1152x288 with 0 Axes>"
      ]
     },
     "metadata": {},
     "output_type": "display_data"
    },
    {
     "data": {
      "text/plain": [
       "<Figure size 1152x288 with 0 Axes>"
      ]
     },
     "metadata": {},
     "output_type": "display_data"
    },
    {
     "data": {
      "text/plain": [
       "<Figure size 1152x288 with 0 Axes>"
      ]
     },
     "metadata": {},
     "output_type": "display_data"
    },
    {
     "data": {
      "text/plain": [
       "<Figure size 1152x288 with 0 Axes>"
      ]
     },
     "metadata": {},
     "output_type": "display_data"
    },
    {
     "data": {
      "text/plain": [
       "<Figure size 1152x288 with 0 Axes>"
      ]
     },
     "metadata": {},
     "output_type": "display_data"
    },
    {
     "data": {
      "text/plain": [
       "<Figure size 1152x288 with 0 Axes>"
      ]
     },
     "metadata": {},
     "output_type": "display_data"
    },
    {
     "data": {
      "text/plain": [
       "<Figure size 1152x288 with 0 Axes>"
      ]
     },
     "metadata": {},
     "output_type": "display_data"
    },
    {
     "data": {
      "text/plain": [
       "<Figure size 1152x288 with 0 Axes>"
      ]
     },
     "metadata": {},
     "output_type": "display_data"
    },
    {
     "data": {
      "text/plain": [
       "<Figure size 1152x288 with 0 Axes>"
      ]
     },
     "metadata": {},
     "output_type": "display_data"
    },
    {
     "data": {
      "text/plain": [
       "<Figure size 1152x288 with 0 Axes>"
      ]
     },
     "metadata": {},
     "output_type": "display_data"
    },
    {
     "data": {
      "text/plain": [
       "<Figure size 1152x288 with 0 Axes>"
      ]
     },
     "metadata": {},
     "output_type": "display_data"
    },
    {
     "data": {
      "text/plain": [
       "<Figure size 1152x288 with 0 Axes>"
      ]
     },
     "metadata": {},
     "output_type": "display_data"
    },
    {
     "data": {
      "text/plain": [
       "<Figure size 1152x288 with 0 Axes>"
      ]
     },
     "metadata": {},
     "output_type": "display_data"
    },
    {
     "data": {
      "text/plain": [
       "<Figure size 1152x288 with 0 Axes>"
      ]
     },
     "metadata": {},
     "output_type": "display_data"
    },
    {
     "data": {
      "text/plain": [
       "<Figure size 1152x288 with 0 Axes>"
      ]
     },
     "metadata": {},
     "output_type": "display_data"
    },
    {
     "data": {
      "text/plain": [
       "<Figure size 1152x288 with 0 Axes>"
      ]
     },
     "metadata": {},
     "output_type": "display_data"
    },
    {
     "data": {
      "text/plain": [
       "<Figure size 1152x288 with 0 Axes>"
      ]
     },
     "metadata": {},
     "output_type": "display_data"
    },
    {
     "data": {
      "text/plain": [
       "<Figure size 1152x288 with 0 Axes>"
      ]
     },
     "metadata": {},
     "output_type": "display_data"
    },
    {
     "data": {
      "text/plain": [
       "<Figure size 1152x288 with 0 Axes>"
      ]
     },
     "metadata": {},
     "output_type": "display_data"
    },
    {
     "data": {
      "text/plain": [
       "<Figure size 1152x288 with 0 Axes>"
      ]
     },
     "metadata": {},
     "output_type": "display_data"
    },
    {
     "data": {
      "text/plain": [
       "<Figure size 1152x288 with 0 Axes>"
      ]
     },
     "metadata": {},
     "output_type": "display_data"
    },
    {
     "data": {
      "text/plain": [
       "<Figure size 1152x288 with 0 Axes>"
      ]
     },
     "metadata": {},
     "output_type": "display_data"
    },
    {
     "data": {
      "text/plain": [
       "<Figure size 1152x288 with 0 Axes>"
      ]
     },
     "metadata": {},
     "output_type": "display_data"
    },
    {
     "data": {
      "text/plain": [
       "<Figure size 1152x288 with 0 Axes>"
      ]
     },
     "metadata": {},
     "output_type": "display_data"
    },
    {
     "data": {
      "text/plain": [
       "<Figure size 1152x288 with 0 Axes>"
      ]
     },
     "metadata": {},
     "output_type": "display_data"
    },
    {
     "data": {
      "text/plain": [
       "<Figure size 1152x288 with 0 Axes>"
      ]
     },
     "metadata": {},
     "output_type": "display_data"
    },
    {
     "data": {
      "text/plain": [
       "<Figure size 1152x288 with 0 Axes>"
      ]
     },
     "metadata": {},
     "output_type": "display_data"
    },
    {
     "data": {
      "text/plain": [
       "<Figure size 1152x288 with 0 Axes>"
      ]
     },
     "metadata": {},
     "output_type": "display_data"
    },
    {
     "data": {
      "text/plain": [
       "<Figure size 1152x288 with 0 Axes>"
      ]
     },
     "metadata": {},
     "output_type": "display_data"
    },
    {
     "data": {
      "text/plain": [
       "<Figure size 1152x288 with 0 Axes>"
      ]
     },
     "metadata": {},
     "output_type": "display_data"
    },
    {
     "data": {
      "text/plain": [
       "<Figure size 1152x288 with 0 Axes>"
      ]
     },
     "metadata": {},
     "output_type": "display_data"
    },
    {
     "data": {
      "text/plain": [
       "<Figure size 1152x288 with 0 Axes>"
      ]
     },
     "metadata": {},
     "output_type": "display_data"
    },
    {
     "data": {
      "text/plain": [
       "<Figure size 1152x288 with 0 Axes>"
      ]
     },
     "metadata": {},
     "output_type": "display_data"
    },
    {
     "data": {
      "text/plain": [
       "<Figure size 1152x288 with 0 Axes>"
      ]
     },
     "metadata": {},
     "output_type": "display_data"
    },
    {
     "data": {
      "text/plain": [
       "<Figure size 1152x288 with 0 Axes>"
      ]
     },
     "metadata": {},
     "output_type": "display_data"
    },
    {
     "data": {
      "text/plain": [
       "<Figure size 1152x288 with 0 Axes>"
      ]
     },
     "metadata": {},
     "output_type": "display_data"
    },
    {
     "data": {
      "text/plain": [
       "<Figure size 1152x288 with 0 Axes>"
      ]
     },
     "metadata": {},
     "output_type": "display_data"
    },
    {
     "data": {
      "text/plain": [
       "<Figure size 1152x288 with 0 Axes>"
      ]
     },
     "metadata": {},
     "output_type": "display_data"
    },
    {
     "data": {
      "text/plain": [
       "<Figure size 1152x288 with 0 Axes>"
      ]
     },
     "metadata": {},
     "output_type": "display_data"
    },
    {
     "data": {
      "text/plain": [
       "<Figure size 1152x288 with 0 Axes>"
      ]
     },
     "metadata": {},
     "output_type": "display_data"
    },
    {
     "data": {
      "text/plain": [
       "<Figure size 1152x288 with 0 Axes>"
      ]
     },
     "metadata": {},
     "output_type": "display_data"
    },
    {
     "data": {
      "text/plain": [
       "<Figure size 1152x288 with 0 Axes>"
      ]
     },
     "metadata": {},
     "output_type": "display_data"
    },
    {
     "data": {
      "text/plain": [
       "<Figure size 1152x288 with 0 Axes>"
      ]
     },
     "metadata": {},
     "output_type": "display_data"
    },
    {
     "data": {
      "text/plain": [
       "<Figure size 1152x288 with 0 Axes>"
      ]
     },
     "metadata": {},
     "output_type": "display_data"
    },
    {
     "data": {
      "text/plain": [
       "<Figure size 1152x288 with 0 Axes>"
      ]
     },
     "metadata": {},
     "output_type": "display_data"
    },
    {
     "data": {
      "text/plain": [
       "<Figure size 1152x288 with 0 Axes>"
      ]
     },
     "metadata": {},
     "output_type": "display_data"
    },
    {
     "data": {
      "text/plain": [
       "<Figure size 1152x288 with 0 Axes>"
      ]
     },
     "metadata": {},
     "output_type": "display_data"
    },
    {
     "data": {
      "text/plain": [
       "<Figure size 1152x288 with 0 Axes>"
      ]
     },
     "metadata": {},
     "output_type": "display_data"
    },
    {
     "data": {
      "text/plain": [
       "<Figure size 1152x288 with 0 Axes>"
      ]
     },
     "metadata": {},
     "output_type": "display_data"
    },
    {
     "data": {
      "text/plain": [
       "<Figure size 1152x288 with 0 Axes>"
      ]
     },
     "metadata": {},
     "output_type": "display_data"
    },
    {
     "data": {
      "text/plain": [
       "<Figure size 1152x288 with 0 Axes>"
      ]
     },
     "metadata": {},
     "output_type": "display_data"
    },
    {
     "data": {
      "text/plain": [
       "<Figure size 1152x288 with 0 Axes>"
      ]
     },
     "metadata": {},
     "output_type": "display_data"
    },
    {
     "data": {
      "text/plain": [
       "<Figure size 1152x288 with 0 Axes>"
      ]
     },
     "metadata": {},
     "output_type": "display_data"
    },
    {
     "data": {
      "text/plain": [
       "<Figure size 1152x288 with 0 Axes>"
      ]
     },
     "metadata": {},
     "output_type": "display_data"
    },
    {
     "data": {
      "text/plain": [
       "<Figure size 1152x288 with 0 Axes>"
      ]
     },
     "metadata": {},
     "output_type": "display_data"
    },
    {
     "data": {
      "text/plain": [
       "<Figure size 1152x288 with 0 Axes>"
      ]
     },
     "metadata": {},
     "output_type": "display_data"
    },
    {
     "data": {
      "text/plain": [
       "<Figure size 1152x288 with 0 Axes>"
      ]
     },
     "metadata": {},
     "output_type": "display_data"
    },
    {
     "data": {
      "text/plain": [
       "<Figure size 1152x288 with 0 Axes>"
      ]
     },
     "metadata": {},
     "output_type": "display_data"
    },
    {
     "data": {
      "text/plain": [
       "<Figure size 1152x288 with 0 Axes>"
      ]
     },
     "metadata": {},
     "output_type": "display_data"
    },
    {
     "data": {
      "text/plain": [
       "<Figure size 1152x288 with 0 Axes>"
      ]
     },
     "metadata": {},
     "output_type": "display_data"
    },
    {
     "data": {
      "text/plain": [
       "<Figure size 1152x288 with 0 Axes>"
      ]
     },
     "metadata": {},
     "output_type": "display_data"
    },
    {
     "data": {
      "text/plain": [
       "<Figure size 1152x288 with 0 Axes>"
      ]
     },
     "metadata": {},
     "output_type": "display_data"
    },
    {
     "data": {
      "text/plain": [
       "<Figure size 1152x288 with 0 Axes>"
      ]
     },
     "metadata": {},
     "output_type": "display_data"
    },
    {
     "data": {
      "text/plain": [
       "<Figure size 1152x288 with 0 Axes>"
      ]
     },
     "metadata": {},
     "output_type": "display_data"
    },
    {
     "data": {
      "text/plain": [
       "<Figure size 1152x288 with 0 Axes>"
      ]
     },
     "metadata": {},
     "output_type": "display_data"
    },
    {
     "data": {
      "text/plain": [
       "<Figure size 1152x288 with 0 Axes>"
      ]
     },
     "metadata": {},
     "output_type": "display_data"
    },
    {
     "data": {
      "text/plain": [
       "<Figure size 1152x288 with 0 Axes>"
      ]
     },
     "metadata": {},
     "output_type": "display_data"
    },
    {
     "data": {
      "text/plain": [
       "<Figure size 1152x288 with 0 Axes>"
      ]
     },
     "metadata": {},
     "output_type": "display_data"
    },
    {
     "data": {
      "text/plain": [
       "<Figure size 1152x288 with 0 Axes>"
      ]
     },
     "metadata": {},
     "output_type": "display_data"
    },
    {
     "data": {
      "text/plain": [
       "<Figure size 1152x288 with 0 Axes>"
      ]
     },
     "metadata": {},
     "output_type": "display_data"
    },
    {
     "data": {
      "text/plain": [
       "<Figure size 1152x288 with 0 Axes>"
      ]
     },
     "metadata": {},
     "output_type": "display_data"
    },
    {
     "data": {
      "text/plain": [
       "<Figure size 1152x288 with 0 Axes>"
      ]
     },
     "metadata": {},
     "output_type": "display_data"
    },
    {
     "data": {
      "text/plain": [
       "<Figure size 1152x288 with 0 Axes>"
      ]
     },
     "metadata": {},
     "output_type": "display_data"
    },
    {
     "data": {
      "text/plain": [
       "<Figure size 1152x288 with 0 Axes>"
      ]
     },
     "metadata": {},
     "output_type": "display_data"
    },
    {
     "data": {
      "text/plain": [
       "<Figure size 1152x288 with 0 Axes>"
      ]
     },
     "metadata": {},
     "output_type": "display_data"
    },
    {
     "data": {
      "text/plain": [
       "<Figure size 1152x288 with 0 Axes>"
      ]
     },
     "metadata": {},
     "output_type": "display_data"
    },
    {
     "data": {
      "text/plain": [
       "<Figure size 1152x288 with 0 Axes>"
      ]
     },
     "metadata": {},
     "output_type": "display_data"
    },
    {
     "data": {
      "text/plain": [
       "<Figure size 1152x288 with 0 Axes>"
      ]
     },
     "metadata": {},
     "output_type": "display_data"
    },
    {
     "data": {
      "text/plain": [
       "<Figure size 1152x288 with 0 Axes>"
      ]
     },
     "metadata": {},
     "output_type": "display_data"
    },
    {
     "data": {
      "text/plain": [
       "<Figure size 1152x288 with 0 Axes>"
      ]
     },
     "metadata": {},
     "output_type": "display_data"
    },
    {
     "data": {
      "text/plain": [
       "<Figure size 1152x288 with 0 Axes>"
      ]
     },
     "metadata": {},
     "output_type": "display_data"
    },
    {
     "data": {
      "text/plain": [
       "<Figure size 1152x288 with 0 Axes>"
      ]
     },
     "metadata": {},
     "output_type": "display_data"
    },
    {
     "data": {
      "text/plain": [
       "<Figure size 1152x288 with 0 Axes>"
      ]
     },
     "metadata": {},
     "output_type": "display_data"
    },
    {
     "data": {
      "text/plain": [
       "<Figure size 1152x288 with 0 Axes>"
      ]
     },
     "metadata": {},
     "output_type": "display_data"
    },
    {
     "data": {
      "text/plain": [
       "<Figure size 1152x288 with 0 Axes>"
      ]
     },
     "metadata": {},
     "output_type": "display_data"
    },
    {
     "data": {
      "text/plain": [
       "<Figure size 1152x288 with 0 Axes>"
      ]
     },
     "metadata": {},
     "output_type": "display_data"
    },
    {
     "data": {
      "text/plain": [
       "<Figure size 1152x288 with 0 Axes>"
      ]
     },
     "metadata": {},
     "output_type": "display_data"
    },
    {
     "data": {
      "text/plain": [
       "<Figure size 1152x288 with 0 Axes>"
      ]
     },
     "metadata": {},
     "output_type": "display_data"
    },
    {
     "data": {
      "text/plain": [
       "<Figure size 1152x288 with 0 Axes>"
      ]
     },
     "metadata": {},
     "output_type": "display_data"
    },
    {
     "data": {
      "text/plain": [
       "<Figure size 1152x288 with 0 Axes>"
      ]
     },
     "metadata": {},
     "output_type": "display_data"
    },
    {
     "data": {
      "text/plain": [
       "<Figure size 1152x288 with 0 Axes>"
      ]
     },
     "metadata": {},
     "output_type": "display_data"
    },
    {
     "data": {
      "text/plain": [
       "<Figure size 1152x288 with 0 Axes>"
      ]
     },
     "metadata": {},
     "output_type": "display_data"
    },
    {
     "data": {
      "text/plain": [
       "<Figure size 1152x288 with 0 Axes>"
      ]
     },
     "metadata": {},
     "output_type": "display_data"
    },
    {
     "data": {
      "text/plain": [
       "<Figure size 1152x288 with 0 Axes>"
      ]
     },
     "metadata": {},
     "output_type": "display_data"
    },
    {
     "data": {
      "text/plain": [
       "<Figure size 1152x288 with 0 Axes>"
      ]
     },
     "metadata": {},
     "output_type": "display_data"
    },
    {
     "data": {
      "text/plain": [
       "<Figure size 1152x288 with 0 Axes>"
      ]
     },
     "metadata": {},
     "output_type": "display_data"
    },
    {
     "data": {
      "text/plain": [
       "<Figure size 1152x288 with 0 Axes>"
      ]
     },
     "metadata": {},
     "output_type": "display_data"
    },
    {
     "data": {
      "text/plain": [
       "<Figure size 1152x288 with 0 Axes>"
      ]
     },
     "metadata": {},
     "output_type": "display_data"
    },
    {
     "data": {
      "text/plain": [
       "<Figure size 1152x288 with 0 Axes>"
      ]
     },
     "metadata": {},
     "output_type": "display_data"
    },
    {
     "data": {
      "text/plain": [
       "<Figure size 1152x288 with 0 Axes>"
      ]
     },
     "metadata": {},
     "output_type": "display_data"
    },
    {
     "data": {
      "text/plain": [
       "<Figure size 1152x288 with 0 Axes>"
      ]
     },
     "metadata": {},
     "output_type": "display_data"
    },
    {
     "data": {
      "text/plain": [
       "<Figure size 1152x288 with 0 Axes>"
      ]
     },
     "metadata": {},
     "output_type": "display_data"
    },
    {
     "data": {
      "text/plain": [
       "<Figure size 1152x288 with 0 Axes>"
      ]
     },
     "metadata": {},
     "output_type": "display_data"
    },
    {
     "data": {
      "text/plain": [
       "<Figure size 1152x288 with 0 Axes>"
      ]
     },
     "metadata": {},
     "output_type": "display_data"
    },
    {
     "data": {
      "text/plain": [
       "<Figure size 1152x288 with 0 Axes>"
      ]
     },
     "metadata": {},
     "output_type": "display_data"
    },
    {
     "data": {
      "text/plain": [
       "<Figure size 1152x288 with 0 Axes>"
      ]
     },
     "metadata": {},
     "output_type": "display_data"
    },
    {
     "data": {
      "text/plain": [
       "<Figure size 1152x288 with 0 Axes>"
      ]
     },
     "metadata": {},
     "output_type": "display_data"
    },
    {
     "data": {
      "text/plain": [
       "<Figure size 1152x288 with 0 Axes>"
      ]
     },
     "metadata": {},
     "output_type": "display_data"
    },
    {
     "data": {
      "text/plain": [
       "<Figure size 1152x288 with 0 Axes>"
      ]
     },
     "metadata": {},
     "output_type": "display_data"
    },
    {
     "data": {
      "text/plain": [
       "<Figure size 1152x288 with 0 Axes>"
      ]
     },
     "metadata": {},
     "output_type": "display_data"
    },
    {
     "data": {
      "text/plain": [
       "<Figure size 1152x288 with 0 Axes>"
      ]
     },
     "metadata": {},
     "output_type": "display_data"
    },
    {
     "data": {
      "text/plain": [
       "<Figure size 1152x288 with 0 Axes>"
      ]
     },
     "metadata": {},
     "output_type": "display_data"
    },
    {
     "data": {
      "text/plain": [
       "<Figure size 1152x288 with 0 Axes>"
      ]
     },
     "metadata": {},
     "output_type": "display_data"
    },
    {
     "data": {
      "text/plain": [
       "<Figure size 1152x288 with 0 Axes>"
      ]
     },
     "metadata": {},
     "output_type": "display_data"
    },
    {
     "data": {
      "text/plain": [
       "<Figure size 1152x288 with 0 Axes>"
      ]
     },
     "metadata": {},
     "output_type": "display_data"
    },
    {
     "data": {
      "text/plain": [
       "<Figure size 1152x288 with 0 Axes>"
      ]
     },
     "metadata": {},
     "output_type": "display_data"
    },
    {
     "data": {
      "text/plain": [
       "<Figure size 1152x288 with 0 Axes>"
      ]
     },
     "metadata": {},
     "output_type": "display_data"
    },
    {
     "data": {
      "text/plain": [
       "<Figure size 1152x288 with 0 Axes>"
      ]
     },
     "metadata": {},
     "output_type": "display_data"
    },
    {
     "data": {
      "text/plain": [
       "<Figure size 1152x288 with 0 Axes>"
      ]
     },
     "metadata": {},
     "output_type": "display_data"
    },
    {
     "data": {
      "text/plain": [
       "<Figure size 1152x288 with 0 Axes>"
      ]
     },
     "metadata": {},
     "output_type": "display_data"
    },
    {
     "data": {
      "text/plain": [
       "<Figure size 1152x288 with 0 Axes>"
      ]
     },
     "metadata": {},
     "output_type": "display_data"
    },
    {
     "data": {
      "text/plain": [
       "<Figure size 1152x288 with 0 Axes>"
      ]
     },
     "metadata": {},
     "output_type": "display_data"
    },
    {
     "data": {
      "text/plain": [
       "<Figure size 1152x288 with 0 Axes>"
      ]
     },
     "metadata": {},
     "output_type": "display_data"
    },
    {
     "data": {
      "text/plain": [
       "<Figure size 1152x288 with 0 Axes>"
      ]
     },
     "metadata": {},
     "output_type": "display_data"
    },
    {
     "data": {
      "text/plain": [
       "<Figure size 1152x288 with 0 Axes>"
      ]
     },
     "metadata": {},
     "output_type": "display_data"
    },
    {
     "data": {
      "text/plain": [
       "<Figure size 1152x288 with 0 Axes>"
      ]
     },
     "metadata": {},
     "output_type": "display_data"
    },
    {
     "data": {
      "text/plain": [
       "<Figure size 1152x288 with 0 Axes>"
      ]
     },
     "metadata": {},
     "output_type": "display_data"
    },
    {
     "data": {
      "text/plain": [
       "<Figure size 1152x288 with 0 Axes>"
      ]
     },
     "metadata": {},
     "output_type": "display_data"
    },
    {
     "data": {
      "text/plain": [
       "<Figure size 1152x288 with 0 Axes>"
      ]
     },
     "metadata": {},
     "output_type": "display_data"
    },
    {
     "data": {
      "text/plain": [
       "<Figure size 1152x288 with 0 Axes>"
      ]
     },
     "metadata": {},
     "output_type": "display_data"
    },
    {
     "data": {
      "text/plain": [
       "<Figure size 1152x288 with 0 Axes>"
      ]
     },
     "metadata": {},
     "output_type": "display_data"
    },
    {
     "data": {
      "text/plain": [
       "<Figure size 1152x288 with 0 Axes>"
      ]
     },
     "metadata": {},
     "output_type": "display_data"
    },
    {
     "data": {
      "text/plain": [
       "<Figure size 1152x288 with 0 Axes>"
      ]
     },
     "metadata": {},
     "output_type": "display_data"
    },
    {
     "data": {
      "text/plain": [
       "<Figure size 1152x288 with 0 Axes>"
      ]
     },
     "metadata": {},
     "output_type": "display_data"
    },
    {
     "data": {
      "text/plain": [
       "<Figure size 1152x288 with 0 Axes>"
      ]
     },
     "metadata": {},
     "output_type": "display_data"
    },
    {
     "data": {
      "text/plain": [
       "<Figure size 1152x288 with 0 Axes>"
      ]
     },
     "metadata": {},
     "output_type": "display_data"
    },
    {
     "data": {
      "text/plain": [
       "<Figure size 1152x288 with 0 Axes>"
      ]
     },
     "metadata": {},
     "output_type": "display_data"
    },
    {
     "data": {
      "text/plain": [
       "<Figure size 1152x288 with 0 Axes>"
      ]
     },
     "metadata": {},
     "output_type": "display_data"
    },
    {
     "data": {
      "text/plain": [
       "<Figure size 1152x288 with 0 Axes>"
      ]
     },
     "metadata": {},
     "output_type": "display_data"
    },
    {
     "data": {
      "text/plain": [
       "<Figure size 1152x288 with 0 Axes>"
      ]
     },
     "metadata": {},
     "output_type": "display_data"
    },
    {
     "data": {
      "text/plain": [
       "<Figure size 1152x288 with 0 Axes>"
      ]
     },
     "metadata": {},
     "output_type": "display_data"
    },
    {
     "data": {
      "text/plain": [
       "<Figure size 1152x288 with 0 Axes>"
      ]
     },
     "metadata": {},
     "output_type": "display_data"
    },
    {
     "data": {
      "text/plain": [
       "<Figure size 1152x288 with 0 Axes>"
      ]
     },
     "metadata": {},
     "output_type": "display_data"
    },
    {
     "data": {
      "text/plain": [
       "<Figure size 1152x288 with 0 Axes>"
      ]
     },
     "metadata": {},
     "output_type": "display_data"
    },
    {
     "data": {
      "text/plain": [
       "<Figure size 1152x288 with 0 Axes>"
      ]
     },
     "metadata": {},
     "output_type": "display_data"
    },
    {
     "data": {
      "text/plain": [
       "<Figure size 1152x288 with 0 Axes>"
      ]
     },
     "metadata": {},
     "output_type": "display_data"
    },
    {
     "data": {
      "text/plain": [
       "<Figure size 1152x288 with 0 Axes>"
      ]
     },
     "metadata": {},
     "output_type": "display_data"
    },
    {
     "data": {
      "text/plain": [
       "<Figure size 1152x288 with 0 Axes>"
      ]
     },
     "metadata": {},
     "output_type": "display_data"
    },
    {
     "data": {
      "text/plain": [
       "<Figure size 1152x288 with 0 Axes>"
      ]
     },
     "metadata": {},
     "output_type": "display_data"
    },
    {
     "data": {
      "text/plain": [
       "<Figure size 1152x288 with 0 Axes>"
      ]
     },
     "metadata": {},
     "output_type": "display_data"
    },
    {
     "data": {
      "text/plain": [
       "<Figure size 1152x288 with 0 Axes>"
      ]
     },
     "metadata": {},
     "output_type": "display_data"
    },
    {
     "data": {
      "text/plain": [
       "<Figure size 1152x288 with 0 Axes>"
      ]
     },
     "metadata": {},
     "output_type": "display_data"
    },
    {
     "data": {
      "text/plain": [
       "<Figure size 1152x288 with 0 Axes>"
      ]
     },
     "metadata": {},
     "output_type": "display_data"
    },
    {
     "data": {
      "text/plain": [
       "<Figure size 1152x288 with 0 Axes>"
      ]
     },
     "metadata": {},
     "output_type": "display_data"
    },
    {
     "data": {
      "text/plain": [
       "<Figure size 1152x288 with 0 Axes>"
      ]
     },
     "metadata": {},
     "output_type": "display_data"
    },
    {
     "data": {
      "text/plain": [
       "<Figure size 1152x288 with 0 Axes>"
      ]
     },
     "metadata": {},
     "output_type": "display_data"
    },
    {
     "data": {
      "text/plain": [
       "<Figure size 1152x288 with 0 Axes>"
      ]
     },
     "metadata": {},
     "output_type": "display_data"
    },
    {
     "data": {
      "text/plain": [
       "<Figure size 1152x288 with 0 Axes>"
      ]
     },
     "metadata": {},
     "output_type": "display_data"
    },
    {
     "data": {
      "text/plain": [
       "<Figure size 1152x288 with 0 Axes>"
      ]
     },
     "metadata": {},
     "output_type": "display_data"
    },
    {
     "data": {
      "text/plain": [
       "<Figure size 1152x288 with 0 Axes>"
      ]
     },
     "metadata": {},
     "output_type": "display_data"
    },
    {
     "data": {
      "text/plain": [
       "<Figure size 1152x288 with 0 Axes>"
      ]
     },
     "metadata": {},
     "output_type": "display_data"
    },
    {
     "data": {
      "text/plain": [
       "<Figure size 1152x288 with 0 Axes>"
      ]
     },
     "metadata": {},
     "output_type": "display_data"
    },
    {
     "data": {
      "text/plain": [
       "<Figure size 1152x288 with 0 Axes>"
      ]
     },
     "metadata": {},
     "output_type": "display_data"
    },
    {
     "data": {
      "text/plain": [
       "<Figure size 1152x288 with 0 Axes>"
      ]
     },
     "metadata": {},
     "output_type": "display_data"
    },
    {
     "data": {
      "text/plain": [
       "<Figure size 1152x288 with 0 Axes>"
      ]
     },
     "metadata": {},
     "output_type": "display_data"
    },
    {
     "data": {
      "text/plain": [
       "<Figure size 1152x288 with 0 Axes>"
      ]
     },
     "metadata": {},
     "output_type": "display_data"
    },
    {
     "data": {
      "text/plain": [
       "<Figure size 1152x288 with 0 Axes>"
      ]
     },
     "metadata": {},
     "output_type": "display_data"
    },
    {
     "data": {
      "text/plain": [
       "<Figure size 1152x288 with 0 Axes>"
      ]
     },
     "metadata": {},
     "output_type": "display_data"
    },
    {
     "data": {
      "text/plain": [
       "<Figure size 1152x288 with 0 Axes>"
      ]
     },
     "metadata": {},
     "output_type": "display_data"
    },
    {
     "data": {
      "text/plain": [
       "<Figure size 1152x288 with 0 Axes>"
      ]
     },
     "metadata": {},
     "output_type": "display_data"
    },
    {
     "data": {
      "text/plain": [
       "<Figure size 1152x288 with 0 Axes>"
      ]
     },
     "metadata": {},
     "output_type": "display_data"
    },
    {
     "data": {
      "text/plain": [
       "<Figure size 1152x288 with 0 Axes>"
      ]
     },
     "metadata": {},
     "output_type": "display_data"
    },
    {
     "data": {
      "text/plain": [
       "<Figure size 1152x288 with 0 Axes>"
      ]
     },
     "metadata": {},
     "output_type": "display_data"
    },
    {
     "data": {
      "text/plain": [
       "<Figure size 1152x288 with 0 Axes>"
      ]
     },
     "metadata": {},
     "output_type": "display_data"
    },
    {
     "data": {
      "text/plain": [
       "<Figure size 1152x288 with 0 Axes>"
      ]
     },
     "metadata": {},
     "output_type": "display_data"
    },
    {
     "data": {
      "text/plain": [
       "<Figure size 1152x288 with 0 Axes>"
      ]
     },
     "metadata": {},
     "output_type": "display_data"
    },
    {
     "data": {
      "text/plain": [
       "<Figure size 1152x288 with 0 Axes>"
      ]
     },
     "metadata": {},
     "output_type": "display_data"
    },
    {
     "data": {
      "text/plain": [
       "<Figure size 1152x288 with 0 Axes>"
      ]
     },
     "metadata": {},
     "output_type": "display_data"
    },
    {
     "data": {
      "text/plain": [
       "<Figure size 1152x288 with 0 Axes>"
      ]
     },
     "metadata": {},
     "output_type": "display_data"
    },
    {
     "data": {
      "text/plain": [
       "<Figure size 1152x288 with 0 Axes>"
      ]
     },
     "metadata": {},
     "output_type": "display_data"
    },
    {
     "data": {
      "text/plain": [
       "<Figure size 1152x288 with 0 Axes>"
      ]
     },
     "metadata": {},
     "output_type": "display_data"
    },
    {
     "data": {
      "text/plain": [
       "<Figure size 1152x288 with 0 Axes>"
      ]
     },
     "metadata": {},
     "output_type": "display_data"
    },
    {
     "data": {
      "text/plain": [
       "<Figure size 1152x288 with 0 Axes>"
      ]
     },
     "metadata": {},
     "output_type": "display_data"
    },
    {
     "data": {
      "text/plain": [
       "<Figure size 1152x288 with 0 Axes>"
      ]
     },
     "metadata": {},
     "output_type": "display_data"
    },
    {
     "data": {
      "text/plain": [
       "<Figure size 1152x288 with 0 Axes>"
      ]
     },
     "metadata": {},
     "output_type": "display_data"
    },
    {
     "data": {
      "text/plain": [
       "<Figure size 1152x288 with 0 Axes>"
      ]
     },
     "metadata": {},
     "output_type": "display_data"
    },
    {
     "data": {
      "text/plain": [
       "<Figure size 1152x288 with 0 Axes>"
      ]
     },
     "metadata": {},
     "output_type": "display_data"
    },
    {
     "data": {
      "text/plain": [
       "<Figure size 1152x288 with 0 Axes>"
      ]
     },
     "metadata": {},
     "output_type": "display_data"
    },
    {
     "data": {
      "text/plain": [
       "<Figure size 1152x288 with 0 Axes>"
      ]
     },
     "metadata": {},
     "output_type": "display_data"
    },
    {
     "data": {
      "text/plain": [
       "<Figure size 1152x288 with 0 Axes>"
      ]
     },
     "metadata": {},
     "output_type": "display_data"
    },
    {
     "data": {
      "text/plain": [
       "<Figure size 1152x288 with 0 Axes>"
      ]
     },
     "metadata": {},
     "output_type": "display_data"
    },
    {
     "data": {
      "text/plain": [
       "<Figure size 1152x288 with 0 Axes>"
      ]
     },
     "metadata": {},
     "output_type": "display_data"
    },
    {
     "data": {
      "text/plain": [
       "<Figure size 1152x288 with 0 Axes>"
      ]
     },
     "metadata": {},
     "output_type": "display_data"
    },
    {
     "data": {
      "text/plain": [
       "<Figure size 1152x288 with 0 Axes>"
      ]
     },
     "metadata": {},
     "output_type": "display_data"
    },
    {
     "data": {
      "text/plain": [
       "<Figure size 1152x288 with 0 Axes>"
      ]
     },
     "metadata": {},
     "output_type": "display_data"
    },
    {
     "data": {
      "text/plain": [
       "<Figure size 1152x288 with 0 Axes>"
      ]
     },
     "metadata": {},
     "output_type": "display_data"
    },
    {
     "data": {
      "text/plain": [
       "<Figure size 1152x288 with 0 Axes>"
      ]
     },
     "metadata": {},
     "output_type": "display_data"
    },
    {
     "data": {
      "text/plain": [
       "<Figure size 1152x288 with 0 Axes>"
      ]
     },
     "metadata": {},
     "output_type": "display_data"
    },
    {
     "data": {
      "text/plain": [
       "<Figure size 1152x288 with 0 Axes>"
      ]
     },
     "metadata": {},
     "output_type": "display_data"
    },
    {
     "data": {
      "text/plain": [
       "<Figure size 1152x288 with 0 Axes>"
      ]
     },
     "metadata": {},
     "output_type": "display_data"
    },
    {
     "data": {
      "text/plain": [
       "<Figure size 1152x288 with 0 Axes>"
      ]
     },
     "metadata": {},
     "output_type": "display_data"
    },
    {
     "data": {
      "text/plain": [
       "<Figure size 1152x288 with 0 Axes>"
      ]
     },
     "metadata": {},
     "output_type": "display_data"
    },
    {
     "data": {
      "text/plain": [
       "<Figure size 1152x288 with 0 Axes>"
      ]
     },
     "metadata": {},
     "output_type": "display_data"
    },
    {
     "data": {
      "text/plain": [
       "<Figure size 1152x288 with 0 Axes>"
      ]
     },
     "metadata": {},
     "output_type": "display_data"
    },
    {
     "data": {
      "text/plain": [
       "<Figure size 1152x288 with 0 Axes>"
      ]
     },
     "metadata": {},
     "output_type": "display_data"
    },
    {
     "data": {
      "text/plain": [
       "<Figure size 1152x288 with 0 Axes>"
      ]
     },
     "metadata": {},
     "output_type": "display_data"
    },
    {
     "data": {
      "text/plain": [
       "<Figure size 1152x288 with 0 Axes>"
      ]
     },
     "metadata": {},
     "output_type": "display_data"
    },
    {
     "data": {
      "text/plain": [
       "<Figure size 1152x288 with 0 Axes>"
      ]
     },
     "metadata": {},
     "output_type": "display_data"
    },
    {
     "data": {
      "text/plain": [
       "<Figure size 1152x288 with 0 Axes>"
      ]
     },
     "metadata": {},
     "output_type": "display_data"
    },
    {
     "data": {
      "text/plain": [
       "<Figure size 1152x288 with 0 Axes>"
      ]
     },
     "metadata": {},
     "output_type": "display_data"
    },
    {
     "data": {
      "text/plain": [
       "<Figure size 1152x288 with 0 Axes>"
      ]
     },
     "metadata": {},
     "output_type": "display_data"
    },
    {
     "data": {
      "text/plain": [
       "<Figure size 1152x288 with 0 Axes>"
      ]
     },
     "metadata": {},
     "output_type": "display_data"
    },
    {
     "data": {
      "text/plain": [
       "<Figure size 1152x288 with 0 Axes>"
      ]
     },
     "metadata": {},
     "output_type": "display_data"
    },
    {
     "data": {
      "text/plain": [
       "<Figure size 1152x288 with 0 Axes>"
      ]
     },
     "metadata": {},
     "output_type": "display_data"
    },
    {
     "data": {
      "text/plain": [
       "<Figure size 1152x288 with 0 Axes>"
      ]
     },
     "metadata": {},
     "output_type": "display_data"
    },
    {
     "data": {
      "text/plain": [
       "<Figure size 1152x288 with 0 Axes>"
      ]
     },
     "metadata": {},
     "output_type": "display_data"
    },
    {
     "data": {
      "text/plain": [
       "<Figure size 1152x288 with 0 Axes>"
      ]
     },
     "metadata": {},
     "output_type": "display_data"
    },
    {
     "data": {
      "text/plain": [
       "<Figure size 1152x288 with 0 Axes>"
      ]
     },
     "metadata": {},
     "output_type": "display_data"
    },
    {
     "data": {
      "text/plain": [
       "<Figure size 1152x288 with 0 Axes>"
      ]
     },
     "metadata": {},
     "output_type": "display_data"
    },
    {
     "data": {
      "text/plain": [
       "<Figure size 1152x288 with 0 Axes>"
      ]
     },
     "metadata": {},
     "output_type": "display_data"
    },
    {
     "data": {
      "text/plain": [
       "<Figure size 1152x288 with 0 Axes>"
      ]
     },
     "metadata": {},
     "output_type": "display_data"
    },
    {
     "data": {
      "text/plain": [
       "<Figure size 1152x288 with 0 Axes>"
      ]
     },
     "metadata": {},
     "output_type": "display_data"
    },
    {
     "data": {
      "text/plain": [
       "<Figure size 1152x288 with 0 Axes>"
      ]
     },
     "metadata": {},
     "output_type": "display_data"
    },
    {
     "data": {
      "text/plain": [
       "<Figure size 1152x288 with 0 Axes>"
      ]
     },
     "metadata": {},
     "output_type": "display_data"
    },
    {
     "data": {
      "text/plain": [
       "<Figure size 1152x288 with 0 Axes>"
      ]
     },
     "metadata": {},
     "output_type": "display_data"
    },
    {
     "data": {
      "text/plain": [
       "<Figure size 1152x288 with 0 Axes>"
      ]
     },
     "metadata": {},
     "output_type": "display_data"
    },
    {
     "data": {
      "text/plain": [
       "<Figure size 1152x288 with 0 Axes>"
      ]
     },
     "metadata": {},
     "output_type": "display_data"
    },
    {
     "data": {
      "text/plain": [
       "<Figure size 1152x288 with 0 Axes>"
      ]
     },
     "metadata": {},
     "output_type": "display_data"
    },
    {
     "data": {
      "text/plain": [
       "<Figure size 1152x288 with 0 Axes>"
      ]
     },
     "metadata": {},
     "output_type": "display_data"
    },
    {
     "data": {
      "text/plain": [
       "<Figure size 1152x288 with 0 Axes>"
      ]
     },
     "metadata": {},
     "output_type": "display_data"
    },
    {
     "data": {
      "text/plain": [
       "<Figure size 1152x288 with 0 Axes>"
      ]
     },
     "metadata": {},
     "output_type": "display_data"
    },
    {
     "data": {
      "text/plain": [
       "<Figure size 1152x288 with 0 Axes>"
      ]
     },
     "metadata": {},
     "output_type": "display_data"
    },
    {
     "data": {
      "text/plain": [
       "<Figure size 1152x288 with 0 Axes>"
      ]
     },
     "metadata": {},
     "output_type": "display_data"
    },
    {
     "data": {
      "text/plain": [
       "<Figure size 1152x288 with 0 Axes>"
      ]
     },
     "metadata": {},
     "output_type": "display_data"
    },
    {
     "data": {
      "text/plain": [
       "<Figure size 1152x288 with 0 Axes>"
      ]
     },
     "metadata": {},
     "output_type": "display_data"
    },
    {
     "data": {
      "text/plain": [
       "<Figure size 1152x288 with 0 Axes>"
      ]
     },
     "metadata": {},
     "output_type": "display_data"
    },
    {
     "data": {
      "text/plain": [
       "<Figure size 1152x288 with 0 Axes>"
      ]
     },
     "metadata": {},
     "output_type": "display_data"
    },
    {
     "data": {
      "text/plain": [
       "<Figure size 1152x288 with 0 Axes>"
      ]
     },
     "metadata": {},
     "output_type": "display_data"
    },
    {
     "data": {
      "text/plain": [
       "<Figure size 1152x288 with 0 Axes>"
      ]
     },
     "metadata": {},
     "output_type": "display_data"
    },
    {
     "data": {
      "text/plain": [
       "<Figure size 1152x288 with 0 Axes>"
      ]
     },
     "metadata": {},
     "output_type": "display_data"
    },
    {
     "data": {
      "text/plain": [
       "<Figure size 1152x288 with 0 Axes>"
      ]
     },
     "metadata": {},
     "output_type": "display_data"
    },
    {
     "data": {
      "text/plain": [
       "<Figure size 1152x288 with 0 Axes>"
      ]
     },
     "metadata": {},
     "output_type": "display_data"
    },
    {
     "data": {
      "text/plain": [
       "<Figure size 1152x288 with 0 Axes>"
      ]
     },
     "metadata": {},
     "output_type": "display_data"
    },
    {
     "data": {
      "text/plain": [
       "<Figure size 1152x288 with 0 Axes>"
      ]
     },
     "metadata": {},
     "output_type": "display_data"
    },
    {
     "data": {
      "text/plain": [
       "<Figure size 1152x288 with 0 Axes>"
      ]
     },
     "metadata": {},
     "output_type": "display_data"
    },
    {
     "data": {
      "text/plain": [
       "<Figure size 1152x288 with 0 Axes>"
      ]
     },
     "metadata": {},
     "output_type": "display_data"
    },
    {
     "data": {
      "text/plain": [
       "<Figure size 1152x288 with 0 Axes>"
      ]
     },
     "metadata": {},
     "output_type": "display_data"
    },
    {
     "data": {
      "text/plain": [
       "<Figure size 1152x288 with 0 Axes>"
      ]
     },
     "metadata": {},
     "output_type": "display_data"
    },
    {
     "data": {
      "text/plain": [
       "<Figure size 1152x288 with 0 Axes>"
      ]
     },
     "metadata": {},
     "output_type": "display_data"
    },
    {
     "data": {
      "text/plain": [
       "<Figure size 1152x288 with 0 Axes>"
      ]
     },
     "metadata": {},
     "output_type": "display_data"
    },
    {
     "data": {
      "text/plain": [
       "<Figure size 1152x288 with 0 Axes>"
      ]
     },
     "metadata": {},
     "output_type": "display_data"
    },
    {
     "data": {
      "text/plain": [
       "<Figure size 1152x288 with 0 Axes>"
      ]
     },
     "metadata": {},
     "output_type": "display_data"
    },
    {
     "data": {
      "text/plain": [
       "<Figure size 1152x288 with 0 Axes>"
      ]
     },
     "metadata": {},
     "output_type": "display_data"
    },
    {
     "data": {
      "text/plain": [
       "<Figure size 1152x288 with 0 Axes>"
      ]
     },
     "metadata": {},
     "output_type": "display_data"
    },
    {
     "data": {
      "text/plain": [
       "<Figure size 1152x288 with 0 Axes>"
      ]
     },
     "metadata": {},
     "output_type": "display_data"
    },
    {
     "data": {
      "text/plain": [
       "<Figure size 1152x288 with 0 Axes>"
      ]
     },
     "metadata": {},
     "output_type": "display_data"
    },
    {
     "data": {
      "text/plain": [
       "<Figure size 1152x288 with 0 Axes>"
      ]
     },
     "metadata": {},
     "output_type": "display_data"
    },
    {
     "data": {
      "text/plain": [
       "<Figure size 1152x288 with 0 Axes>"
      ]
     },
     "metadata": {},
     "output_type": "display_data"
    },
    {
     "data": {
      "text/plain": [
       "<Figure size 1152x288 with 0 Axes>"
      ]
     },
     "metadata": {},
     "output_type": "display_data"
    },
    {
     "data": {
      "text/plain": [
       "<Figure size 1152x288 with 0 Axes>"
      ]
     },
     "metadata": {},
     "output_type": "display_data"
    },
    {
     "data": {
      "text/plain": [
       "<Figure size 1152x288 with 0 Axes>"
      ]
     },
     "metadata": {},
     "output_type": "display_data"
    },
    {
     "data": {
      "text/plain": [
       "<Figure size 1152x288 with 0 Axes>"
      ]
     },
     "metadata": {},
     "output_type": "display_data"
    },
    {
     "data": {
      "text/plain": [
       "<Figure size 1152x288 with 0 Axes>"
      ]
     },
     "metadata": {},
     "output_type": "display_data"
    },
    {
     "data": {
      "text/plain": [
       "<Figure size 1152x288 with 0 Axes>"
      ]
     },
     "metadata": {},
     "output_type": "display_data"
    },
    {
     "data": {
      "text/plain": [
       "<Figure size 1152x288 with 0 Axes>"
      ]
     },
     "metadata": {},
     "output_type": "display_data"
    },
    {
     "data": {
      "text/plain": [
       "<Figure size 1152x288 with 0 Axes>"
      ]
     },
     "metadata": {},
     "output_type": "display_data"
    },
    {
     "data": {
      "text/plain": [
       "<Figure size 1152x288 with 0 Axes>"
      ]
     },
     "metadata": {},
     "output_type": "display_data"
    },
    {
     "data": {
      "text/plain": [
       "<Figure size 1152x288 with 0 Axes>"
      ]
     },
     "metadata": {},
     "output_type": "display_data"
    },
    {
     "data": {
      "text/plain": [
       "<Figure size 1152x288 with 0 Axes>"
      ]
     },
     "metadata": {},
     "output_type": "display_data"
    },
    {
     "data": {
      "text/plain": [
       "<Figure size 1152x288 with 0 Axes>"
      ]
     },
     "metadata": {},
     "output_type": "display_data"
    },
    {
     "data": {
      "text/plain": [
       "<Figure size 1152x288 with 0 Axes>"
      ]
     },
     "metadata": {},
     "output_type": "display_data"
    },
    {
     "data": {
      "text/plain": [
       "<Figure size 1152x288 with 0 Axes>"
      ]
     },
     "metadata": {},
     "output_type": "display_data"
    },
    {
     "data": {
      "text/plain": [
       "<Figure size 1152x288 with 0 Axes>"
      ]
     },
     "metadata": {},
     "output_type": "display_data"
    },
    {
     "data": {
      "text/plain": [
       "<Figure size 1152x288 with 0 Axes>"
      ]
     },
     "metadata": {},
     "output_type": "display_data"
    },
    {
     "data": {
      "text/plain": [
       "<Figure size 1152x288 with 0 Axes>"
      ]
     },
     "metadata": {},
     "output_type": "display_data"
    },
    {
     "data": {
      "text/plain": [
       "<Figure size 1152x288 with 0 Axes>"
      ]
     },
     "metadata": {},
     "output_type": "display_data"
    },
    {
     "data": {
      "text/plain": [
       "<Figure size 1152x288 with 0 Axes>"
      ]
     },
     "metadata": {},
     "output_type": "display_data"
    },
    {
     "data": {
      "text/plain": [
       "<Figure size 1152x288 with 0 Axes>"
      ]
     },
     "metadata": {},
     "output_type": "display_data"
    },
    {
     "data": {
      "text/plain": [
       "<Figure size 1152x288 with 0 Axes>"
      ]
     },
     "metadata": {},
     "output_type": "display_data"
    },
    {
     "data": {
      "text/plain": [
       "<Figure size 1152x288 with 0 Axes>"
      ]
     },
     "metadata": {},
     "output_type": "display_data"
    },
    {
     "data": {
      "text/plain": [
       "<Figure size 1152x288 with 0 Axes>"
      ]
     },
     "metadata": {},
     "output_type": "display_data"
    },
    {
     "data": {
      "text/plain": [
       "<Figure size 1152x288 with 0 Axes>"
      ]
     },
     "metadata": {},
     "output_type": "display_data"
    },
    {
     "data": {
      "text/plain": [
       "<Figure size 1152x288 with 0 Axes>"
      ]
     },
     "metadata": {},
     "output_type": "display_data"
    },
    {
     "data": {
      "text/plain": [
       "<Figure size 1152x288 with 0 Axes>"
      ]
     },
     "metadata": {},
     "output_type": "display_data"
    },
    {
     "data": {
      "text/plain": [
       "<Figure size 1152x288 with 0 Axes>"
      ]
     },
     "metadata": {},
     "output_type": "display_data"
    },
    {
     "data": {
      "text/plain": [
       "<Figure size 1152x288 with 0 Axes>"
      ]
     },
     "metadata": {},
     "output_type": "display_data"
    },
    {
     "data": {
      "text/plain": [
       "<Figure size 1152x288 with 0 Axes>"
      ]
     },
     "metadata": {},
     "output_type": "display_data"
    },
    {
     "data": {
      "text/plain": [
       "<Figure size 1152x288 with 0 Axes>"
      ]
     },
     "metadata": {},
     "output_type": "display_data"
    },
    {
     "data": {
      "text/plain": [
       "<Figure size 1152x288 with 0 Axes>"
      ]
     },
     "metadata": {},
     "output_type": "display_data"
    },
    {
     "data": {
      "text/plain": [
       "<Figure size 1152x288 with 0 Axes>"
      ]
     },
     "metadata": {},
     "output_type": "display_data"
    },
    {
     "data": {
      "text/plain": [
       "<Figure size 1152x288 with 0 Axes>"
      ]
     },
     "metadata": {},
     "output_type": "display_data"
    },
    {
     "data": {
      "text/plain": [
       "<Figure size 1152x288 with 0 Axes>"
      ]
     },
     "metadata": {},
     "output_type": "display_data"
    },
    {
     "data": {
      "text/plain": [
       "<Figure size 1152x288 with 0 Axes>"
      ]
     },
     "metadata": {},
     "output_type": "display_data"
    },
    {
     "data": {
      "text/plain": [
       "<Figure size 1152x288 with 0 Axes>"
      ]
     },
     "metadata": {},
     "output_type": "display_data"
    },
    {
     "data": {
      "text/plain": [
       "<Figure size 1152x288 with 0 Axes>"
      ]
     },
     "metadata": {},
     "output_type": "display_data"
    },
    {
     "data": {
      "text/plain": [
       "<Figure size 1152x288 with 0 Axes>"
      ]
     },
     "metadata": {},
     "output_type": "display_data"
    },
    {
     "data": {
      "text/plain": [
       "<Figure size 1152x288 with 0 Axes>"
      ]
     },
     "metadata": {},
     "output_type": "display_data"
    },
    {
     "data": {
      "text/plain": [
       "<Figure size 1152x288 with 0 Axes>"
      ]
     },
     "metadata": {},
     "output_type": "display_data"
    },
    {
     "data": {
      "text/plain": [
       "<Figure size 1152x288 with 0 Axes>"
      ]
     },
     "metadata": {},
     "output_type": "display_data"
    },
    {
     "data": {
      "text/plain": [
       "<Figure size 1152x288 with 0 Axes>"
      ]
     },
     "metadata": {},
     "output_type": "display_data"
    },
    {
     "data": {
      "text/plain": [
       "<Figure size 1152x288 with 0 Axes>"
      ]
     },
     "metadata": {},
     "output_type": "display_data"
    },
    {
     "data": {
      "text/plain": [
       "<Figure size 1152x288 with 0 Axes>"
      ]
     },
     "metadata": {},
     "output_type": "display_data"
    },
    {
     "data": {
      "text/plain": [
       "<Figure size 1152x288 with 0 Axes>"
      ]
     },
     "metadata": {},
     "output_type": "display_data"
    },
    {
     "data": {
      "text/plain": [
       "<Figure size 1152x288 with 0 Axes>"
      ]
     },
     "metadata": {},
     "output_type": "display_data"
    },
    {
     "data": {
      "text/plain": [
       "<Figure size 1152x288 with 0 Axes>"
      ]
     },
     "metadata": {},
     "output_type": "display_data"
    },
    {
     "data": {
      "text/plain": [
       "<Figure size 1152x288 with 0 Axes>"
      ]
     },
     "metadata": {},
     "output_type": "display_data"
    },
    {
     "data": {
      "text/plain": [
       "<Figure size 1152x288 with 0 Axes>"
      ]
     },
     "metadata": {},
     "output_type": "display_data"
    },
    {
     "data": {
      "text/plain": [
       "<Figure size 1152x288 with 0 Axes>"
      ]
     },
     "metadata": {},
     "output_type": "display_data"
    },
    {
     "data": {
      "text/plain": [
       "<Figure size 1152x288 with 0 Axes>"
      ]
     },
     "metadata": {},
     "output_type": "display_data"
    },
    {
     "data": {
      "text/plain": [
       "<Figure size 1152x288 with 0 Axes>"
      ]
     },
     "metadata": {},
     "output_type": "display_data"
    },
    {
     "data": {
      "text/plain": [
       "<Figure size 1152x288 with 0 Axes>"
      ]
     },
     "metadata": {},
     "output_type": "display_data"
    },
    {
     "data": {
      "text/plain": [
       "<Figure size 1152x288 with 0 Axes>"
      ]
     },
     "metadata": {},
     "output_type": "display_data"
    },
    {
     "data": {
      "text/plain": [
       "<Figure size 1152x288 with 0 Axes>"
      ]
     },
     "metadata": {},
     "output_type": "display_data"
    },
    {
     "data": {
      "text/plain": [
       "<Figure size 1152x288 with 0 Axes>"
      ]
     },
     "metadata": {},
     "output_type": "display_data"
    },
    {
     "data": {
      "text/plain": [
       "<Figure size 1152x288 with 0 Axes>"
      ]
     },
     "metadata": {},
     "output_type": "display_data"
    },
    {
     "data": {
      "text/plain": [
       "<Figure size 1152x288 with 0 Axes>"
      ]
     },
     "metadata": {},
     "output_type": "display_data"
    },
    {
     "data": {
      "text/plain": [
       "<Figure size 1152x288 with 0 Axes>"
      ]
     },
     "metadata": {},
     "output_type": "display_data"
    },
    {
     "data": {
      "text/plain": [
       "<Figure size 1152x288 with 0 Axes>"
      ]
     },
     "metadata": {},
     "output_type": "display_data"
    },
    {
     "data": {
      "text/plain": [
       "<Figure size 1152x288 with 0 Axes>"
      ]
     },
     "metadata": {},
     "output_type": "display_data"
    },
    {
     "data": {
      "text/plain": [
       "<Figure size 1152x288 with 0 Axes>"
      ]
     },
     "metadata": {},
     "output_type": "display_data"
    },
    {
     "data": {
      "text/plain": [
       "<Figure size 1152x288 with 0 Axes>"
      ]
     },
     "metadata": {},
     "output_type": "display_data"
    },
    {
     "data": {
      "text/plain": [
       "<Figure size 1152x288 with 0 Axes>"
      ]
     },
     "metadata": {},
     "output_type": "display_data"
    },
    {
     "data": {
      "text/plain": [
       "<Figure size 1152x288 with 0 Axes>"
      ]
     },
     "metadata": {},
     "output_type": "display_data"
    },
    {
     "data": {
      "text/plain": [
       "<Figure size 1152x288 with 0 Axes>"
      ]
     },
     "metadata": {},
     "output_type": "display_data"
    },
    {
     "data": {
      "text/plain": [
       "<Figure size 1152x288 with 0 Axes>"
      ]
     },
     "metadata": {},
     "output_type": "display_data"
    },
    {
     "data": {
      "text/plain": [
       "<Figure size 1152x288 with 0 Axes>"
      ]
     },
     "metadata": {},
     "output_type": "display_data"
    },
    {
     "data": {
      "text/plain": [
       "<Figure size 1152x288 with 0 Axes>"
      ]
     },
     "metadata": {},
     "output_type": "display_data"
    },
    {
     "data": {
      "text/plain": [
       "<Figure size 1152x288 with 0 Axes>"
      ]
     },
     "metadata": {},
     "output_type": "display_data"
    },
    {
     "data": {
      "text/plain": [
       "<Figure size 1152x288 with 0 Axes>"
      ]
     },
     "metadata": {},
     "output_type": "display_data"
    },
    {
     "data": {
      "text/plain": [
       "<Figure size 1152x288 with 0 Axes>"
      ]
     },
     "metadata": {},
     "output_type": "display_data"
    },
    {
     "data": {
      "text/plain": [
       "<Figure size 1152x288 with 0 Axes>"
      ]
     },
     "metadata": {},
     "output_type": "display_data"
    },
    {
     "data": {
      "text/plain": [
       "<Figure size 1152x288 with 0 Axes>"
      ]
     },
     "metadata": {},
     "output_type": "display_data"
    },
    {
     "data": {
      "text/plain": [
       "<Figure size 1152x288 with 0 Axes>"
      ]
     },
     "metadata": {},
     "output_type": "display_data"
    },
    {
     "data": {
      "text/plain": [
       "<Figure size 1152x288 with 0 Axes>"
      ]
     },
     "metadata": {},
     "output_type": "display_data"
    },
    {
     "data": {
      "text/plain": [
       "<Figure size 1152x288 with 0 Axes>"
      ]
     },
     "metadata": {},
     "output_type": "display_data"
    },
    {
     "data": {
      "text/plain": [
       "<Figure size 1152x288 with 0 Axes>"
      ]
     },
     "metadata": {},
     "output_type": "display_data"
    },
    {
     "data": {
      "text/plain": [
       "<Figure size 1152x288 with 0 Axes>"
      ]
     },
     "metadata": {},
     "output_type": "display_data"
    },
    {
     "data": {
      "text/plain": [
       "<Figure size 1152x288 with 0 Axes>"
      ]
     },
     "metadata": {},
     "output_type": "display_data"
    },
    {
     "data": {
      "text/plain": [
       "<Figure size 1152x288 with 0 Axes>"
      ]
     },
     "metadata": {},
     "output_type": "display_data"
    },
    {
     "data": {
      "text/plain": [
       "<Figure size 1152x288 with 0 Axes>"
      ]
     },
     "metadata": {},
     "output_type": "display_data"
    },
    {
     "data": {
      "text/plain": [
       "<Figure size 1152x288 with 0 Axes>"
      ]
     },
     "metadata": {},
     "output_type": "display_data"
    },
    {
     "data": {
      "text/plain": [
       "<Figure size 1152x288 with 0 Axes>"
      ]
     },
     "metadata": {},
     "output_type": "display_data"
    },
    {
     "data": {
      "text/plain": [
       "<Figure size 1152x288 with 0 Axes>"
      ]
     },
     "metadata": {},
     "output_type": "display_data"
    },
    {
     "data": {
      "text/plain": [
       "<Figure size 1152x288 with 0 Axes>"
      ]
     },
     "metadata": {},
     "output_type": "display_data"
    },
    {
     "data": {
      "text/plain": [
       "<Figure size 1152x288 with 0 Axes>"
      ]
     },
     "metadata": {},
     "output_type": "display_data"
    },
    {
     "data": {
      "text/plain": [
       "<Figure size 1152x288 with 0 Axes>"
      ]
     },
     "metadata": {},
     "output_type": "display_data"
    },
    {
     "data": {
      "text/plain": [
       "<Figure size 1152x288 with 0 Axes>"
      ]
     },
     "metadata": {},
     "output_type": "display_data"
    },
    {
     "data": {
      "text/plain": [
       "<Figure size 1152x288 with 0 Axes>"
      ]
     },
     "metadata": {},
     "output_type": "display_data"
    },
    {
     "data": {
      "text/plain": [
       "<Figure size 1152x288 with 0 Axes>"
      ]
     },
     "metadata": {},
     "output_type": "display_data"
    },
    {
     "data": {
      "text/plain": [
       "<Figure size 1152x288 with 0 Axes>"
      ]
     },
     "metadata": {},
     "output_type": "display_data"
    },
    {
     "data": {
      "text/plain": [
       "<Figure size 1152x288 with 0 Axes>"
      ]
     },
     "metadata": {},
     "output_type": "display_data"
    },
    {
     "data": {
      "text/plain": [
       "<Figure size 1152x288 with 0 Axes>"
      ]
     },
     "metadata": {},
     "output_type": "display_data"
    },
    {
     "data": {
      "text/plain": [
       "<Figure size 1152x288 with 0 Axes>"
      ]
     },
     "metadata": {},
     "output_type": "display_data"
    },
    {
     "data": {
      "text/plain": [
       "<Figure size 1152x288 with 0 Axes>"
      ]
     },
     "metadata": {},
     "output_type": "display_data"
    },
    {
     "data": {
      "text/plain": [
       "<Figure size 1152x288 with 0 Axes>"
      ]
     },
     "metadata": {},
     "output_type": "display_data"
    },
    {
     "data": {
      "text/plain": [
       "<Figure size 1152x288 with 0 Axes>"
      ]
     },
     "metadata": {},
     "output_type": "display_data"
    },
    {
     "data": {
      "text/plain": [
       "<Figure size 1152x288 with 0 Axes>"
      ]
     },
     "metadata": {},
     "output_type": "display_data"
    },
    {
     "data": {
      "text/plain": [
       "<Figure size 1152x288 with 0 Axes>"
      ]
     },
     "metadata": {},
     "output_type": "display_data"
    },
    {
     "data": {
      "text/plain": [
       "<Figure size 1152x288 with 0 Axes>"
      ]
     },
     "metadata": {},
     "output_type": "display_data"
    },
    {
     "data": {
      "text/plain": [
       "<Figure size 1152x288 with 0 Axes>"
      ]
     },
     "metadata": {},
     "output_type": "display_data"
    },
    {
     "data": {
      "text/plain": [
       "<Figure size 1152x288 with 0 Axes>"
      ]
     },
     "metadata": {},
     "output_type": "display_data"
    },
    {
     "data": {
      "text/plain": [
       "<Figure size 1152x288 with 0 Axes>"
      ]
     },
     "metadata": {},
     "output_type": "display_data"
    },
    {
     "data": {
      "text/plain": [
       "<Figure size 1152x288 with 0 Axes>"
      ]
     },
     "metadata": {},
     "output_type": "display_data"
    },
    {
     "data": {
      "text/plain": [
       "<Figure size 1152x288 with 0 Axes>"
      ]
     },
     "metadata": {},
     "output_type": "display_data"
    },
    {
     "data": {
      "text/plain": [
       "<Figure size 1152x288 with 0 Axes>"
      ]
     },
     "metadata": {},
     "output_type": "display_data"
    },
    {
     "data": {
      "text/plain": [
       "<Figure size 1152x288 with 0 Axes>"
      ]
     },
     "metadata": {},
     "output_type": "display_data"
    },
    {
     "data": {
      "text/plain": [
       "<Figure size 1152x288 with 0 Axes>"
      ]
     },
     "metadata": {},
     "output_type": "display_data"
    },
    {
     "data": {
      "text/plain": [
       "<Figure size 1152x288 with 0 Axes>"
      ]
     },
     "metadata": {},
     "output_type": "display_data"
    },
    {
     "data": {
      "text/plain": [
       "<Figure size 1152x288 with 0 Axes>"
      ]
     },
     "metadata": {},
     "output_type": "display_data"
    },
    {
     "data": {
      "text/plain": [
       "<Figure size 1152x288 with 0 Axes>"
      ]
     },
     "metadata": {},
     "output_type": "display_data"
    },
    {
     "data": {
      "text/plain": [
       "<Figure size 1152x288 with 0 Axes>"
      ]
     },
     "metadata": {},
     "output_type": "display_data"
    },
    {
     "data": {
      "text/plain": [
       "<Figure size 1152x288 with 0 Axes>"
      ]
     },
     "metadata": {},
     "output_type": "display_data"
    },
    {
     "data": {
      "text/plain": [
       "<Figure size 1152x288 with 0 Axes>"
      ]
     },
     "metadata": {},
     "output_type": "display_data"
    },
    {
     "data": {
      "text/plain": [
       "<Figure size 1152x288 with 0 Axes>"
      ]
     },
     "metadata": {},
     "output_type": "display_data"
    },
    {
     "data": {
      "text/plain": [
       "<Figure size 1152x288 with 0 Axes>"
      ]
     },
     "metadata": {},
     "output_type": "display_data"
    },
    {
     "data": {
      "text/plain": [
       "<Figure size 1152x288 with 0 Axes>"
      ]
     },
     "metadata": {},
     "output_type": "display_data"
    },
    {
     "data": {
      "text/plain": [
       "<Figure size 1152x288 with 0 Axes>"
      ]
     },
     "metadata": {},
     "output_type": "display_data"
    },
    {
     "data": {
      "text/plain": [
       "<Figure size 1152x288 with 0 Axes>"
      ]
     },
     "metadata": {},
     "output_type": "display_data"
    },
    {
     "data": {
      "text/plain": [
       "<Figure size 1152x288 with 0 Axes>"
      ]
     },
     "metadata": {},
     "output_type": "display_data"
    },
    {
     "data": {
      "text/plain": [
       "<Figure size 1152x288 with 0 Axes>"
      ]
     },
     "metadata": {},
     "output_type": "display_data"
    },
    {
     "data": {
      "text/plain": [
       "<Figure size 1152x288 with 0 Axes>"
      ]
     },
     "metadata": {},
     "output_type": "display_data"
    },
    {
     "data": {
      "text/plain": [
       "<Figure size 1152x288 with 0 Axes>"
      ]
     },
     "metadata": {},
     "output_type": "display_data"
    },
    {
     "data": {
      "text/plain": [
       "<Figure size 1152x288 with 0 Axes>"
      ]
     },
     "metadata": {},
     "output_type": "display_data"
    },
    {
     "data": {
      "text/plain": [
       "<Figure size 1152x288 with 0 Axes>"
      ]
     },
     "metadata": {},
     "output_type": "display_data"
    },
    {
     "data": {
      "text/plain": [
       "<Figure size 1152x288 with 0 Axes>"
      ]
     },
     "metadata": {},
     "output_type": "display_data"
    },
    {
     "data": {
      "text/plain": [
       "<Figure size 1152x288 with 0 Axes>"
      ]
     },
     "metadata": {},
     "output_type": "display_data"
    },
    {
     "data": {
      "text/plain": [
       "<Figure size 1152x288 with 0 Axes>"
      ]
     },
     "metadata": {},
     "output_type": "display_data"
    },
    {
     "data": {
      "text/plain": [
       "<Figure size 1152x288 with 0 Axes>"
      ]
     },
     "metadata": {},
     "output_type": "display_data"
    },
    {
     "data": {
      "text/plain": [
       "<Figure size 1152x288 with 0 Axes>"
      ]
     },
     "metadata": {},
     "output_type": "display_data"
    },
    {
     "data": {
      "text/plain": [
       "<Figure size 1152x288 with 0 Axes>"
      ]
     },
     "metadata": {},
     "output_type": "display_data"
    },
    {
     "data": {
      "text/plain": [
       "<Figure size 1152x288 with 0 Axes>"
      ]
     },
     "metadata": {},
     "output_type": "display_data"
    },
    {
     "data": {
      "text/plain": [
       "<Figure size 1152x288 with 0 Axes>"
      ]
     },
     "metadata": {},
     "output_type": "display_data"
    },
    {
     "data": {
      "text/plain": [
       "<Figure size 1152x288 with 0 Axes>"
      ]
     },
     "metadata": {},
     "output_type": "display_data"
    },
    {
     "data": {
      "text/plain": [
       "<Figure size 1152x288 with 0 Axes>"
      ]
     },
     "metadata": {},
     "output_type": "display_data"
    },
    {
     "data": {
      "text/plain": [
       "<Figure size 1152x288 with 0 Axes>"
      ]
     },
     "metadata": {},
     "output_type": "display_data"
    },
    {
     "data": {
      "text/plain": [
       "<Figure size 1152x288 with 0 Axes>"
      ]
     },
     "metadata": {},
     "output_type": "display_data"
    },
    {
     "data": {
      "text/plain": [
       "<Figure size 1152x288 with 0 Axes>"
      ]
     },
     "metadata": {},
     "output_type": "display_data"
    },
    {
     "data": {
      "text/plain": [
       "<Figure size 1152x288 with 0 Axes>"
      ]
     },
     "metadata": {},
     "output_type": "display_data"
    },
    {
     "data": {
      "text/plain": [
       "<Figure size 1152x288 with 0 Axes>"
      ]
     },
     "metadata": {},
     "output_type": "display_data"
    },
    {
     "data": {
      "text/plain": [
       "<Figure size 1152x288 with 0 Axes>"
      ]
     },
     "metadata": {},
     "output_type": "display_data"
    },
    {
     "data": {
      "text/plain": [
       "<Figure size 1152x288 with 0 Axes>"
      ]
     },
     "metadata": {},
     "output_type": "display_data"
    },
    {
     "data": {
      "text/plain": [
       "<Figure size 1152x288 with 0 Axes>"
      ]
     },
     "metadata": {},
     "output_type": "display_data"
    },
    {
     "data": {
      "text/plain": [
       "<Figure size 1152x288 with 0 Axes>"
      ]
     },
     "metadata": {},
     "output_type": "display_data"
    },
    {
     "data": {
      "text/plain": [
       "<Figure size 1152x288 with 0 Axes>"
      ]
     },
     "metadata": {},
     "output_type": "display_data"
    },
    {
     "data": {
      "text/plain": [
       "<Figure size 1152x288 with 0 Axes>"
      ]
     },
     "metadata": {},
     "output_type": "display_data"
    },
    {
     "data": {
      "text/plain": [
       "<Figure size 1152x288 with 0 Axes>"
      ]
     },
     "metadata": {},
     "output_type": "display_data"
    },
    {
     "data": {
      "text/plain": [
       "<Figure size 1152x288 with 0 Axes>"
      ]
     },
     "metadata": {},
     "output_type": "display_data"
    },
    {
     "data": {
      "text/plain": [
       "<Figure size 1152x288 with 0 Axes>"
      ]
     },
     "metadata": {},
     "output_type": "display_data"
    },
    {
     "data": {
      "text/plain": [
       "<Figure size 1152x288 with 0 Axes>"
      ]
     },
     "metadata": {},
     "output_type": "display_data"
    },
    {
     "data": {
      "text/plain": [
       "<Figure size 1152x288 with 0 Axes>"
      ]
     },
     "metadata": {},
     "output_type": "display_data"
    },
    {
     "data": {
      "text/plain": [
       "<Figure size 1152x288 with 0 Axes>"
      ]
     },
     "metadata": {},
     "output_type": "display_data"
    },
    {
     "data": {
      "text/plain": [
       "<Figure size 1152x288 with 0 Axes>"
      ]
     },
     "metadata": {},
     "output_type": "display_data"
    },
    {
     "data": {
      "text/plain": [
       "<Figure size 1152x288 with 0 Axes>"
      ]
     },
     "metadata": {},
     "output_type": "display_data"
    },
    {
     "data": {
      "text/plain": [
       "<Figure size 1152x288 with 0 Axes>"
      ]
     },
     "metadata": {},
     "output_type": "display_data"
    },
    {
     "data": {
      "text/plain": [
       "<Figure size 1152x288 with 0 Axes>"
      ]
     },
     "metadata": {},
     "output_type": "display_data"
    },
    {
     "data": {
      "text/plain": [
       "<Figure size 1152x288 with 0 Axes>"
      ]
     },
     "metadata": {},
     "output_type": "display_data"
    },
    {
     "data": {
      "text/plain": [
       "<Figure size 1152x288 with 0 Axes>"
      ]
     },
     "metadata": {},
     "output_type": "display_data"
    },
    {
     "data": {
      "text/plain": [
       "<Figure size 1152x288 with 0 Axes>"
      ]
     },
     "metadata": {},
     "output_type": "display_data"
    },
    {
     "data": {
      "text/plain": [
       "<Figure size 1152x288 with 0 Axes>"
      ]
     },
     "metadata": {},
     "output_type": "display_data"
    },
    {
     "data": {
      "text/plain": [
       "<Figure size 1152x288 with 0 Axes>"
      ]
     },
     "metadata": {},
     "output_type": "display_data"
    },
    {
     "data": {
      "text/plain": [
       "<Figure size 1152x288 with 0 Axes>"
      ]
     },
     "metadata": {},
     "output_type": "display_data"
    },
    {
     "data": {
      "text/plain": [
       "<Figure size 1152x288 with 0 Axes>"
      ]
     },
     "metadata": {},
     "output_type": "display_data"
    },
    {
     "data": {
      "text/plain": [
       "<Figure size 1152x288 with 0 Axes>"
      ]
     },
     "metadata": {},
     "output_type": "display_data"
    },
    {
     "data": {
      "text/plain": [
       "<Figure size 1152x288 with 0 Axes>"
      ]
     },
     "metadata": {},
     "output_type": "display_data"
    },
    {
     "data": {
      "text/plain": [
       "<Figure size 1152x288 with 0 Axes>"
      ]
     },
     "metadata": {},
     "output_type": "display_data"
    },
    {
     "data": {
      "text/plain": [
       "<Figure size 1152x288 with 0 Axes>"
      ]
     },
     "metadata": {},
     "output_type": "display_data"
    },
    {
     "data": {
      "text/plain": [
       "<Figure size 1152x288 with 0 Axes>"
      ]
     },
     "metadata": {},
     "output_type": "display_data"
    },
    {
     "data": {
      "text/plain": [
       "<Figure size 1152x288 with 0 Axes>"
      ]
     },
     "metadata": {},
     "output_type": "display_data"
    },
    {
     "data": {
      "text/plain": [
       "<Figure size 1152x288 with 0 Axes>"
      ]
     },
     "metadata": {},
     "output_type": "display_data"
    },
    {
     "data": {
      "text/plain": [
       "<Figure size 1152x288 with 0 Axes>"
      ]
     },
     "metadata": {},
     "output_type": "display_data"
    },
    {
     "data": {
      "text/plain": [
       "<Figure size 1152x288 with 0 Axes>"
      ]
     },
     "metadata": {},
     "output_type": "display_data"
    },
    {
     "data": {
      "text/plain": [
       "<Figure size 1152x288 with 0 Axes>"
      ]
     },
     "metadata": {},
     "output_type": "display_data"
    },
    {
     "data": {
      "text/plain": [
       "<Figure size 1152x288 with 0 Axes>"
      ]
     },
     "metadata": {},
     "output_type": "display_data"
    },
    {
     "data": {
      "text/plain": [
       "<Figure size 1152x288 with 0 Axes>"
      ]
     },
     "metadata": {},
     "output_type": "display_data"
    },
    {
     "data": {
      "text/plain": [
       "<Figure size 1152x288 with 0 Axes>"
      ]
     },
     "metadata": {},
     "output_type": "display_data"
    },
    {
     "data": {
      "text/plain": [
       "<Figure size 1152x288 with 0 Axes>"
      ]
     },
     "metadata": {},
     "output_type": "display_data"
    },
    {
     "data": {
      "text/plain": [
       "<Figure size 1152x288 with 0 Axes>"
      ]
     },
     "metadata": {},
     "output_type": "display_data"
    },
    {
     "data": {
      "text/plain": [
       "<Figure size 1152x288 with 0 Axes>"
      ]
     },
     "metadata": {},
     "output_type": "display_data"
    },
    {
     "data": {
      "text/plain": [
       "<Figure size 1152x288 with 0 Axes>"
      ]
     },
     "metadata": {},
     "output_type": "display_data"
    },
    {
     "data": {
      "text/plain": [
       "<Figure size 1152x288 with 0 Axes>"
      ]
     },
     "metadata": {},
     "output_type": "display_data"
    },
    {
     "data": {
      "text/plain": [
       "<Figure size 1152x288 with 0 Axes>"
      ]
     },
     "metadata": {},
     "output_type": "display_data"
    },
    {
     "data": {
      "text/plain": [
       "<Figure size 1152x288 with 0 Axes>"
      ]
     },
     "metadata": {},
     "output_type": "display_data"
    },
    {
     "data": {
      "text/plain": [
       "<Figure size 1152x288 with 0 Axes>"
      ]
     },
     "metadata": {},
     "output_type": "display_data"
    },
    {
     "data": {
      "text/plain": [
       "<Figure size 1152x288 with 0 Axes>"
      ]
     },
     "metadata": {},
     "output_type": "display_data"
    },
    {
     "data": {
      "text/plain": [
       "<Figure size 1152x288 with 0 Axes>"
      ]
     },
     "metadata": {},
     "output_type": "display_data"
    },
    {
     "data": {
      "text/plain": [
       "<Figure size 1152x288 with 0 Axes>"
      ]
     },
     "metadata": {},
     "output_type": "display_data"
    },
    {
     "data": {
      "text/plain": [
       "<Figure size 1152x288 with 0 Axes>"
      ]
     },
     "metadata": {},
     "output_type": "display_data"
    },
    {
     "data": {
      "text/plain": [
       "<Figure size 1152x288 with 0 Axes>"
      ]
     },
     "metadata": {},
     "output_type": "display_data"
    },
    {
     "data": {
      "text/plain": [
       "<Figure size 1152x288 with 0 Axes>"
      ]
     },
     "metadata": {},
     "output_type": "display_data"
    },
    {
     "data": {
      "text/plain": [
       "<Figure size 1152x288 with 0 Axes>"
      ]
     },
     "metadata": {},
     "output_type": "display_data"
    },
    {
     "data": {
      "text/plain": [
       "<Figure size 1152x288 with 0 Axes>"
      ]
     },
     "metadata": {},
     "output_type": "display_data"
    },
    {
     "data": {
      "text/plain": [
       "<Figure size 1152x288 with 0 Axes>"
      ]
     },
     "metadata": {},
     "output_type": "display_data"
    },
    {
     "data": {
      "text/plain": [
       "<Figure size 1152x288 with 0 Axes>"
      ]
     },
     "metadata": {},
     "output_type": "display_data"
    },
    {
     "data": {
      "text/plain": [
       "<Figure size 1152x288 with 0 Axes>"
      ]
     },
     "metadata": {},
     "output_type": "display_data"
    },
    {
     "data": {
      "text/plain": [
       "<Figure size 1152x288 with 0 Axes>"
      ]
     },
     "metadata": {},
     "output_type": "display_data"
    },
    {
     "data": {
      "text/plain": [
       "<Figure size 1152x288 with 0 Axes>"
      ]
     },
     "metadata": {},
     "output_type": "display_data"
    },
    {
     "data": {
      "text/plain": [
       "<Figure size 1152x288 with 0 Axes>"
      ]
     },
     "metadata": {},
     "output_type": "display_data"
    },
    {
     "data": {
      "text/plain": [
       "<Figure size 1152x288 with 0 Axes>"
      ]
     },
     "metadata": {},
     "output_type": "display_data"
    },
    {
     "data": {
      "text/plain": [
       "<Figure size 1152x288 with 0 Axes>"
      ]
     },
     "metadata": {},
     "output_type": "display_data"
    },
    {
     "data": {
      "text/plain": [
       "<Figure size 1152x288 with 0 Axes>"
      ]
     },
     "metadata": {},
     "output_type": "display_data"
    },
    {
     "data": {
      "text/plain": [
       "<Figure size 1152x288 with 0 Axes>"
      ]
     },
     "metadata": {},
     "output_type": "display_data"
    },
    {
     "data": {
      "text/plain": [
       "<Figure size 1152x288 with 0 Axes>"
      ]
     },
     "metadata": {},
     "output_type": "display_data"
    },
    {
     "data": {
      "text/plain": [
       "<Figure size 1152x288 with 0 Axes>"
      ]
     },
     "metadata": {},
     "output_type": "display_data"
    },
    {
     "data": {
      "text/plain": [
       "<Figure size 1152x288 with 0 Axes>"
      ]
     },
     "metadata": {},
     "output_type": "display_data"
    },
    {
     "data": {
      "text/plain": [
       "<Figure size 1152x288 with 0 Axes>"
      ]
     },
     "metadata": {},
     "output_type": "display_data"
    },
    {
     "data": {
      "text/plain": [
       "<Figure size 1152x288 with 0 Axes>"
      ]
     },
     "metadata": {},
     "output_type": "display_data"
    },
    {
     "data": {
      "text/plain": [
       "<Figure size 1152x288 with 0 Axes>"
      ]
     },
     "metadata": {},
     "output_type": "display_data"
    },
    {
     "data": {
      "text/plain": [
       "<Figure size 1152x288 with 0 Axes>"
      ]
     },
     "metadata": {},
     "output_type": "display_data"
    },
    {
     "data": {
      "text/plain": [
       "<Figure size 1152x288 with 0 Axes>"
      ]
     },
     "metadata": {},
     "output_type": "display_data"
    },
    {
     "data": {
      "text/plain": [
       "<Figure size 1152x288 with 0 Axes>"
      ]
     },
     "metadata": {},
     "output_type": "display_data"
    },
    {
     "data": {
      "text/plain": [
       "<Figure size 1152x288 with 0 Axes>"
      ]
     },
     "metadata": {},
     "output_type": "display_data"
    },
    {
     "data": {
      "text/plain": [
       "<Figure size 1152x288 with 0 Axes>"
      ]
     },
     "metadata": {},
     "output_type": "display_data"
    },
    {
     "data": {
      "text/plain": [
       "<Figure size 1152x288 with 0 Axes>"
      ]
     },
     "metadata": {},
     "output_type": "display_data"
    },
    {
     "data": {
      "text/plain": [
       "<Figure size 1152x288 with 0 Axes>"
      ]
     },
     "metadata": {},
     "output_type": "display_data"
    },
    {
     "data": {
      "text/plain": [
       "<Figure size 1152x288 with 0 Axes>"
      ]
     },
     "metadata": {},
     "output_type": "display_data"
    },
    {
     "data": {
      "text/plain": [
       "<Figure size 1152x288 with 0 Axes>"
      ]
     },
     "metadata": {},
     "output_type": "display_data"
    },
    {
     "data": {
      "text/plain": [
       "<Figure size 1152x288 with 0 Axes>"
      ]
     },
     "metadata": {},
     "output_type": "display_data"
    },
    {
     "data": {
      "text/plain": [
       "<Figure size 1152x288 with 0 Axes>"
      ]
     },
     "metadata": {},
     "output_type": "display_data"
    },
    {
     "data": {
      "text/plain": [
       "<Figure size 1152x288 with 0 Axes>"
      ]
     },
     "metadata": {},
     "output_type": "display_data"
    },
    {
     "data": {
      "text/plain": [
       "<Figure size 1152x288 with 0 Axes>"
      ]
     },
     "metadata": {},
     "output_type": "display_data"
    },
    {
     "data": {
      "text/plain": [
       "<Figure size 1152x288 with 0 Axes>"
      ]
     },
     "metadata": {},
     "output_type": "display_data"
    },
    {
     "data": {
      "text/plain": [
       "<Figure size 1152x288 with 0 Axes>"
      ]
     },
     "metadata": {},
     "output_type": "display_data"
    },
    {
     "data": {
      "text/plain": [
       "<Figure size 1152x288 with 0 Axes>"
      ]
     },
     "metadata": {},
     "output_type": "display_data"
    },
    {
     "data": {
      "text/plain": [
       "<Figure size 1152x288 with 0 Axes>"
      ]
     },
     "metadata": {},
     "output_type": "display_data"
    },
    {
     "data": {
      "text/plain": [
       "<Figure size 1152x288 with 0 Axes>"
      ]
     },
     "metadata": {},
     "output_type": "display_data"
    },
    {
     "data": {
      "text/plain": [
       "<Figure size 1152x288 with 0 Axes>"
      ]
     },
     "metadata": {},
     "output_type": "display_data"
    },
    {
     "data": {
      "text/plain": [
       "<Figure size 1152x288 with 0 Axes>"
      ]
     },
     "metadata": {},
     "output_type": "display_data"
    },
    {
     "data": {
      "text/plain": [
       "<Figure size 1152x288 with 0 Axes>"
      ]
     },
     "metadata": {},
     "output_type": "display_data"
    },
    {
     "data": {
      "text/plain": [
       "<Figure size 1152x288 with 0 Axes>"
      ]
     },
     "metadata": {},
     "output_type": "display_data"
    },
    {
     "data": {
      "text/plain": [
       "<Figure size 1152x288 with 0 Axes>"
      ]
     },
     "metadata": {},
     "output_type": "display_data"
    },
    {
     "data": {
      "text/plain": [
       "<Figure size 1152x288 with 0 Axes>"
      ]
     },
     "metadata": {},
     "output_type": "display_data"
    },
    {
     "data": {
      "text/plain": [
       "<Figure size 1152x288 with 0 Axes>"
      ]
     },
     "metadata": {},
     "output_type": "display_data"
    },
    {
     "data": {
      "text/plain": [
       "<Figure size 1152x288 with 0 Axes>"
      ]
     },
     "metadata": {},
     "output_type": "display_data"
    },
    {
     "data": {
      "text/plain": [
       "<Figure size 1152x288 with 0 Axes>"
      ]
     },
     "metadata": {},
     "output_type": "display_data"
    },
    {
     "data": {
      "text/plain": [
       "<Figure size 1152x288 with 0 Axes>"
      ]
     },
     "metadata": {},
     "output_type": "display_data"
    },
    {
     "data": {
      "text/plain": [
       "<Figure size 1152x288 with 0 Axes>"
      ]
     },
     "metadata": {},
     "output_type": "display_data"
    },
    {
     "data": {
      "text/plain": [
       "<Figure size 1152x288 with 0 Axes>"
      ]
     },
     "metadata": {},
     "output_type": "display_data"
    },
    {
     "data": {
      "text/plain": [
       "<Figure size 1152x288 with 0 Axes>"
      ]
     },
     "metadata": {},
     "output_type": "display_data"
    },
    {
     "data": {
      "text/plain": [
       "<Figure size 1152x288 with 0 Axes>"
      ]
     },
     "metadata": {},
     "output_type": "display_data"
    },
    {
     "data": {
      "text/plain": [
       "<Figure size 1152x288 with 0 Axes>"
      ]
     },
     "metadata": {},
     "output_type": "display_data"
    },
    {
     "data": {
      "text/plain": [
       "<Figure size 1152x288 with 0 Axes>"
      ]
     },
     "metadata": {},
     "output_type": "display_data"
    },
    {
     "data": {
      "text/plain": [
       "<Figure size 1152x288 with 0 Axes>"
      ]
     },
     "metadata": {},
     "output_type": "display_data"
    },
    {
     "data": {
      "text/plain": [
       "<Figure size 1152x288 with 0 Axes>"
      ]
     },
     "metadata": {},
     "output_type": "display_data"
    },
    {
     "data": {
      "text/plain": [
       "<Figure size 1152x288 with 0 Axes>"
      ]
     },
     "metadata": {},
     "output_type": "display_data"
    },
    {
     "data": {
      "text/plain": [
       "<Figure size 1152x288 with 0 Axes>"
      ]
     },
     "metadata": {},
     "output_type": "display_data"
    },
    {
     "data": {
      "text/plain": [
       "<Figure size 1152x288 with 0 Axes>"
      ]
     },
     "metadata": {},
     "output_type": "display_data"
    },
    {
     "data": {
      "text/plain": [
       "<Figure size 1152x288 with 0 Axes>"
      ]
     },
     "metadata": {},
     "output_type": "display_data"
    },
    {
     "data": {
      "text/plain": [
       "<Figure size 1152x288 with 0 Axes>"
      ]
     },
     "metadata": {},
     "output_type": "display_data"
    },
    {
     "data": {
      "text/plain": [
       "<Figure size 1152x288 with 0 Axes>"
      ]
     },
     "metadata": {},
     "output_type": "display_data"
    },
    {
     "data": {
      "text/plain": [
       "<Figure size 1152x288 with 0 Axes>"
      ]
     },
     "metadata": {},
     "output_type": "display_data"
    },
    {
     "data": {
      "text/plain": [
       "<Figure size 1152x288 with 0 Axes>"
      ]
     },
     "metadata": {},
     "output_type": "display_data"
    },
    {
     "data": {
      "text/plain": [
       "<Figure size 1152x288 with 0 Axes>"
      ]
     },
     "metadata": {},
     "output_type": "display_data"
    },
    {
     "data": {
      "text/plain": [
       "<Figure size 1152x288 with 0 Axes>"
      ]
     },
     "metadata": {},
     "output_type": "display_data"
    },
    {
     "data": {
      "text/plain": [
       "<Figure size 1152x288 with 0 Axes>"
      ]
     },
     "metadata": {},
     "output_type": "display_data"
    },
    {
     "data": {
      "text/plain": [
       "<Figure size 1152x288 with 0 Axes>"
      ]
     },
     "metadata": {},
     "output_type": "display_data"
    },
    {
     "data": {
      "text/plain": [
       "<Figure size 1152x288 with 0 Axes>"
      ]
     },
     "metadata": {},
     "output_type": "display_data"
    },
    {
     "data": {
      "text/plain": [
       "<Figure size 1152x288 with 0 Axes>"
      ]
     },
     "metadata": {},
     "output_type": "display_data"
    },
    {
     "data": {
      "text/plain": [
       "<Figure size 1152x288 with 0 Axes>"
      ]
     },
     "metadata": {},
     "output_type": "display_data"
    },
    {
     "data": {
      "text/plain": [
       "<Figure size 1152x288 with 0 Axes>"
      ]
     },
     "metadata": {},
     "output_type": "display_data"
    },
    {
     "data": {
      "text/plain": [
       "<Figure size 1152x288 with 0 Axes>"
      ]
     },
     "metadata": {},
     "output_type": "display_data"
    },
    {
     "data": {
      "text/plain": [
       "<Figure size 1152x288 with 0 Axes>"
      ]
     },
     "metadata": {},
     "output_type": "display_data"
    },
    {
     "data": {
      "text/plain": [
       "<Figure size 1152x288 with 0 Axes>"
      ]
     },
     "metadata": {},
     "output_type": "display_data"
    },
    {
     "data": {
      "text/plain": [
       "<Figure size 1152x288 with 0 Axes>"
      ]
     },
     "metadata": {},
     "output_type": "display_data"
    },
    {
     "data": {
      "text/plain": [
       "<Figure size 1152x288 with 0 Axes>"
      ]
     },
     "metadata": {},
     "output_type": "display_data"
    },
    {
     "data": {
      "text/plain": [
       "<Figure size 1152x288 with 0 Axes>"
      ]
     },
     "metadata": {},
     "output_type": "display_data"
    },
    {
     "data": {
      "text/plain": [
       "<Figure size 1152x288 with 0 Axes>"
      ]
     },
     "metadata": {},
     "output_type": "display_data"
    },
    {
     "data": {
      "text/plain": [
       "<Figure size 1152x288 with 0 Axes>"
      ]
     },
     "metadata": {},
     "output_type": "display_data"
    },
    {
     "data": {
      "text/plain": [
       "<Figure size 1152x288 with 0 Axes>"
      ]
     },
     "metadata": {},
     "output_type": "display_data"
    },
    {
     "data": {
      "text/plain": [
       "<Figure size 1152x288 with 0 Axes>"
      ]
     },
     "metadata": {},
     "output_type": "display_data"
    },
    {
     "data": {
      "text/plain": [
       "<Figure size 1152x288 with 0 Axes>"
      ]
     },
     "metadata": {},
     "output_type": "display_data"
    },
    {
     "data": {
      "text/plain": [
       "<Figure size 1152x288 with 0 Axes>"
      ]
     },
     "metadata": {},
     "output_type": "display_data"
    },
    {
     "data": {
      "text/plain": [
       "<Figure size 1152x288 with 0 Axes>"
      ]
     },
     "metadata": {},
     "output_type": "display_data"
    },
    {
     "data": {
      "text/plain": [
       "<Figure size 1152x288 with 0 Axes>"
      ]
     },
     "metadata": {},
     "output_type": "display_data"
    },
    {
     "data": {
      "text/plain": [
       "<Figure size 1152x288 with 0 Axes>"
      ]
     },
     "metadata": {},
     "output_type": "display_data"
    },
    {
     "data": {
      "text/plain": [
       "<Figure size 1152x288 with 0 Axes>"
      ]
     },
     "metadata": {},
     "output_type": "display_data"
    },
    {
     "data": {
      "text/plain": [
       "<Figure size 1152x288 with 0 Axes>"
      ]
     },
     "metadata": {},
     "output_type": "display_data"
    },
    {
     "data": {
      "text/plain": [
       "<Figure size 1152x288 with 0 Axes>"
      ]
     },
     "metadata": {},
     "output_type": "display_data"
    },
    {
     "data": {
      "text/plain": [
       "<Figure size 1152x288 with 0 Axes>"
      ]
     },
     "metadata": {},
     "output_type": "display_data"
    },
    {
     "data": {
      "text/plain": [
       "<Figure size 1152x288 with 0 Axes>"
      ]
     },
     "metadata": {},
     "output_type": "display_data"
    },
    {
     "data": {
      "text/plain": [
       "<Figure size 1152x288 with 0 Axes>"
      ]
     },
     "metadata": {},
     "output_type": "display_data"
    },
    {
     "data": {
      "text/plain": [
       "<Figure size 1152x288 with 0 Axes>"
      ]
     },
     "metadata": {},
     "output_type": "display_data"
    },
    {
     "data": {
      "text/plain": [
       "<Figure size 1152x288 with 0 Axes>"
      ]
     },
     "metadata": {},
     "output_type": "display_data"
    },
    {
     "data": {
      "text/plain": [
       "<Figure size 1152x288 with 0 Axes>"
      ]
     },
     "metadata": {},
     "output_type": "display_data"
    },
    {
     "data": {
      "text/plain": [
       "<Figure size 1152x288 with 0 Axes>"
      ]
     },
     "metadata": {},
     "output_type": "display_data"
    },
    {
     "data": {
      "text/plain": [
       "<Figure size 1152x288 with 0 Axes>"
      ]
     },
     "metadata": {},
     "output_type": "display_data"
    },
    {
     "data": {
      "text/plain": [
       "<Figure size 1152x288 with 0 Axes>"
      ]
     },
     "metadata": {},
     "output_type": "display_data"
    },
    {
     "data": {
      "text/plain": [
       "<Figure size 1152x288 with 0 Axes>"
      ]
     },
     "metadata": {},
     "output_type": "display_data"
    },
    {
     "data": {
      "text/plain": [
       "<Figure size 1152x288 with 0 Axes>"
      ]
     },
     "metadata": {},
     "output_type": "display_data"
    },
    {
     "data": {
      "text/plain": [
       "<Figure size 1152x288 with 0 Axes>"
      ]
     },
     "metadata": {},
     "output_type": "display_data"
    },
    {
     "data": {
      "text/plain": [
       "<Figure size 1152x288 with 0 Axes>"
      ]
     },
     "metadata": {},
     "output_type": "display_data"
    },
    {
     "data": {
      "text/plain": [
       "<Figure size 1152x288 with 0 Axes>"
      ]
     },
     "metadata": {},
     "output_type": "display_data"
    },
    {
     "data": {
      "text/plain": [
       "<Figure size 1152x288 with 0 Axes>"
      ]
     },
     "metadata": {},
     "output_type": "display_data"
    },
    {
     "data": {
      "text/plain": [
       "<Figure size 1152x288 with 0 Axes>"
      ]
     },
     "metadata": {},
     "output_type": "display_data"
    },
    {
     "data": {
      "text/plain": [
       "<Figure size 1152x288 with 0 Axes>"
      ]
     },
     "metadata": {},
     "output_type": "display_data"
    },
    {
     "data": {
      "text/plain": [
       "<Figure size 1152x288 with 0 Axes>"
      ]
     },
     "metadata": {},
     "output_type": "display_data"
    },
    {
     "data": {
      "text/plain": [
       "<Figure size 1152x288 with 0 Axes>"
      ]
     },
     "metadata": {},
     "output_type": "display_data"
    },
    {
     "data": {
      "text/plain": [
       "<Figure size 1152x288 with 0 Axes>"
      ]
     },
     "metadata": {},
     "output_type": "display_data"
    },
    {
     "data": {
      "text/plain": [
       "<Figure size 1152x288 with 0 Axes>"
      ]
     },
     "metadata": {},
     "output_type": "display_data"
    },
    {
     "data": {
      "text/plain": [
       "<Figure size 1152x288 with 0 Axes>"
      ]
     },
     "metadata": {},
     "output_type": "display_data"
    },
    {
     "data": {
      "text/plain": [
       "<Figure size 1152x288 with 0 Axes>"
      ]
     },
     "metadata": {},
     "output_type": "display_data"
    },
    {
     "data": {
      "text/plain": [
       "<Figure size 1152x288 with 0 Axes>"
      ]
     },
     "metadata": {},
     "output_type": "display_data"
    },
    {
     "data": {
      "text/plain": [
       "<Figure size 1152x288 with 0 Axes>"
      ]
     },
     "metadata": {},
     "output_type": "display_data"
    },
    {
     "data": {
      "text/plain": [
       "<Figure size 1152x288 with 0 Axes>"
      ]
     },
     "metadata": {},
     "output_type": "display_data"
    },
    {
     "data": {
      "text/plain": [
       "<Figure size 1152x288 with 0 Axes>"
      ]
     },
     "metadata": {},
     "output_type": "display_data"
    },
    {
     "data": {
      "text/plain": [
       "<Figure size 1152x288 with 0 Axes>"
      ]
     },
     "metadata": {},
     "output_type": "display_data"
    },
    {
     "data": {
      "text/plain": [
       "<Figure size 1152x288 with 0 Axes>"
      ]
     },
     "metadata": {},
     "output_type": "display_data"
    },
    {
     "data": {
      "text/plain": [
       "<Figure size 1152x288 with 0 Axes>"
      ]
     },
     "metadata": {},
     "output_type": "display_data"
    },
    {
     "data": {
      "text/plain": [
       "<Figure size 1152x288 with 0 Axes>"
      ]
     },
     "metadata": {},
     "output_type": "display_data"
    },
    {
     "data": {
      "text/plain": [
       "<Figure size 1152x288 with 0 Axes>"
      ]
     },
     "metadata": {},
     "output_type": "display_data"
    },
    {
     "data": {
      "text/plain": [
       "<Figure size 1152x288 with 0 Axes>"
      ]
     },
     "metadata": {},
     "output_type": "display_data"
    },
    {
     "data": {
      "text/plain": [
       "<Figure size 1152x288 with 0 Axes>"
      ]
     },
     "metadata": {},
     "output_type": "display_data"
    },
    {
     "data": {
      "text/plain": [
       "<Figure size 1152x288 with 0 Axes>"
      ]
     },
     "metadata": {},
     "output_type": "display_data"
    },
    {
     "data": {
      "text/plain": [
       "<Figure size 1152x288 with 0 Axes>"
      ]
     },
     "metadata": {},
     "output_type": "display_data"
    },
    {
     "data": {
      "text/plain": [
       "<Figure size 1152x288 with 0 Axes>"
      ]
     },
     "metadata": {},
     "output_type": "display_data"
    },
    {
     "data": {
      "text/plain": [
       "<Figure size 1152x288 with 0 Axes>"
      ]
     },
     "metadata": {},
     "output_type": "display_data"
    },
    {
     "data": {
      "text/plain": [
       "<Figure size 1152x288 with 0 Axes>"
      ]
     },
     "metadata": {},
     "output_type": "display_data"
    },
    {
     "data": {
      "text/plain": [
       "<Figure size 1152x288 with 0 Axes>"
      ]
     },
     "metadata": {},
     "output_type": "display_data"
    },
    {
     "data": {
      "text/plain": [
       "<Figure size 1152x288 with 0 Axes>"
      ]
     },
     "metadata": {},
     "output_type": "display_data"
    },
    {
     "data": {
      "text/plain": [
       "<Figure size 1152x288 with 0 Axes>"
      ]
     },
     "metadata": {},
     "output_type": "display_data"
    },
    {
     "data": {
      "text/plain": [
       "<Figure size 1152x288 with 0 Axes>"
      ]
     },
     "metadata": {},
     "output_type": "display_data"
    },
    {
     "data": {
      "text/plain": [
       "<Figure size 1152x288 with 0 Axes>"
      ]
     },
     "metadata": {},
     "output_type": "display_data"
    },
    {
     "data": {
      "text/plain": [
       "<Figure size 1152x288 with 0 Axes>"
      ]
     },
     "metadata": {},
     "output_type": "display_data"
    },
    {
     "data": {
      "text/plain": [
       "<Figure size 1152x288 with 0 Axes>"
      ]
     },
     "metadata": {},
     "output_type": "display_data"
    },
    {
     "data": {
      "text/plain": [
       "<Figure size 1152x288 with 0 Axes>"
      ]
     },
     "metadata": {},
     "output_type": "display_data"
    },
    {
     "data": {
      "text/plain": [
       "<Figure size 1152x288 with 0 Axes>"
      ]
     },
     "metadata": {},
     "output_type": "display_data"
    },
    {
     "data": {
      "text/plain": [
       "<Figure size 1152x288 with 0 Axes>"
      ]
     },
     "metadata": {},
     "output_type": "display_data"
    },
    {
     "data": {
      "text/plain": [
       "<Figure size 1152x288 with 0 Axes>"
      ]
     },
     "metadata": {},
     "output_type": "display_data"
    },
    {
     "data": {
      "text/plain": [
       "<Figure size 1152x288 with 0 Axes>"
      ]
     },
     "metadata": {},
     "output_type": "display_data"
    },
    {
     "data": {
      "text/plain": [
       "<Figure size 1152x288 with 0 Axes>"
      ]
     },
     "metadata": {},
     "output_type": "display_data"
    },
    {
     "data": {
      "text/plain": [
       "<Figure size 1152x288 with 0 Axes>"
      ]
     },
     "metadata": {},
     "output_type": "display_data"
    },
    {
     "data": {
      "text/plain": [
       "<Figure size 1152x288 with 0 Axes>"
      ]
     },
     "metadata": {},
     "output_type": "display_data"
    },
    {
     "data": {
      "text/plain": [
       "<Figure size 1152x288 with 0 Axes>"
      ]
     },
     "metadata": {},
     "output_type": "display_data"
    },
    {
     "data": {
      "text/plain": [
       "<Figure size 1152x288 with 0 Axes>"
      ]
     },
     "metadata": {},
     "output_type": "display_data"
    },
    {
     "data": {
      "text/plain": [
       "<Figure size 1152x288 with 0 Axes>"
      ]
     },
     "metadata": {},
     "output_type": "display_data"
    },
    {
     "data": {
      "text/plain": [
       "<Figure size 1152x288 with 0 Axes>"
      ]
     },
     "metadata": {},
     "output_type": "display_data"
    },
    {
     "data": {
      "text/plain": [
       "<Figure size 1152x288 with 0 Axes>"
      ]
     },
     "metadata": {},
     "output_type": "display_data"
    },
    {
     "data": {
      "text/plain": [
       "<Figure size 1152x288 with 0 Axes>"
      ]
     },
     "metadata": {},
     "output_type": "display_data"
    },
    {
     "data": {
      "text/plain": [
       "<Figure size 1152x288 with 0 Axes>"
      ]
     },
     "metadata": {},
     "output_type": "display_data"
    },
    {
     "data": {
      "text/plain": [
       "<Figure size 1152x288 with 0 Axes>"
      ]
     },
     "metadata": {},
     "output_type": "display_data"
    },
    {
     "data": {
      "text/plain": [
       "<Figure size 1152x288 with 0 Axes>"
      ]
     },
     "metadata": {},
     "output_type": "display_data"
    },
    {
     "data": {
      "text/plain": [
       "<Figure size 1152x288 with 0 Axes>"
      ]
     },
     "metadata": {},
     "output_type": "display_data"
    },
    {
     "data": {
      "text/plain": [
       "<Figure size 1152x288 with 0 Axes>"
      ]
     },
     "metadata": {},
     "output_type": "display_data"
    },
    {
     "data": {
      "text/plain": [
       "<Figure size 1152x288 with 0 Axes>"
      ]
     },
     "metadata": {},
     "output_type": "display_data"
    },
    {
     "data": {
      "text/plain": [
       "<Figure size 1152x288 with 0 Axes>"
      ]
     },
     "metadata": {},
     "output_type": "display_data"
    },
    {
     "data": {
      "text/plain": [
       "<Figure size 1152x288 with 0 Axes>"
      ]
     },
     "metadata": {},
     "output_type": "display_data"
    },
    {
     "data": {
      "text/plain": [
       "<Figure size 1152x288 with 0 Axes>"
      ]
     },
     "metadata": {},
     "output_type": "display_data"
    },
    {
     "data": {
      "text/plain": [
       "<Figure size 1152x288 with 0 Axes>"
      ]
     },
     "metadata": {},
     "output_type": "display_data"
    },
    {
     "data": {
      "text/plain": [
       "<Figure size 1152x288 with 0 Axes>"
      ]
     },
     "metadata": {},
     "output_type": "display_data"
    },
    {
     "data": {
      "text/plain": [
       "<Figure size 1152x288 with 0 Axes>"
      ]
     },
     "metadata": {},
     "output_type": "display_data"
    },
    {
     "data": {
      "text/plain": [
       "<Figure size 1152x288 with 0 Axes>"
      ]
     },
     "metadata": {},
     "output_type": "display_data"
    },
    {
     "data": {
      "text/plain": [
       "<Figure size 1152x288 with 0 Axes>"
      ]
     },
     "metadata": {},
     "output_type": "display_data"
    },
    {
     "data": {
      "text/plain": [
       "<Figure size 1152x288 with 0 Axes>"
      ]
     },
     "metadata": {},
     "output_type": "display_data"
    },
    {
     "data": {
      "text/plain": [
       "<Figure size 1152x288 with 0 Axes>"
      ]
     },
     "metadata": {},
     "output_type": "display_data"
    },
    {
     "data": {
      "text/plain": [
       "<Figure size 1152x288 with 0 Axes>"
      ]
     },
     "metadata": {},
     "output_type": "display_data"
    },
    {
     "data": {
      "text/plain": [
       "<Figure size 1152x288 with 0 Axes>"
      ]
     },
     "metadata": {},
     "output_type": "display_data"
    },
    {
     "data": {
      "text/plain": [
       "<Figure size 1152x288 with 0 Axes>"
      ]
     },
     "metadata": {},
     "output_type": "display_data"
    },
    {
     "data": {
      "text/plain": [
       "<Figure size 1152x288 with 0 Axes>"
      ]
     },
     "metadata": {},
     "output_type": "display_data"
    },
    {
     "data": {
      "text/plain": [
       "<Figure size 1152x288 with 0 Axes>"
      ]
     },
     "metadata": {},
     "output_type": "display_data"
    },
    {
     "data": {
      "text/plain": [
       "<Figure size 1152x288 with 0 Axes>"
      ]
     },
     "metadata": {},
     "output_type": "display_data"
    },
    {
     "data": {
      "text/plain": [
       "<Figure size 1152x288 with 0 Axes>"
      ]
     },
     "metadata": {},
     "output_type": "display_data"
    },
    {
     "data": {
      "text/plain": [
       "<Figure size 1152x288 with 0 Axes>"
      ]
     },
     "metadata": {},
     "output_type": "display_data"
    },
    {
     "data": {
      "text/plain": [
       "<Figure size 1152x288 with 0 Axes>"
      ]
     },
     "metadata": {},
     "output_type": "display_data"
    },
    {
     "data": {
      "text/plain": [
       "<Figure size 1152x288 with 0 Axes>"
      ]
     },
     "metadata": {},
     "output_type": "display_data"
    },
    {
     "data": {
      "text/plain": [
       "<Figure size 1152x288 with 0 Axes>"
      ]
     },
     "metadata": {},
     "output_type": "display_data"
    },
    {
     "data": {
      "text/plain": [
       "<Figure size 1152x288 with 0 Axes>"
      ]
     },
     "metadata": {},
     "output_type": "display_data"
    },
    {
     "data": {
      "text/plain": [
       "<Figure size 1152x288 with 0 Axes>"
      ]
     },
     "metadata": {},
     "output_type": "display_data"
    },
    {
     "data": {
      "text/plain": [
       "<Figure size 1152x288 with 0 Axes>"
      ]
     },
     "metadata": {},
     "output_type": "display_data"
    },
    {
     "data": {
      "text/plain": [
       "<Figure size 1152x288 with 0 Axes>"
      ]
     },
     "metadata": {},
     "output_type": "display_data"
    },
    {
     "data": {
      "text/plain": [
       "<Figure size 1152x288 with 0 Axes>"
      ]
     },
     "metadata": {},
     "output_type": "display_data"
    },
    {
     "data": {
      "text/plain": [
       "<Figure size 1152x288 with 0 Axes>"
      ]
     },
     "metadata": {},
     "output_type": "display_data"
    },
    {
     "data": {
      "text/plain": [
       "<Figure size 1152x288 with 0 Axes>"
      ]
     },
     "metadata": {},
     "output_type": "display_data"
    },
    {
     "data": {
      "text/plain": [
       "<Figure size 1152x288 with 0 Axes>"
      ]
     },
     "metadata": {},
     "output_type": "display_data"
    },
    {
     "data": {
      "text/plain": [
       "<Figure size 1152x288 with 0 Axes>"
      ]
     },
     "metadata": {},
     "output_type": "display_data"
    },
    {
     "data": {
      "text/plain": [
       "<Figure size 1152x288 with 0 Axes>"
      ]
     },
     "metadata": {},
     "output_type": "display_data"
    },
    {
     "data": {
      "text/plain": [
       "<Figure size 1152x288 with 0 Axes>"
      ]
     },
     "metadata": {},
     "output_type": "display_data"
    },
    {
     "data": {
      "text/plain": [
       "<Figure size 1152x288 with 0 Axes>"
      ]
     },
     "metadata": {},
     "output_type": "display_data"
    },
    {
     "data": {
      "text/plain": [
       "<Figure size 1152x288 with 0 Axes>"
      ]
     },
     "metadata": {},
     "output_type": "display_data"
    },
    {
     "data": {
      "text/plain": [
       "<Figure size 1152x288 with 0 Axes>"
      ]
     },
     "metadata": {},
     "output_type": "display_data"
    },
    {
     "data": {
      "text/plain": [
       "<Figure size 1152x288 with 0 Axes>"
      ]
     },
     "metadata": {},
     "output_type": "display_data"
    },
    {
     "data": {
      "text/plain": [
       "<Figure size 1152x288 with 0 Axes>"
      ]
     },
     "metadata": {},
     "output_type": "display_data"
    },
    {
     "data": {
      "text/plain": [
       "<Figure size 1152x288 with 0 Axes>"
      ]
     },
     "metadata": {},
     "output_type": "display_data"
    },
    {
     "data": {
      "text/plain": [
       "<Figure size 1152x288 with 0 Axes>"
      ]
     },
     "metadata": {},
     "output_type": "display_data"
    },
    {
     "data": {
      "text/plain": [
       "<Figure size 1152x288 with 0 Axes>"
      ]
     },
     "metadata": {},
     "output_type": "display_data"
    },
    {
     "data": {
      "text/plain": [
       "<Figure size 1152x288 with 0 Axes>"
      ]
     },
     "metadata": {},
     "output_type": "display_data"
    },
    {
     "data": {
      "text/plain": [
       "<Figure size 1152x288 with 0 Axes>"
      ]
     },
     "metadata": {},
     "output_type": "display_data"
    },
    {
     "data": {
      "text/plain": [
       "<Figure size 1152x288 with 0 Axes>"
      ]
     },
     "metadata": {},
     "output_type": "display_data"
    },
    {
     "data": {
      "text/plain": [
       "<Figure size 1152x288 with 0 Axes>"
      ]
     },
     "metadata": {},
     "output_type": "display_data"
    },
    {
     "data": {
      "text/plain": [
       "<Figure size 1152x288 with 0 Axes>"
      ]
     },
     "metadata": {},
     "output_type": "display_data"
    },
    {
     "data": {
      "text/plain": [
       "<Figure size 1152x288 with 0 Axes>"
      ]
     },
     "metadata": {},
     "output_type": "display_data"
    },
    {
     "data": {
      "text/plain": [
       "<Figure size 1152x288 with 0 Axes>"
      ]
     },
     "metadata": {},
     "output_type": "display_data"
    },
    {
     "data": {
      "text/plain": [
       "<Figure size 1152x288 with 0 Axes>"
      ]
     },
     "metadata": {},
     "output_type": "display_data"
    },
    {
     "data": {
      "text/plain": [
       "<Figure size 1152x288 with 0 Axes>"
      ]
     },
     "metadata": {},
     "output_type": "display_data"
    },
    {
     "data": {
      "text/plain": [
       "<Figure size 1152x288 with 0 Axes>"
      ]
     },
     "metadata": {},
     "output_type": "display_data"
    },
    {
     "data": {
      "text/plain": [
       "<Figure size 1152x288 with 0 Axes>"
      ]
     },
     "metadata": {},
     "output_type": "display_data"
    },
    {
     "data": {
      "text/plain": [
       "<Figure size 1152x288 with 0 Axes>"
      ]
     },
     "metadata": {},
     "output_type": "display_data"
    },
    {
     "data": {
      "text/plain": [
       "<Figure size 1152x288 with 0 Axes>"
      ]
     },
     "metadata": {},
     "output_type": "display_data"
    },
    {
     "data": {
      "text/plain": [
       "<Figure size 1152x288 with 0 Axes>"
      ]
     },
     "metadata": {},
     "output_type": "display_data"
    },
    {
     "data": {
      "text/plain": [
       "<Figure size 1152x288 with 0 Axes>"
      ]
     },
     "metadata": {},
     "output_type": "display_data"
    },
    {
     "data": {
      "text/plain": [
       "<Figure size 1152x288 with 0 Axes>"
      ]
     },
     "metadata": {},
     "output_type": "display_data"
    },
    {
     "data": {
      "text/plain": [
       "<Figure size 1152x288 with 0 Axes>"
      ]
     },
     "metadata": {},
     "output_type": "display_data"
    },
    {
     "data": {
      "text/plain": [
       "<Figure size 1152x288 with 0 Axes>"
      ]
     },
     "metadata": {},
     "output_type": "display_data"
    },
    {
     "data": {
      "text/plain": [
       "<Figure size 1152x288 with 0 Axes>"
      ]
     },
     "metadata": {},
     "output_type": "display_data"
    },
    {
     "data": {
      "text/plain": [
       "<Figure size 1152x288 with 0 Axes>"
      ]
     },
     "metadata": {},
     "output_type": "display_data"
    },
    {
     "data": {
      "text/plain": [
       "<Figure size 1152x288 with 0 Axes>"
      ]
     },
     "metadata": {},
     "output_type": "display_data"
    },
    {
     "data": {
      "text/plain": [
       "<Figure size 1152x288 with 0 Axes>"
      ]
     },
     "metadata": {},
     "output_type": "display_data"
    },
    {
     "data": {
      "text/plain": [
       "<Figure size 1152x288 with 0 Axes>"
      ]
     },
     "metadata": {},
     "output_type": "display_data"
    },
    {
     "data": {
      "text/plain": [
       "<Figure size 1152x288 with 0 Axes>"
      ]
     },
     "metadata": {},
     "output_type": "display_data"
    },
    {
     "data": {
      "text/plain": [
       "<Figure size 1152x288 with 0 Axes>"
      ]
     },
     "metadata": {},
     "output_type": "display_data"
    },
    {
     "data": {
      "text/plain": [
       "<Figure size 1152x288 with 0 Axes>"
      ]
     },
     "metadata": {},
     "output_type": "display_data"
    },
    {
     "data": {
      "text/plain": [
       "<Figure size 1152x288 with 0 Axes>"
      ]
     },
     "metadata": {},
     "output_type": "display_data"
    },
    {
     "data": {
      "text/plain": [
       "<Figure size 1152x288 with 0 Axes>"
      ]
     },
     "metadata": {},
     "output_type": "display_data"
    },
    {
     "data": {
      "text/plain": [
       "<Figure size 1152x288 with 0 Axes>"
      ]
     },
     "metadata": {},
     "output_type": "display_data"
    },
    {
     "data": {
      "text/plain": [
       "<Figure size 1152x288 with 0 Axes>"
      ]
     },
     "metadata": {},
     "output_type": "display_data"
    },
    {
     "data": {
      "text/plain": [
       "<Figure size 1152x288 with 0 Axes>"
      ]
     },
     "metadata": {},
     "output_type": "display_data"
    },
    {
     "data": {
      "text/plain": [
       "<Figure size 1152x288 with 0 Axes>"
      ]
     },
     "metadata": {},
     "output_type": "display_data"
    },
    {
     "data": {
      "text/plain": [
       "<Figure size 1152x288 with 0 Axes>"
      ]
     },
     "metadata": {},
     "output_type": "display_data"
    },
    {
     "data": {
      "text/plain": [
       "<Figure size 1152x288 with 0 Axes>"
      ]
     },
     "metadata": {},
     "output_type": "display_data"
    },
    {
     "data": {
      "text/plain": [
       "<Figure size 1152x288 with 0 Axes>"
      ]
     },
     "metadata": {},
     "output_type": "display_data"
    },
    {
     "data": {
      "text/plain": [
       "<Figure size 1152x288 with 0 Axes>"
      ]
     },
     "metadata": {},
     "output_type": "display_data"
    },
    {
     "data": {
      "text/plain": [
       "<Figure size 1152x288 with 0 Axes>"
      ]
     },
     "metadata": {},
     "output_type": "display_data"
    },
    {
     "data": {
      "text/plain": [
       "<Figure size 1152x288 with 0 Axes>"
      ]
     },
     "metadata": {},
     "output_type": "display_data"
    },
    {
     "data": {
      "text/plain": [
       "<Figure size 1152x288 with 0 Axes>"
      ]
     },
     "metadata": {},
     "output_type": "display_data"
    },
    {
     "data": {
      "text/plain": [
       "<Figure size 1152x288 with 0 Axes>"
      ]
     },
     "metadata": {},
     "output_type": "display_data"
    },
    {
     "data": {
      "text/plain": [
       "<Figure size 1152x288 with 0 Axes>"
      ]
     },
     "metadata": {},
     "output_type": "display_data"
    },
    {
     "data": {
      "text/plain": [
       "<Figure size 1152x288 with 0 Axes>"
      ]
     },
     "metadata": {},
     "output_type": "display_data"
    },
    {
     "data": {
      "text/plain": [
       "<Figure size 1152x288 with 0 Axes>"
      ]
     },
     "metadata": {},
     "output_type": "display_data"
    },
    {
     "data": {
      "text/plain": [
       "<Figure size 1152x288 with 0 Axes>"
      ]
     },
     "metadata": {},
     "output_type": "display_data"
    },
    {
     "data": {
      "text/plain": [
       "<Figure size 1152x288 with 0 Axes>"
      ]
     },
     "metadata": {},
     "output_type": "display_data"
    },
    {
     "data": {
      "text/plain": [
       "<Figure size 1152x288 with 0 Axes>"
      ]
     },
     "metadata": {},
     "output_type": "display_data"
    },
    {
     "data": {
      "text/plain": [
       "<Figure size 1152x288 with 0 Axes>"
      ]
     },
     "metadata": {},
     "output_type": "display_data"
    },
    {
     "data": {
      "text/plain": [
       "<Figure size 1152x288 with 0 Axes>"
      ]
     },
     "metadata": {},
     "output_type": "display_data"
    },
    {
     "data": {
      "text/plain": [
       "<Figure size 1152x288 with 0 Axes>"
      ]
     },
     "metadata": {},
     "output_type": "display_data"
    },
    {
     "data": {
      "text/plain": [
       "<Figure size 1152x288 with 0 Axes>"
      ]
     },
     "metadata": {},
     "output_type": "display_data"
    },
    {
     "data": {
      "text/plain": [
       "<Figure size 1152x288 with 0 Axes>"
      ]
     },
     "metadata": {},
     "output_type": "display_data"
    },
    {
     "data": {
      "text/plain": [
       "<Figure size 1152x288 with 0 Axes>"
      ]
     },
     "metadata": {},
     "output_type": "display_data"
    },
    {
     "data": {
      "text/plain": [
       "<Figure size 1152x288 with 0 Axes>"
      ]
     },
     "metadata": {},
     "output_type": "display_data"
    },
    {
     "data": {
      "text/plain": [
       "<Figure size 1152x288 with 0 Axes>"
      ]
     },
     "metadata": {},
     "output_type": "display_data"
    },
    {
     "data": {
      "text/plain": [
       "<Figure size 1152x288 with 0 Axes>"
      ]
     },
     "metadata": {},
     "output_type": "display_data"
    },
    {
     "data": {
      "text/plain": [
       "<Figure size 1152x288 with 0 Axes>"
      ]
     },
     "metadata": {},
     "output_type": "display_data"
    },
    {
     "data": {
      "text/plain": [
       "<Figure size 1152x288 with 0 Axes>"
      ]
     },
     "metadata": {},
     "output_type": "display_data"
    },
    {
     "data": {
      "text/plain": [
       "<Figure size 1152x288 with 0 Axes>"
      ]
     },
     "metadata": {},
     "output_type": "display_data"
    },
    {
     "data": {
      "text/plain": [
       "<Figure size 1152x288 with 0 Axes>"
      ]
     },
     "metadata": {},
     "output_type": "display_data"
    },
    {
     "data": {
      "text/plain": [
       "<Figure size 1152x288 with 0 Axes>"
      ]
     },
     "metadata": {},
     "output_type": "display_data"
    },
    {
     "data": {
      "text/plain": [
       "<Figure size 1152x288 with 0 Axes>"
      ]
     },
     "metadata": {},
     "output_type": "display_data"
    },
    {
     "data": {
      "text/plain": [
       "<Figure size 1152x288 with 0 Axes>"
      ]
     },
     "metadata": {},
     "output_type": "display_data"
    },
    {
     "data": {
      "text/plain": [
       "<Figure size 1152x288 with 0 Axes>"
      ]
     },
     "metadata": {},
     "output_type": "display_data"
    },
    {
     "data": {
      "text/plain": [
       "<Figure size 1152x288 with 0 Axes>"
      ]
     },
     "metadata": {},
     "output_type": "display_data"
    },
    {
     "data": {
      "text/plain": [
       "<Figure size 1152x288 with 0 Axes>"
      ]
     },
     "metadata": {},
     "output_type": "display_data"
    },
    {
     "data": {
      "text/plain": [
       "<Figure size 1152x288 with 0 Axes>"
      ]
     },
     "metadata": {},
     "output_type": "display_data"
    },
    {
     "data": {
      "text/plain": [
       "<Figure size 1152x288 with 0 Axes>"
      ]
     },
     "metadata": {},
     "output_type": "display_data"
    },
    {
     "data": {
      "text/plain": [
       "<Figure size 1152x288 with 0 Axes>"
      ]
     },
     "metadata": {},
     "output_type": "display_data"
    },
    {
     "data": {
      "text/plain": [
       "<Figure size 1152x288 with 0 Axes>"
      ]
     },
     "metadata": {},
     "output_type": "display_data"
    },
    {
     "data": {
      "text/plain": [
       "<Figure size 1152x288 with 0 Axes>"
      ]
     },
     "metadata": {},
     "output_type": "display_data"
    },
    {
     "data": {
      "text/plain": [
       "<Figure size 1152x288 with 0 Axes>"
      ]
     },
     "metadata": {},
     "output_type": "display_data"
    },
    {
     "data": {
      "text/plain": [
       "<Figure size 1152x288 with 0 Axes>"
      ]
     },
     "metadata": {},
     "output_type": "display_data"
    },
    {
     "data": {
      "text/plain": [
       "<Figure size 1152x288 with 0 Axes>"
      ]
     },
     "metadata": {},
     "output_type": "display_data"
    },
    {
     "data": {
      "text/plain": [
       "<Figure size 1152x288 with 0 Axes>"
      ]
     },
     "metadata": {},
     "output_type": "display_data"
    },
    {
     "data": {
      "text/plain": [
       "<Figure size 1152x288 with 0 Axes>"
      ]
     },
     "metadata": {},
     "output_type": "display_data"
    },
    {
     "data": {
      "text/plain": [
       "<Figure size 1152x288 with 0 Axes>"
      ]
     },
     "metadata": {},
     "output_type": "display_data"
    },
    {
     "data": {
      "text/plain": [
       "<Figure size 1152x288 with 0 Axes>"
      ]
     },
     "metadata": {},
     "output_type": "display_data"
    },
    {
     "data": {
      "text/plain": [
       "<Figure size 1152x288 with 0 Axes>"
      ]
     },
     "metadata": {},
     "output_type": "display_data"
    },
    {
     "data": {
      "text/plain": [
       "<Figure size 1152x288 with 0 Axes>"
      ]
     },
     "metadata": {},
     "output_type": "display_data"
    },
    {
     "data": {
      "text/plain": [
       "<Figure size 1152x288 with 0 Axes>"
      ]
     },
     "metadata": {},
     "output_type": "display_data"
    },
    {
     "data": {
      "text/plain": [
       "<Figure size 1152x288 with 0 Axes>"
      ]
     },
     "metadata": {},
     "output_type": "display_data"
    },
    {
     "data": {
      "text/plain": [
       "<Figure size 1152x288 with 0 Axes>"
      ]
     },
     "metadata": {},
     "output_type": "display_data"
    },
    {
     "data": {
      "text/plain": [
       "<Figure size 1152x288 with 0 Axes>"
      ]
     },
     "metadata": {},
     "output_type": "display_data"
    },
    {
     "data": {
      "text/plain": [
       "<Figure size 1152x288 with 0 Axes>"
      ]
     },
     "metadata": {},
     "output_type": "display_data"
    },
    {
     "data": {
      "text/plain": [
       "<Figure size 1152x288 with 0 Axes>"
      ]
     },
     "metadata": {},
     "output_type": "display_data"
    },
    {
     "data": {
      "text/plain": [
       "<Figure size 1152x288 with 0 Axes>"
      ]
     },
     "metadata": {},
     "output_type": "display_data"
    },
    {
     "data": {
      "text/plain": [
       "<Figure size 1152x288 with 0 Axes>"
      ]
     },
     "metadata": {},
     "output_type": "display_data"
    },
    {
     "data": {
      "text/plain": [
       "<Figure size 1152x288 with 0 Axes>"
      ]
     },
     "metadata": {},
     "output_type": "display_data"
    },
    {
     "data": {
      "text/plain": [
       "<Figure size 1152x288 with 0 Axes>"
      ]
     },
     "metadata": {},
     "output_type": "display_data"
    },
    {
     "data": {
      "text/plain": [
       "<Figure size 1152x288 with 0 Axes>"
      ]
     },
     "metadata": {},
     "output_type": "display_data"
    },
    {
     "data": {
      "text/plain": [
       "<Figure size 1152x288 with 0 Axes>"
      ]
     },
     "metadata": {},
     "output_type": "display_data"
    },
    {
     "data": {
      "text/plain": [
       "<Figure size 1152x288 with 0 Axes>"
      ]
     },
     "metadata": {},
     "output_type": "display_data"
    },
    {
     "data": {
      "text/plain": [
       "<Figure size 1152x288 with 0 Axes>"
      ]
     },
     "metadata": {},
     "output_type": "display_data"
    },
    {
     "data": {
      "text/plain": [
       "<Figure size 1152x288 with 0 Axes>"
      ]
     },
     "metadata": {},
     "output_type": "display_data"
    },
    {
     "data": {
      "text/plain": [
       "<Figure size 1152x288 with 0 Axes>"
      ]
     },
     "metadata": {},
     "output_type": "display_data"
    },
    {
     "data": {
      "text/plain": [
       "<Figure size 1152x288 with 0 Axes>"
      ]
     },
     "metadata": {},
     "output_type": "display_data"
    },
    {
     "data": {
      "text/plain": [
       "<Figure size 1152x288 with 0 Axes>"
      ]
     },
     "metadata": {},
     "output_type": "display_data"
    },
    {
     "data": {
      "text/plain": [
       "<Figure size 1152x288 with 0 Axes>"
      ]
     },
     "metadata": {},
     "output_type": "display_data"
    },
    {
     "data": {
      "text/plain": [
       "<Figure size 1152x288 with 0 Axes>"
      ]
     },
     "metadata": {},
     "output_type": "display_data"
    },
    {
     "data": {
      "text/plain": [
       "<Figure size 1152x288 with 0 Axes>"
      ]
     },
     "metadata": {},
     "output_type": "display_data"
    },
    {
     "data": {
      "text/plain": [
       "<Figure size 1152x288 with 0 Axes>"
      ]
     },
     "metadata": {},
     "output_type": "display_data"
    },
    {
     "data": {
      "text/plain": [
       "<Figure size 1152x288 with 0 Axes>"
      ]
     },
     "metadata": {},
     "output_type": "display_data"
    },
    {
     "data": {
      "text/plain": [
       "<Figure size 1152x288 with 0 Axes>"
      ]
     },
     "metadata": {},
     "output_type": "display_data"
    },
    {
     "data": {
      "text/plain": [
       "<Figure size 1152x288 with 0 Axes>"
      ]
     },
     "metadata": {},
     "output_type": "display_data"
    },
    {
     "data": {
      "text/plain": [
       "<Figure size 1152x288 with 0 Axes>"
      ]
     },
     "metadata": {},
     "output_type": "display_data"
    },
    {
     "data": {
      "text/plain": [
       "<Figure size 1152x288 with 0 Axes>"
      ]
     },
     "metadata": {},
     "output_type": "display_data"
    },
    {
     "data": {
      "text/plain": [
       "<Figure size 1152x288 with 0 Axes>"
      ]
     },
     "metadata": {},
     "output_type": "display_data"
    },
    {
     "data": {
      "text/plain": [
       "<Figure size 1152x288 with 0 Axes>"
      ]
     },
     "metadata": {},
     "output_type": "display_data"
    },
    {
     "data": {
      "text/plain": [
       "<Figure size 1152x288 with 0 Axes>"
      ]
     },
     "metadata": {},
     "output_type": "display_data"
    },
    {
     "data": {
      "text/plain": [
       "<Figure size 1152x288 with 0 Axes>"
      ]
     },
     "metadata": {},
     "output_type": "display_data"
    },
    {
     "data": {
      "text/plain": [
       "<Figure size 1152x288 with 0 Axes>"
      ]
     },
     "metadata": {},
     "output_type": "display_data"
    },
    {
     "data": {
      "text/plain": [
       "<Figure size 1152x288 with 0 Axes>"
      ]
     },
     "metadata": {},
     "output_type": "display_data"
    },
    {
     "data": {
      "text/plain": [
       "<Figure size 1152x288 with 0 Axes>"
      ]
     },
     "metadata": {},
     "output_type": "display_data"
    },
    {
     "data": {
      "text/plain": [
       "<Figure size 1152x288 with 0 Axes>"
      ]
     },
     "metadata": {},
     "output_type": "display_data"
    },
    {
     "data": {
      "text/plain": [
       "<Figure size 1152x288 with 0 Axes>"
      ]
     },
     "metadata": {},
     "output_type": "display_data"
    },
    {
     "data": {
      "text/plain": [
       "<Figure size 1152x288 with 0 Axes>"
      ]
     },
     "metadata": {},
     "output_type": "display_data"
    },
    {
     "data": {
      "text/plain": [
       "<Figure size 1152x288 with 0 Axes>"
      ]
     },
     "metadata": {},
     "output_type": "display_data"
    },
    {
     "data": {
      "text/plain": [
       "<Figure size 1152x288 with 0 Axes>"
      ]
     },
     "metadata": {},
     "output_type": "display_data"
    },
    {
     "data": {
      "text/plain": [
       "<Figure size 1152x288 with 0 Axes>"
      ]
     },
     "metadata": {},
     "output_type": "display_data"
    },
    {
     "data": {
      "text/plain": [
       "<Figure size 1152x288 with 0 Axes>"
      ]
     },
     "metadata": {},
     "output_type": "display_data"
    },
    {
     "data": {
      "text/plain": [
       "<Figure size 1152x288 with 0 Axes>"
      ]
     },
     "metadata": {},
     "output_type": "display_data"
    },
    {
     "data": {
      "text/plain": [
       "<Figure size 1152x288 with 0 Axes>"
      ]
     },
     "metadata": {},
     "output_type": "display_data"
    },
    {
     "data": {
      "text/plain": [
       "<Figure size 1152x288 with 0 Axes>"
      ]
     },
     "metadata": {},
     "output_type": "display_data"
    },
    {
     "data": {
      "text/plain": [
       "<Figure size 1152x288 with 0 Axes>"
      ]
     },
     "metadata": {},
     "output_type": "display_data"
    },
    {
     "data": {
      "text/plain": [
       "<Figure size 1152x288 with 0 Axes>"
      ]
     },
     "metadata": {},
     "output_type": "display_data"
    },
    {
     "data": {
      "text/plain": [
       "<Figure size 1152x288 with 0 Axes>"
      ]
     },
     "metadata": {},
     "output_type": "display_data"
    },
    {
     "data": {
      "text/plain": [
       "<Figure size 1152x288 with 0 Axes>"
      ]
     },
     "metadata": {},
     "output_type": "display_data"
    },
    {
     "data": {
      "text/plain": [
       "<Figure size 1152x288 with 0 Axes>"
      ]
     },
     "metadata": {},
     "output_type": "display_data"
    },
    {
     "data": {
      "text/plain": [
       "<Figure size 1152x288 with 0 Axes>"
      ]
     },
     "metadata": {},
     "output_type": "display_data"
    },
    {
     "data": {
      "text/plain": [
       "<Figure size 1152x288 with 0 Axes>"
      ]
     },
     "metadata": {},
     "output_type": "display_data"
    },
    {
     "data": {
      "text/plain": [
       "<Figure size 1152x288 with 0 Axes>"
      ]
     },
     "metadata": {},
     "output_type": "display_data"
    },
    {
     "data": {
      "text/plain": [
       "<Figure size 1152x288 with 0 Axes>"
      ]
     },
     "metadata": {},
     "output_type": "display_data"
    },
    {
     "data": {
      "text/plain": [
       "<Figure size 1152x288 with 0 Axes>"
      ]
     },
     "metadata": {},
     "output_type": "display_data"
    },
    {
     "data": {
      "text/plain": [
       "<Figure size 1152x288 with 0 Axes>"
      ]
     },
     "metadata": {},
     "output_type": "display_data"
    },
    {
     "data": {
      "text/plain": [
       "<Figure size 1152x288 with 0 Axes>"
      ]
     },
     "metadata": {},
     "output_type": "display_data"
    },
    {
     "data": {
      "text/plain": [
       "<Figure size 1152x288 with 0 Axes>"
      ]
     },
     "metadata": {},
     "output_type": "display_data"
    },
    {
     "data": {
      "text/plain": [
       "<Figure size 1152x288 with 0 Axes>"
      ]
     },
     "metadata": {},
     "output_type": "display_data"
    },
    {
     "data": {
      "text/plain": [
       "<Figure size 1152x288 with 0 Axes>"
      ]
     },
     "metadata": {},
     "output_type": "display_data"
    },
    {
     "data": {
      "text/plain": [
       "<Figure size 1152x288 with 0 Axes>"
      ]
     },
     "metadata": {},
     "output_type": "display_data"
    },
    {
     "data": {
      "text/plain": [
       "<Figure size 1152x288 with 0 Axes>"
      ]
     },
     "metadata": {},
     "output_type": "display_data"
    },
    {
     "data": {
      "text/plain": [
       "<Figure size 1152x288 with 0 Axes>"
      ]
     },
     "metadata": {},
     "output_type": "display_data"
    },
    {
     "data": {
      "text/plain": [
       "<Figure size 1152x288 with 0 Axes>"
      ]
     },
     "metadata": {},
     "output_type": "display_data"
    },
    {
     "data": {
      "text/plain": [
       "<Figure size 1152x288 with 0 Axes>"
      ]
     },
     "metadata": {},
     "output_type": "display_data"
    },
    {
     "data": {
      "text/plain": [
       "<Figure size 1152x288 with 0 Axes>"
      ]
     },
     "metadata": {},
     "output_type": "display_data"
    },
    {
     "data": {
      "text/plain": [
       "<Figure size 1152x288 with 0 Axes>"
      ]
     },
     "metadata": {},
     "output_type": "display_data"
    },
    {
     "data": {
      "text/plain": [
       "<Figure size 1152x288 with 0 Axes>"
      ]
     },
     "metadata": {},
     "output_type": "display_data"
    },
    {
     "data": {
      "text/plain": [
       "<Figure size 1152x288 with 0 Axes>"
      ]
     },
     "metadata": {},
     "output_type": "display_data"
    },
    {
     "data": {
      "text/plain": [
       "<Figure size 1152x288 with 0 Axes>"
      ]
     },
     "metadata": {},
     "output_type": "display_data"
    },
    {
     "data": {
      "text/plain": [
       "<Figure size 1152x288 with 0 Axes>"
      ]
     },
     "metadata": {},
     "output_type": "display_data"
    },
    {
     "data": {
      "text/plain": [
       "<Figure size 1152x288 with 0 Axes>"
      ]
     },
     "metadata": {},
     "output_type": "display_data"
    },
    {
     "data": {
      "text/plain": [
       "<Figure size 1152x288 with 0 Axes>"
      ]
     },
     "metadata": {},
     "output_type": "display_data"
    },
    {
     "data": {
      "text/plain": [
       "<Figure size 1152x288 with 0 Axes>"
      ]
     },
     "metadata": {},
     "output_type": "display_data"
    },
    {
     "data": {
      "text/plain": [
       "<Figure size 1152x288 with 0 Axes>"
      ]
     },
     "metadata": {},
     "output_type": "display_data"
    },
    {
     "data": {
      "text/plain": [
       "<Figure size 1152x288 with 0 Axes>"
      ]
     },
     "metadata": {},
     "output_type": "display_data"
    },
    {
     "data": {
      "text/plain": [
       "<Figure size 1152x288 with 0 Axes>"
      ]
     },
     "metadata": {},
     "output_type": "display_data"
    },
    {
     "data": {
      "text/plain": [
       "<Figure size 1152x288 with 0 Axes>"
      ]
     },
     "metadata": {},
     "output_type": "display_data"
    },
    {
     "data": {
      "text/plain": [
       "<Figure size 1152x288 with 0 Axes>"
      ]
     },
     "metadata": {},
     "output_type": "display_data"
    },
    {
     "data": {
      "text/plain": [
       "<Figure size 1152x288 with 0 Axes>"
      ]
     },
     "metadata": {},
     "output_type": "display_data"
    },
    {
     "data": {
      "text/plain": [
       "<Figure size 1152x288 with 0 Axes>"
      ]
     },
     "metadata": {},
     "output_type": "display_data"
    },
    {
     "data": {
      "text/plain": [
       "<Figure size 1152x288 with 0 Axes>"
      ]
     },
     "metadata": {},
     "output_type": "display_data"
    },
    {
     "data": {
      "text/plain": [
       "<Figure size 1152x288 with 0 Axes>"
      ]
     },
     "metadata": {},
     "output_type": "display_data"
    },
    {
     "data": {
      "text/plain": [
       "<Figure size 1152x288 with 0 Axes>"
      ]
     },
     "metadata": {},
     "output_type": "display_data"
    },
    {
     "data": {
      "text/plain": [
       "<Figure size 1152x288 with 0 Axes>"
      ]
     },
     "metadata": {},
     "output_type": "display_data"
    },
    {
     "data": {
      "text/plain": [
       "<Figure size 1152x288 with 0 Axes>"
      ]
     },
     "metadata": {},
     "output_type": "display_data"
    },
    {
     "data": {
      "text/plain": [
       "<Figure size 1152x288 with 0 Axes>"
      ]
     },
     "metadata": {},
     "output_type": "display_data"
    },
    {
     "data": {
      "text/plain": [
       "<Figure size 1152x288 with 0 Axes>"
      ]
     },
     "metadata": {},
     "output_type": "display_data"
    },
    {
     "data": {
      "text/plain": [
       "<Figure size 1152x288 with 0 Axes>"
      ]
     },
     "metadata": {},
     "output_type": "display_data"
    },
    {
     "data": {
      "text/plain": [
       "<Figure size 1152x288 with 0 Axes>"
      ]
     },
     "metadata": {},
     "output_type": "display_data"
    },
    {
     "data": {
      "text/plain": [
       "<Figure size 1152x288 with 0 Axes>"
      ]
     },
     "metadata": {},
     "output_type": "display_data"
    },
    {
     "data": {
      "text/plain": [
       "<Figure size 1152x288 with 0 Axes>"
      ]
     },
     "metadata": {},
     "output_type": "display_data"
    },
    {
     "data": {
      "text/plain": [
       "<Figure size 1152x288 with 0 Axes>"
      ]
     },
     "metadata": {},
     "output_type": "display_data"
    },
    {
     "data": {
      "text/plain": [
       "<Figure size 1152x288 with 0 Axes>"
      ]
     },
     "metadata": {},
     "output_type": "display_data"
    },
    {
     "data": {
      "text/plain": [
       "<Figure size 1152x288 with 0 Axes>"
      ]
     },
     "metadata": {},
     "output_type": "display_data"
    },
    {
     "data": {
      "text/plain": [
       "<Figure size 1152x288 with 0 Axes>"
      ]
     },
     "metadata": {},
     "output_type": "display_data"
    },
    {
     "data": {
      "text/plain": [
       "<Figure size 1152x288 with 0 Axes>"
      ]
     },
     "metadata": {},
     "output_type": "display_data"
    },
    {
     "data": {
      "text/plain": [
       "<Figure size 1152x288 with 0 Axes>"
      ]
     },
     "metadata": {},
     "output_type": "display_data"
    },
    {
     "data": {
      "text/plain": [
       "<Figure size 1152x288 with 0 Axes>"
      ]
     },
     "metadata": {},
     "output_type": "display_data"
    },
    {
     "data": {
      "text/plain": [
       "<Figure size 1152x288 with 0 Axes>"
      ]
     },
     "metadata": {},
     "output_type": "display_data"
    },
    {
     "data": {
      "text/plain": [
       "<Figure size 1152x288 with 0 Axes>"
      ]
     },
     "metadata": {},
     "output_type": "display_data"
    },
    {
     "data": {
      "text/plain": [
       "<Figure size 1152x288 with 0 Axes>"
      ]
     },
     "metadata": {},
     "output_type": "display_data"
    },
    {
     "data": {
      "text/plain": [
       "<Figure size 1152x288 with 0 Axes>"
      ]
     },
     "metadata": {},
     "output_type": "display_data"
    },
    {
     "data": {
      "text/plain": [
       "<Figure size 1152x288 with 0 Axes>"
      ]
     },
     "metadata": {},
     "output_type": "display_data"
    },
    {
     "data": {
      "text/plain": [
       "<Figure size 1152x288 with 0 Axes>"
      ]
     },
     "metadata": {},
     "output_type": "display_data"
    },
    {
     "data": {
      "text/plain": [
       "<Figure size 1152x288 with 0 Axes>"
      ]
     },
     "metadata": {},
     "output_type": "display_data"
    },
    {
     "data": {
      "text/plain": [
       "<Figure size 1152x288 with 0 Axes>"
      ]
     },
     "metadata": {},
     "output_type": "display_data"
    },
    {
     "data": {
      "text/plain": [
       "<Figure size 1152x288 with 0 Axes>"
      ]
     },
     "metadata": {},
     "output_type": "display_data"
    },
    {
     "data": {
      "text/plain": [
       "<Figure size 1152x288 with 0 Axes>"
      ]
     },
     "metadata": {},
     "output_type": "display_data"
    },
    {
     "data": {
      "text/plain": [
       "<Figure size 1152x288 with 0 Axes>"
      ]
     },
     "metadata": {},
     "output_type": "display_data"
    },
    {
     "data": {
      "text/plain": [
       "<Figure size 1152x288 with 0 Axes>"
      ]
     },
     "metadata": {},
     "output_type": "display_data"
    },
    {
     "data": {
      "text/plain": [
       "<Figure size 1152x288 with 0 Axes>"
      ]
     },
     "metadata": {},
     "output_type": "display_data"
    },
    {
     "data": {
      "text/plain": [
       "<Figure size 1152x288 with 0 Axes>"
      ]
     },
     "metadata": {},
     "output_type": "display_data"
    },
    {
     "data": {
      "text/plain": [
       "<Figure size 1152x288 with 0 Axes>"
      ]
     },
     "metadata": {},
     "output_type": "display_data"
    },
    {
     "data": {
      "text/plain": [
       "<Figure size 1152x288 with 0 Axes>"
      ]
     },
     "metadata": {},
     "output_type": "display_data"
    },
    {
     "data": {
      "text/plain": [
       "<Figure size 1152x288 with 0 Axes>"
      ]
     },
     "metadata": {},
     "output_type": "display_data"
    },
    {
     "data": {
      "text/plain": [
       "<Figure size 1152x288 with 0 Axes>"
      ]
     },
     "metadata": {},
     "output_type": "display_data"
    },
    {
     "data": {
      "text/plain": [
       "<Figure size 1152x288 with 0 Axes>"
      ]
     },
     "metadata": {},
     "output_type": "display_data"
    },
    {
     "data": {
      "text/plain": [
       "<Figure size 1152x288 with 0 Axes>"
      ]
     },
     "metadata": {},
     "output_type": "display_data"
    },
    {
     "data": {
      "text/plain": [
       "<Figure size 1152x288 with 0 Axes>"
      ]
     },
     "metadata": {},
     "output_type": "display_data"
    },
    {
     "data": {
      "text/plain": [
       "<Figure size 1152x288 with 0 Axes>"
      ]
     },
     "metadata": {},
     "output_type": "display_data"
    },
    {
     "data": {
      "text/plain": [
       "<Figure size 1152x288 with 0 Axes>"
      ]
     },
     "metadata": {},
     "output_type": "display_data"
    },
    {
     "data": {
      "text/plain": [
       "<Figure size 1152x288 with 0 Axes>"
      ]
     },
     "metadata": {},
     "output_type": "display_data"
    },
    {
     "data": {
      "text/plain": [
       "<Figure size 1152x288 with 0 Axes>"
      ]
     },
     "metadata": {},
     "output_type": "display_data"
    },
    {
     "data": {
      "text/plain": [
       "<Figure size 1152x288 with 0 Axes>"
      ]
     },
     "metadata": {},
     "output_type": "display_data"
    },
    {
     "data": {
      "text/plain": [
       "<Figure size 1152x288 with 0 Axes>"
      ]
     },
     "metadata": {},
     "output_type": "display_data"
    },
    {
     "data": {
      "text/plain": [
       "<Figure size 1152x288 with 0 Axes>"
      ]
     },
     "metadata": {},
     "output_type": "display_data"
    },
    {
     "data": {
      "text/plain": [
       "<Figure size 1152x288 with 0 Axes>"
      ]
     },
     "metadata": {},
     "output_type": "display_data"
    },
    {
     "data": {
      "text/plain": [
       "<Figure size 1152x288 with 0 Axes>"
      ]
     },
     "metadata": {},
     "output_type": "display_data"
    },
    {
     "data": {
      "text/plain": [
       "<Figure size 1152x288 with 0 Axes>"
      ]
     },
     "metadata": {},
     "output_type": "display_data"
    },
    {
     "data": {
      "text/plain": [
       "<Figure size 1152x288 with 0 Axes>"
      ]
     },
     "metadata": {},
     "output_type": "display_data"
    },
    {
     "data": {
      "text/plain": [
       "<Figure size 1152x288 with 0 Axes>"
      ]
     },
     "metadata": {},
     "output_type": "display_data"
    },
    {
     "data": {
      "text/plain": [
       "<Figure size 1152x288 with 0 Axes>"
      ]
     },
     "metadata": {},
     "output_type": "display_data"
    },
    {
     "data": {
      "text/plain": [
       "<Figure size 1152x288 with 0 Axes>"
      ]
     },
     "metadata": {},
     "output_type": "display_data"
    },
    {
     "data": {
      "text/plain": [
       "<Figure size 1152x288 with 0 Axes>"
      ]
     },
     "metadata": {},
     "output_type": "display_data"
    },
    {
     "data": {
      "text/plain": [
       "<Figure size 1152x288 with 0 Axes>"
      ]
     },
     "metadata": {},
     "output_type": "display_data"
    },
    {
     "data": {
      "text/plain": [
       "<Figure size 1152x288 with 0 Axes>"
      ]
     },
     "metadata": {},
     "output_type": "display_data"
    },
    {
     "data": {
      "text/plain": [
       "<Figure size 1152x288 with 0 Axes>"
      ]
     },
     "metadata": {},
     "output_type": "display_data"
    },
    {
     "data": {
      "text/plain": [
       "<Figure size 1152x288 with 0 Axes>"
      ]
     },
     "metadata": {},
     "output_type": "display_data"
    },
    {
     "data": {
      "text/plain": [
       "<Figure size 1152x288 with 0 Axes>"
      ]
     },
     "metadata": {},
     "output_type": "display_data"
    },
    {
     "data": {
      "text/plain": [
       "<Figure size 1152x288 with 0 Axes>"
      ]
     },
     "metadata": {},
     "output_type": "display_data"
    },
    {
     "data": {
      "text/plain": [
       "<Figure size 1152x288 with 0 Axes>"
      ]
     },
     "metadata": {},
     "output_type": "display_data"
    },
    {
     "data": {
      "text/plain": [
       "<Figure size 1152x288 with 0 Axes>"
      ]
     },
     "metadata": {},
     "output_type": "display_data"
    },
    {
     "data": {
      "text/plain": [
       "<Figure size 1152x288 with 0 Axes>"
      ]
     },
     "metadata": {},
     "output_type": "display_data"
    },
    {
     "data": {
      "text/plain": [
       "<Figure size 1152x288 with 0 Axes>"
      ]
     },
     "metadata": {},
     "output_type": "display_data"
    },
    {
     "data": {
      "text/plain": [
       "<Figure size 1152x288 with 0 Axes>"
      ]
     },
     "metadata": {},
     "output_type": "display_data"
    },
    {
     "data": {
      "text/plain": [
       "<Figure size 1152x288 with 0 Axes>"
      ]
     },
     "metadata": {},
     "output_type": "display_data"
    },
    {
     "data": {
      "text/plain": [
       "<Figure size 1152x288 with 0 Axes>"
      ]
     },
     "metadata": {},
     "output_type": "display_data"
    },
    {
     "data": {
      "text/plain": [
       "<Figure size 1152x288 with 0 Axes>"
      ]
     },
     "metadata": {},
     "output_type": "display_data"
    },
    {
     "data": {
      "text/plain": [
       "<Figure size 1152x288 with 0 Axes>"
      ]
     },
     "metadata": {},
     "output_type": "display_data"
    },
    {
     "data": {
      "text/plain": [
       "<Figure size 1152x288 with 0 Axes>"
      ]
     },
     "metadata": {},
     "output_type": "display_data"
    },
    {
     "data": {
      "text/plain": [
       "<Figure size 1152x288 with 0 Axes>"
      ]
     },
     "metadata": {},
     "output_type": "display_data"
    },
    {
     "data": {
      "text/plain": [
       "<Figure size 1152x288 with 0 Axes>"
      ]
     },
     "metadata": {},
     "output_type": "display_data"
    },
    {
     "data": {
      "text/plain": [
       "<Figure size 1152x288 with 0 Axes>"
      ]
     },
     "metadata": {},
     "output_type": "display_data"
    },
    {
     "data": {
      "text/plain": [
       "<Figure size 1152x288 with 0 Axes>"
      ]
     },
     "metadata": {},
     "output_type": "display_data"
    },
    {
     "data": {
      "text/plain": [
       "<Figure size 1152x288 with 0 Axes>"
      ]
     },
     "metadata": {},
     "output_type": "display_data"
    },
    {
     "data": {
      "text/plain": [
       "<Figure size 1152x288 with 0 Axes>"
      ]
     },
     "metadata": {},
     "output_type": "display_data"
    },
    {
     "data": {
      "text/plain": [
       "<Figure size 1152x288 with 0 Axes>"
      ]
     },
     "metadata": {},
     "output_type": "display_data"
    },
    {
     "data": {
      "text/plain": [
       "<Figure size 1152x288 with 0 Axes>"
      ]
     },
     "metadata": {},
     "output_type": "display_data"
    },
    {
     "data": {
      "text/plain": [
       "<Figure size 1152x288 with 0 Axes>"
      ]
     },
     "metadata": {},
     "output_type": "display_data"
    },
    {
     "data": {
      "text/plain": [
       "<Figure size 1152x288 with 0 Axes>"
      ]
     },
     "metadata": {},
     "output_type": "display_data"
    },
    {
     "data": {
      "text/plain": [
       "<Figure size 1152x288 with 0 Axes>"
      ]
     },
     "metadata": {},
     "output_type": "display_data"
    },
    {
     "data": {
      "text/plain": [
       "<Figure size 1152x288 with 0 Axes>"
      ]
     },
     "metadata": {},
     "output_type": "display_data"
    },
    {
     "data": {
      "text/plain": [
       "<Figure size 1152x288 with 0 Axes>"
      ]
     },
     "metadata": {},
     "output_type": "display_data"
    },
    {
     "data": {
      "text/plain": [
       "<Figure size 1152x288 with 0 Axes>"
      ]
     },
     "metadata": {},
     "output_type": "display_data"
    },
    {
     "data": {
      "text/plain": [
       "<Figure size 1152x288 with 0 Axes>"
      ]
     },
     "metadata": {},
     "output_type": "display_data"
    },
    {
     "data": {
      "text/plain": [
       "<Figure size 1152x288 with 0 Axes>"
      ]
     },
     "metadata": {},
     "output_type": "display_data"
    },
    {
     "data": {
      "text/plain": [
       "<Figure size 1152x288 with 0 Axes>"
      ]
     },
     "metadata": {},
     "output_type": "display_data"
    },
    {
     "data": {
      "text/plain": [
       "<Figure size 1152x288 with 0 Axes>"
      ]
     },
     "metadata": {},
     "output_type": "display_data"
    },
    {
     "data": {
      "text/plain": [
       "<Figure size 1152x288 with 0 Axes>"
      ]
     },
     "metadata": {},
     "output_type": "display_data"
    },
    {
     "data": {
      "text/plain": [
       "<Figure size 1152x288 with 0 Axes>"
      ]
     },
     "metadata": {},
     "output_type": "display_data"
    },
    {
     "data": {
      "text/plain": [
       "<Figure size 1152x288 with 0 Axes>"
      ]
     },
     "metadata": {},
     "output_type": "display_data"
    },
    {
     "data": {
      "text/plain": [
       "<Figure size 1152x288 with 0 Axes>"
      ]
     },
     "metadata": {},
     "output_type": "display_data"
    },
    {
     "data": {
      "text/plain": [
       "<Figure size 1152x288 with 0 Axes>"
      ]
     },
     "metadata": {},
     "output_type": "display_data"
    },
    {
     "data": {
      "text/plain": [
       "<Figure size 1152x288 with 0 Axes>"
      ]
     },
     "metadata": {},
     "output_type": "display_data"
    },
    {
     "data": {
      "text/plain": [
       "<Figure size 1152x288 with 0 Axes>"
      ]
     },
     "metadata": {},
     "output_type": "display_data"
    },
    {
     "data": {
      "text/plain": [
       "<Figure size 1152x288 with 0 Axes>"
      ]
     },
     "metadata": {},
     "output_type": "display_data"
    },
    {
     "data": {
      "text/plain": [
       "<Figure size 1152x288 with 0 Axes>"
      ]
     },
     "metadata": {},
     "output_type": "display_data"
    },
    {
     "data": {
      "text/plain": [
       "<Figure size 1152x288 with 0 Axes>"
      ]
     },
     "metadata": {},
     "output_type": "display_data"
    },
    {
     "data": {
      "text/plain": [
       "<Figure size 1152x288 with 0 Axes>"
      ]
     },
     "metadata": {},
     "output_type": "display_data"
    },
    {
     "data": {
      "text/plain": [
       "<Figure size 1152x288 with 0 Axes>"
      ]
     },
     "metadata": {},
     "output_type": "display_data"
    },
    {
     "data": {
      "text/plain": [
       "<Figure size 1152x288 with 0 Axes>"
      ]
     },
     "metadata": {},
     "output_type": "display_data"
    },
    {
     "data": {
      "text/plain": [
       "<Figure size 1152x288 with 0 Axes>"
      ]
     },
     "metadata": {},
     "output_type": "display_data"
    },
    {
     "data": {
      "text/plain": [
       "<Figure size 1152x288 with 0 Axes>"
      ]
     },
     "metadata": {},
     "output_type": "display_data"
    },
    {
     "data": {
      "text/plain": [
       "<Figure size 1152x288 with 0 Axes>"
      ]
     },
     "metadata": {},
     "output_type": "display_data"
    },
    {
     "data": {
      "text/plain": [
       "<Figure size 1152x288 with 0 Axes>"
      ]
     },
     "metadata": {},
     "output_type": "display_data"
    },
    {
     "data": {
      "text/plain": [
       "<Figure size 1152x288 with 0 Axes>"
      ]
     },
     "metadata": {},
     "output_type": "display_data"
    },
    {
     "data": {
      "text/plain": [
       "<Figure size 1152x288 with 0 Axes>"
      ]
     },
     "metadata": {},
     "output_type": "display_data"
    },
    {
     "data": {
      "text/plain": [
       "<Figure size 1152x288 with 0 Axes>"
      ]
     },
     "metadata": {},
     "output_type": "display_data"
    },
    {
     "data": {
      "text/plain": [
       "<Figure size 1152x288 with 0 Axes>"
      ]
     },
     "metadata": {},
     "output_type": "display_data"
    },
    {
     "data": {
      "text/plain": [
       "<Figure size 1152x288 with 0 Axes>"
      ]
     },
     "metadata": {},
     "output_type": "display_data"
    },
    {
     "data": {
      "text/plain": [
       "<Figure size 1152x288 with 0 Axes>"
      ]
     },
     "metadata": {},
     "output_type": "display_data"
    },
    {
     "data": {
      "text/plain": [
       "<Figure size 1152x288 with 0 Axes>"
      ]
     },
     "metadata": {},
     "output_type": "display_data"
    },
    {
     "data": {
      "text/plain": [
       "<Figure size 1152x288 with 0 Axes>"
      ]
     },
     "metadata": {},
     "output_type": "display_data"
    },
    {
     "data": {
      "text/plain": [
       "<Figure size 1152x288 with 0 Axes>"
      ]
     },
     "metadata": {},
     "output_type": "display_data"
    },
    {
     "data": {
      "text/plain": [
       "<Figure size 1152x288 with 0 Axes>"
      ]
     },
     "metadata": {},
     "output_type": "display_data"
    },
    {
     "data": {
      "text/plain": [
       "<Figure size 1152x288 with 0 Axes>"
      ]
     },
     "metadata": {},
     "output_type": "display_data"
    },
    {
     "data": {
      "text/plain": [
       "<Figure size 1152x288 with 0 Axes>"
      ]
     },
     "metadata": {},
     "output_type": "display_data"
    },
    {
     "data": {
      "text/plain": [
       "<Figure size 1152x288 with 0 Axes>"
      ]
     },
     "metadata": {},
     "output_type": "display_data"
    },
    {
     "data": {
      "text/plain": [
       "<Figure size 1152x288 with 0 Axes>"
      ]
     },
     "metadata": {},
     "output_type": "display_data"
    },
    {
     "data": {
      "text/plain": [
       "<Figure size 1152x288 with 0 Axes>"
      ]
     },
     "metadata": {},
     "output_type": "display_data"
    },
    {
     "data": {
      "text/plain": [
       "<Figure size 1152x288 with 0 Axes>"
      ]
     },
     "metadata": {},
     "output_type": "display_data"
    },
    {
     "data": {
      "text/plain": [
       "<Figure size 1152x288 with 0 Axes>"
      ]
     },
     "metadata": {},
     "output_type": "display_data"
    },
    {
     "data": {
      "text/plain": [
       "<Figure size 1152x288 with 0 Axes>"
      ]
     },
     "metadata": {},
     "output_type": "display_data"
    },
    {
     "data": {
      "text/plain": [
       "<Figure size 1152x288 with 0 Axes>"
      ]
     },
     "metadata": {},
     "output_type": "display_data"
    },
    {
     "data": {
      "text/plain": [
       "<Figure size 1152x288 with 0 Axes>"
      ]
     },
     "metadata": {},
     "output_type": "display_data"
    },
    {
     "data": {
      "text/plain": [
       "<Figure size 1152x288 with 0 Axes>"
      ]
     },
     "metadata": {},
     "output_type": "display_data"
    },
    {
     "data": {
      "text/plain": [
       "<Figure size 1152x288 with 0 Axes>"
      ]
     },
     "metadata": {},
     "output_type": "display_data"
    },
    {
     "data": {
      "text/plain": [
       "<Figure size 1152x288 with 0 Axes>"
      ]
     },
     "metadata": {},
     "output_type": "display_data"
    },
    {
     "data": {
      "text/plain": [
       "<Figure size 1152x288 with 0 Axes>"
      ]
     },
     "metadata": {},
     "output_type": "display_data"
    },
    {
     "data": {
      "text/plain": [
       "<Figure size 1152x288 with 0 Axes>"
      ]
     },
     "metadata": {},
     "output_type": "display_data"
    },
    {
     "data": {
      "text/plain": [
       "<Figure size 1152x288 with 0 Axes>"
      ]
     },
     "metadata": {},
     "output_type": "display_data"
    },
    {
     "data": {
      "text/plain": [
       "<Figure size 1152x288 with 0 Axes>"
      ]
     },
     "metadata": {},
     "output_type": "display_data"
    },
    {
     "data": {
      "text/plain": [
       "<Figure size 1152x288 with 0 Axes>"
      ]
     },
     "metadata": {},
     "output_type": "display_data"
    },
    {
     "data": {
      "text/plain": [
       "<Figure size 1152x288 with 0 Axes>"
      ]
     },
     "metadata": {},
     "output_type": "display_data"
    },
    {
     "data": {
      "text/plain": [
       "<Figure size 1152x288 with 0 Axes>"
      ]
     },
     "metadata": {},
     "output_type": "display_data"
    },
    {
     "data": {
      "text/plain": [
       "<Figure size 1152x288 with 0 Axes>"
      ]
     },
     "metadata": {},
     "output_type": "display_data"
    },
    {
     "data": {
      "text/plain": [
       "<Figure size 1152x288 with 0 Axes>"
      ]
     },
     "metadata": {},
     "output_type": "display_data"
    },
    {
     "data": {
      "text/plain": [
       "<Figure size 1152x288 with 0 Axes>"
      ]
     },
     "metadata": {},
     "output_type": "display_data"
    },
    {
     "data": {
      "text/plain": [
       "<Figure size 1152x288 with 0 Axes>"
      ]
     },
     "metadata": {},
     "output_type": "display_data"
    },
    {
     "data": {
      "text/plain": [
       "<Figure size 1152x288 with 0 Axes>"
      ]
     },
     "metadata": {},
     "output_type": "display_data"
    },
    {
     "data": {
      "text/plain": [
       "<Figure size 1152x288 with 0 Axes>"
      ]
     },
     "metadata": {},
     "output_type": "display_data"
    },
    {
     "data": {
      "text/plain": [
       "<Figure size 1152x288 with 0 Axes>"
      ]
     },
     "metadata": {},
     "output_type": "display_data"
    },
    {
     "data": {
      "text/plain": [
       "<Figure size 1152x288 with 0 Axes>"
      ]
     },
     "metadata": {},
     "output_type": "display_data"
    },
    {
     "data": {
      "text/plain": [
       "<Figure size 1152x288 with 0 Axes>"
      ]
     },
     "metadata": {},
     "output_type": "display_data"
    },
    {
     "data": {
      "text/plain": [
       "<Figure size 1152x288 with 0 Axes>"
      ]
     },
     "metadata": {},
     "output_type": "display_data"
    },
    {
     "data": {
      "text/plain": [
       "<Figure size 1152x288 with 0 Axes>"
      ]
     },
     "metadata": {},
     "output_type": "display_data"
    },
    {
     "data": {
      "text/plain": [
       "<Figure size 1152x288 with 0 Axes>"
      ]
     },
     "metadata": {},
     "output_type": "display_data"
    },
    {
     "data": {
      "text/plain": [
       "<Figure size 1152x288 with 0 Axes>"
      ]
     },
     "metadata": {},
     "output_type": "display_data"
    },
    {
     "data": {
      "text/plain": [
       "<Figure size 1152x288 with 0 Axes>"
      ]
     },
     "metadata": {},
     "output_type": "display_data"
    },
    {
     "data": {
      "text/plain": [
       "<Figure size 1152x288 with 0 Axes>"
      ]
     },
     "metadata": {},
     "output_type": "display_data"
    }
   ],
   "source": [
    "import os\n",
    "def init_kwargs():\n",
    "    kwargs = {\n",
    "        \"dim_0_val\": 0,\n",
    "        \"dim_1_val\": 0,\n",
    "        \"dim_2_val\": 0,\n",
    "        \"dim_3_val\": 0,\n",
    "        \"dim_4_val\": 0,\n",
    "        \"dim_5_val\": 0,\n",
    "        \"dim_6_val\": 0,\n",
    "        \"dim_7_val\": 0,\n",
    "        \"dim_8_val\": 0,\n",
    "        \"dim_9_val\": 0,\n",
    "        \"dim_10_val\": 0,\n",
    "        \"dim_11_val\": 0,\n",
    "        \"dim_12_val\": 0,\n",
    "        \"dim_13_val\": 0,\n",
    "        \"dim_14_val\": 0,\n",
    "        \"dim_15_val\": 0,\n",
    "        \"dim_16_val\": 0,\n",
    "        \"dim_17_val\": 0,\n",
    "        \"dim_18_val\": 0,\n",
    "        \"dim_19_val\": 0,\n",
    "        \"dim_20_val\": 0,\n",
    "        \"dim_21_val\": 0,\n",
    "        \"dim_22_val\": 0,\n",
    "        \"dim_23_val\": 0,\n",
    "        \"dim_24_val\": 0,\n",
    "        \"dim_25_val\": 0,\n",
    "        \"dim_26_val\": 0,\n",
    "        \"dim_27_val\": 0,\n",
    "        \"dim_28_val\": 0,\n",
    "        \"dim_29_val\": 0,\n",
    "        \"dim_30_val\": 0,\n",
    "        \"dim_31_val\": 0,\n",
    "    }\n",
    "    return kwargs\n",
    "\n",
    "def generate_decoded_latents():\n",
    "    for dim in range(32):\n",
    "        for val in np.linspace(-3, 3, 20):\n",
    "            kwargs = init_kwargs() # reset to zero each time\n",
    "            print(f\"dim: {dim}, val: {val}\")\n",
    "\n",
    "            kwargs[f\"dim_{dim}_val\"] = val\n",
    "            batch_enc_audio = latent_space(DEVICE, **kwargs)\n",
    "            batch_outp = DECODER(batch_enc_audio)\n",
    "\n",
    "            sr = 16000\n",
    "            root = r\"D:\\thesis_logs\\logs\\good models\\interpolate_module_2\"\n",
    "            save_dir_wave = f\"{root}/plots_interpolate_wave/dim={dim}\"\n",
    "            save_dir_fourier = f\"{root}/plots_interpolate_fourier/dim={dim}\"\n",
    "\n",
    "            os.makedirs(save_dir_wave, exist_ok=True)\n",
    "            os.makedirs(save_dir_fourier, exist_ok=True)\n",
    "            for idx, outp in enumerate(batch_outp):\n",
    "                sequence = outp[0].cpu().detach().numpy()\n",
    "\n",
    "                plot_fourier_bar2(sequence, sr, dir=save_dir_fourier, file=f\"{val:.2f}\", show=False)\n",
    "                sequence = beginning_and_end_to_zero(sequence)\n",
    "                plot_speech_wave(sequence, sr, dir=save_dir_wave, file=f\"{val:.2f}\", show=False)\n",
    "                break\n",
    "\n",
    "\n",
    "\n",
    "# generate_decoded_latents()\n"
   ]
  },
  {
   "cell_type": "code",
   "execution_count": null,
   "metadata": {},
   "outputs": [
    {
     "name": "stdout",
     "output_type": "stream",
     "text": [
      "torch.Size([1, 32, 1])\n",
      "torch.Size([1, 1, 1024])\n"
     ]
    },
    {
     "data": {
      "image/png": "[encoded data removed]",
      "text/plain": [
       "<Figure size 1152x288 with 2 Axes>"
      ]
     },
     "metadata": {
      "needs_background": "light"
     },
     "output_type": "display_data"
    },
    {
     "data": {
      "text/plain": [
       "<Figure size 432x288 with 0 Axes>"
      ]
     },
     "metadata": {},
     "output_type": "display_data"
    }
   ],
   "source": [
    "sample_path = r\"D:\\thesis_logs\\logs\\xxxx_TWO_MODULE_V3_dim32_kld_weight=0.0033 !!\\analyse_hidden_repr\\hidden_repr\\split\\module=2\\train\\batch_encodings_0.pt\"\n",
    "file_path = r\"D:\\thesis_logs\\logs\\xxxx_TWO_MODULE_V3_dim32_kld_weight=0.0033 !!\\analyse_hidden_repr\\hidden_repr\\split\\module=2\\train\\batch_filenames_0.pt\"\n",
    "batch_enc = torch.load(sample_path)\n",
    "batch_filenames = torch.load(file_path)\n",
    "\n",
    "def decode_play(enc):\n",
    "    enc = enc.unsqueeze(0)\n",
    "    enc = enc.permute(0, 2, 1)\n",
    "    audio = DECODER(enc)\n",
    "    audio = audio[0][0].cpu().detach().numpy()\n",
    "    return audio #Audio(audio, rate=16000, autoplay=True)\n",
    "\n",
    "def decode_play_part(enc):\n",
    "    enc = enc.unsqueeze(0)\n",
    "    enc = enc.unsqueeze(2)\n",
    "    print(enc.shape)\n",
    "    audio = DECODER(enc)\n",
    "    print(audio.shape)\n",
    "    audio = audio[0][0].cpu().detach().numpy()\n",
    "    return audio\n",
    "    # return Audio(audio, rate=16000, autoplay=True)\n",
    "\n",
    "\n",
    "file = batch_enc[4]\n",
    "seq_partial = decode_play_part(file[0])\n",
    "plot_two_graphs_side_by_side(seq_partial, fft_magnitude(seq_partial)[0:100], fig_size=(16, 4), y_lims=[(-0.1, 0.1), (0, 10)], title=\"Audio and FFT Magnitude\", type1=\"line\", type2=\"bar\")\n",
    "\n",
    "# for part in file:\n",
    "#     audio = decode_play_part(part)\n",
    "#     display(Audio(audio, rate=16000, autoplay=True))\n",
    "# audio = decode_play_part(file[0])\n",
    "# audio.shape\n"
   ]
  },
  {
   "cell_type": "code",
   "execution_count": null,
   "metadata": {},
   "outputs": [
    {
     "data": {
      "image/png": "[encoded data removed]",
      "text/plain": [
       "<Figure size 1152x288 with 2 Axes>"
      ]
     },
     "metadata": {
      "needs_background": "light"
     },
     "output_type": "display_data"
    },
    {
     "data": {
      "text/plain": [
       "<Figure size 432x288 with 0 Axes>"
      ]
     },
     "metadata": {},
     "output_type": "display_data"
    }
   ],
   "source": [
    "seq = decode_play(file)[0:1024]\n",
    "# seq = decode_play(file)[1024:1024*2]\n",
    "\n",
    "# plot audio\n",
    "plot_two_graphs_side_by_side(seq, fft_magnitude(seq)[0:100], fig_size=(16, 4), y_lims=[(-0.1, 0.1), (0, 10)], title=\"Audio and FFT Magnitude\", type1=\"line\", type2=\"bar\")"
   ]
  },
  {
   "cell_type": "code",
   "execution_count": null,
   "metadata": {},
   "outputs": [
    {
     "data": {
      "text/html": [
       "\n",
       "                <audio  controls=\"controls\" autoplay=\"autoplay\">\n",
       "                    <source src=\"data:audio/wav;base64,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\" type=\"audio/wav\" />\n",
       "                    Your browser does not support the audio element.\n",
       "                </audio>\n",
       "              "
      ],
      "text/plain": [
       "<IPython.lib.display.Audio object>"
      ]
     },
     "metadata": {},
     "output_type": "display_data"
    },
    {
     "data": {
      "text/html": [
       "\n",
       "                <audio  controls=\"controls\" autoplay=\"autoplay\">\n",
       "                    <source src=\"data:audio/wav;base64,UklGRiREAABXQVZFZm10IBAAAAABAAEAgD4AAAB9AAACABAAZGF0YQBEAAC57Ibu0u2A7+LvWvE68vLzJvVg9vf3Uvnh+kH8TP0w/v3+rv9EAJUASAFdAbgBEQJFAnICpAKLAl0CEQK2AS8BwgA7ALz/If+m/v79Vv2O/B/8evsJ+5D6I/rq+Zf5GfkS+Qr5/fjt+KT4ovi1+Lf41fjQ+NP4x/j7+GP52fk3+pP68PoI+0v7vPs7/LH8Df1g/az9Iv5//i//yP9vAAoBsAFlAkkDCwT4BJ0FcgY0B+YHmQhrCTAK4QpiCxoMnwwnDfUNhw7rDoMPwQ8SEBMQPxBzEK0QvBC4EH4QcRAwEBEQ7g+2D2kP+w64DlAO7A3HDX0NMA22DDkMxwsoC3oKHQqgCVcJvggKCHsH5QYuBrwFDAVcBJcD4QI/ApYBvADv/wP/Kf47/TL8aPt7+n75rfiQ95n2lfWr9OPz8PLx8RTxDPAP7wLuHu0r7DfrM+pP6VXofeek5unlM+WX5P/jfeP/4oriH+IO4vTh9eHu4STia+Ke4ufijOMW5M/kluVu5mDnkejS6SfrrOw87q7vN/HD8oj0KPYC+I75Wfvb/FD+SwDXAX0DTgWxBi8IigkbC54MIQ51D6YQrBG3Eq4TsRRgFQ0WpRYwF+IXmRhKGcQZFxqcGuwaLRstG5gbwhvOGxYcBBzXG9wblxtmG/saqxpLGvcZjBkHGWkY5hcUF0EWZxV5FEUTSBJRESgQ7A7UDaEMgAtjCiwJ+AewBlsFbQQ3AxUC6QDG/8P+jv1f/In7g/pg+Rb4/vYU9hr17vP+8gjy4/DA77/u5+0U7UvsWetc6ojpmui4593mKuY35SjkJeNR4kPhzeDw30nfpt5Y3hzek9073SXdId1A3U7dZN1e3dzdV94O3+vf/+Dd4e3iBOQ85abmf+gW6gPshO3k7hLxBfMQ9XP3fPnC+2n9Ef/NAAUDDAXoBi0I7AlkC88MqQ7uD44RBBM9FDkVLBZPF2MYVBn1GbUaMBuEGxscAR0lHYgdAh7sHSQeXR7MHtoexh60HlUeAB50HTUdtBzyG1UbbRppGe0YuBfXFqUVfBReEzQSFBH0D/gO/w3HDKQLZwpXCRMI5AZ9BSYEuAJqAQYAiv4P/a37Yvor+ez3+/YB9hj1T/SP8+byOfKT8UPx1/Bo8OzvnO9d7xjvzu6B7uPtSe2t7FTsAeyk6zLrsuo16tHpauku6a/oRej2573ndecs5w7n/+b85uvmzebb5vPm9ebx5mnntecP6E7oguje6GTp6um76mjrNuz/7AvuG+898Enxi/Kv8wP1Sfan9zf5f/rx+4D97P5wANEBSgPDBEoGowcnCXsK6gtCDZ0O9w9DEXsShxNvFGoVUxZCFwMYvRhSGdgZLxqcGgQbgRupGwAcGhz1G8YbjhtBG+0aXhqnGcwY7RcNF14WlBXHFMsTpRKGEWoQbw91DkoNAAyQCjMJxAeGBmIFEASPAiYByP9d/vz8DvzM+rv5j/h392v2kfWy9Af0bvPN8hzyrvEr8aXwPfAb8NLvee/77r/uf+4M7qDtju1f7Qjtq+x57DDsNOw/7Pzr8OvI66jrvOug65brW+tQ60HrbuuD637rgutm60DrSus760brV+uD64XrbutU62brm+vA69Pr7evZ6xHsVOwH7YbtNO7C7lPv5O/48CLyafON9NX14vY2+PX5Xfv6/Lb+ZwAsArgDXwXxBrcIXgoxDO4Nvg9NEcgSbRTfFV0X3BgjGmMboRzPHbUelh8qIO0gpyFqIssi9CLeIuAiniKqIjMiECKlIcIg5B9MH6Iedh3jG1EafxjKFl4V4xM6Ep0QzQ4iDWALHwrOCFcHzwVgBB8D3QFjAA7/ev3r+1X64vjD96L2W/X184LyU/Em8ATvxu2F7HHrk+qx6evoP+jA51PnBee05rrm0ubP5tnmj+c06NPobukN6svqpuug7Lntoe6E7zLw/fC18YbyJfPi8030yvQo9ar1aPbb9lj3wvf39yz4MvhZ+H74oPiR+GP4Cvi597T36/e796b3xvfQ9/T3Evh5+BH5kvn1+Tz65vqZ+2T8Mf3g/Xv++f6X/1gAfAD5AHkB4wFnAhIDmQM0BKEE+gRFBeIFwgZ5BwAIdgjbCIkJTQojC+ILmwwXDUkNlw3sDR0OVA5QDjgOuQ1HDeYMhAz4C6YLDwuBCv4JaAntCJcILwjxB2IH2QZCBpMFAQUyBDADBAKxAFv/z/1c/OD6jvkp+OD2ivUE9MXy2fE18ZXw9u9u7+vupe5z7r3uIe/K71fw5vCd8UbyJfOq9Kf1zfat94b4mPmb+rX7OP1g/uX/PQGEAgcEdwXHBkEInAnqCsgLhAxjDQsOUw66DpsOmg5aDh0OMA4qDu8NSw2eDOILNQvqCmYKxwn+CCoIhAcYB40GTAYwBjIG5QVzBT8FGwXcBNoEZgQQBHoDgALPARUBFQAI/639Gfxg+vn4RPeX9dDz4/Hh7znuruwC60vpquc85kTlMeSj4x/jteJc4g3i5OFA4rviIeN84xbkx+QO5aLlmeYz597nzuiX6Tbqk+pd69LsI+4271Dw2vF088H0/fVl92n4S/m1+kf8LP1o/gIAmAGJA2QFGQcLCf4KNAwXDSsO+w6jDjYOIBByEVgT1BUWGYwbyBsKHHUd5R0+HmcffiBNIswjHiU+J1IozigLKcMozyh2KVoqlCmbKmUrGit9K9cphChOJyYmeCTHIkEh0B82Hssb7BnsF3sVkxKOD1oNtwrHB/gEIwIxAHf+b/z++dj3GfaN9D7zwPGZ8JDv2+417pztK+2H7Q3ume6S7nHuXe6R7gLvye9M8Fjw1u/C79bvJfBk8BPwcu/B7ujtH+0d7P3qmOls6DbnfOY75aLjA+JH4Ire6Nxz2wjajtjs1k7VndM30krRoNAq0JrPB890zi3OWs5jz+LPF9EK0tXSPNT71UzYstu+3kjiQuX155vrKu9D82P42fu8/9MCAwbeCb0NnBGNFVcYlBo+HPYe+yEwJPEmrSjpKbIq3yuuLRwwYjE0MhwzNjSINAI19TX3NY019zPJMyM0MDZXNiYyIy/tLpkwZzFpMH4uoSk5JZojDiOhIhAgqhvGGuEa0hgeF+sTTBBVDJ8LOA/PDrgLkAfsAZ77Pfx5/Nr8gvpA+n32F/HR77fumu3S60jro+qQ6ZHo2eWp5kHnmOhj6KPlvuIb46jkqeQG5Hri2+CP4evhvuFf4mDhw+B/4PLfUd8m3zjfY97d3aTdMt4x3tfdQ9383NjcqdwF3KTbXNva2nTa3tlV2VXZT9lg2ezYNdn22Qbb/9vc3OPdiN+H4UHiSuOe5WznUOia6lvuVvCu8SL1lPgI+6b9UAD4AxEHxAlRDdoQHBQWF7oZ8xzwH7Ui5CVTKUcsZS5LMGUyRjQBNlQ3hjiCORQ6PjrPOiE7JTu5OlY6pzk6OP02vDV4NOYyBjHtLnospynIJlskKyLMHwQd7BndFjcUMBIfEPwNqgtYCU8HHgU0A64BCQBp/tD8Pfvi+X749PfL9sr1uPSe87ry2fEG8V7w0u8F7yvumO3P7BPsUOsE66XqM+p36QDpougE6IXnjOdQ5wLnleY/5vzlOOaI5oTmdeY/5gPmHuYP5u7lluV35T/lWOUo5cXkgeT943DjAOOj4lziGOLs4aLhLuHQ4K7gquCj4JbgmOB04LPgEOHQ4YLiZuMk5NPkmuX35nDoHuqU60btpu4/8Ibyh/S69iH5Vvuw/d//SAKtBDUHnwk+DNQOkxEfFIkWBhmJGw4eXiCHIqMkuyavKEkqtivOLBcuSC9vMDIxsDGmMdYxwDGWMfowzDBnMD0vEy4mLR4siSp5KKsmrySfIrkgpR52HIAaOhgGFqgTrRGaDyoNrwpkCF4GMwSxAVj//Pyk+mL4Y/aL9OvyPfGN7wHu7ez16/jq9unZ6BPoqucd59Tmi+ZB5vzl0eXb5T/msebk5vfmh+cE6MHoeekX6gPr4+u17LPtsO7P76nwfPE38h7zyPM29Ef0VfRm9HL0gvSb9In0TfSc8wfzbPL38WHxxPAJ8CTvHO5Y7fHstOxI7Pnr5euA61brO+uA6//rPeyj7NDsE+107dntgO4o72bvbO+C76jvj++j7wzwh/D38KXxTfL68snz8PRd9ij44fm9+2r9Uv9lAZYDpgWpB6YJkwtODQkP0xCrEjgU0xWIF1cZwxpGHLIdDx/gH9AgfSFAIuoicyPBIw8kyCNGI5si3yEPISMg9B6ZHQscoRpMGf8XlhYjFVITzhFEEL0OLQ2XCykKugioBzUG9gQMBPAC0QGCAGL/V/4+/ST8WvtY+lz5YPhV91/2gfXH9O3zI/OC8rvx+fA48Hvvz+5Y7rrtK+2A7C/s4Ouq66Dryusw7F/sd+zZ7FbtLO4A79Tv5fAn8ljzs/QR9pD32fhL+r37K/19/t7//gAIAv0CHQQABRYGtgbtBkcHSQczB0wH3QZKBngFcQSBA3oCDAGm/yL+bPyk+jL5HfcP9Q/zAvH+7jntqesL6ovoS+cj5hnl2eMT45PirOK04sfiSONi5J3lq+ba55DpO+vo7NHu2PC48uf0BPfG+P36R/17/5ABaQN3BTQH5Qg5Cs8LTg2JDrQPYhAhEcQRJRJlEowSuBKtEroSthLxEhwTNBMYExQT8xLREtUSEBOfEj0S5hHdEfoRIBI/EmsSqRKCElwS2xIxE6oTARQvFK4UPRVyFWkVjxWvFacVthVMFdYUDRT7ErYR0BC9D3kONA3OCyoKkgj3BkoFoQMyAnMAoP6x/Pf6ffkp+Av3+vXh9Mvzz/JW8vbxtPFw8WDxS/Fy8bTxI/J48vLyb/P78930mfVi9l73HfjI+Dn5wfkt+lf6PfoX+sX5R/ms+DD4d/ei9q31sfSH85zynfGR8HbvgO537X3sbet66nLppeiy58nm6OUm5VHkTONM4pfh7+B/4ATggN8I363eqN4n36vfceBK4S/iROPC5InmquiY6gLtNe9X8fbzlfY3+R/8v/5wAbUDJwZ/COQKCQ07Dw4RIhMUFR8XSxkaGwwdeB7sHxch9yGPIt0iGSP3IuAinyI5IqMhKSGIIFUg3x9pH8celR5dHuAdah1BHekcMhw2G1IaHhm5F3oWExVlE8cR3w8gDjsMvgowCZ8HFAaqBIgDXQIKAd3/r/6i/YD8Xvso+v/41Pfp9uP13fTG863yn/GS8K7vEO867qPtC+1g7BLsyOuT657riuuM63frheuJ65brz+sv7G7sz+wv7YXtG+6g7hfvrO8W8LDwLvHK8U/yjvLQ8jPzb/Oe88rzyfOc80zzD/P/8r3yj/I08vzx2vG08YbxevF18Y/xi/HN8RXyivIl8/TzpPSM9WH2Mfcq+Fr5c/qd+9z88v33/lAAeQHCAuADGgVBBoUHoAi2Cb4K1gvXDOUN1g7ID6UQXRHkEWMS3BJ6E9oTJhRMFIAUtBS/FKwUuBR9FFcUABSbExgTnRITEpIR4xAsEFcPbg57Da8MzQvqCtQJsAiKB4IGpQW7BLIDrwJ1AUcAA//k/ef80Pum+qz5pPiT96L29PUr9Yj02vND86nyS/Lf8bHxpfFj8RrxI/Eu8VvxhPEI8j3ydfKd8jLztvMo9JP0I/Wt9QT2N/Z79pz21/YB9/X2APfl9sD20vaj9oL2Mfb29bb1iPVR9SL13PSc9GP0L/T486zzffN78zLzA/Oj8kHyA/KR8Svx//CY8Ejw6e+v75fvnu/a7yHwSPDm8HfxCfLN8sbzs/Tb9Sr3Y/ij+TT7svxI/tb/mAEfA7kENQbWB7MJiAsiDaUOHxBnEZUS8xMVFVoWXxcaGKgYcxkKGqQaDxuKG8sb8xvRG9gbshuVGwEbmRobGl8ZkBjgFyEXPxZFFV0UHRMVEl0RVRBDD3IOQQ05DNgKjglCCPoGpQVEBO0CkQHa/zX+j/z7+mn5J/j69uj1x/Sw86Py4/E58b7wNfC37zXv7e6z7pDuge6K7pLun+6k7uTuJ+9w76rvQvC/8AzxTfGs8TPypvIn887zJPSM9Pb0o/U/9uv2Y/fm91P4DfmS+Qn6sfo3+7f7hfzf/FD9rf1Y/un+Tf98/3//cf9r/3r/gv/b/gb+TP1I/Fv7I/oJ+dD3c/YG9X/zNvLJ8GDvRu5k7VnsjusP64/qBOqq6dHpP+rO6oXrFez07A3ule9N8T3zLPXI9nT4yfpt/VYAcAOIBksJlQu6DSkQhRKgFKYWghhkGnEc1h28H+Eg+CF3IuYiKiOnIzAkTyRgJJIkDyTGI0UjVCKJIYQgWh8DHmgc7RqJGScYrBYXFRwTPhFoD6gN1gsNCmoIsQZDBXMDAQIMAe7/wf5r/Tf8Ivv++fX4Ovg292b2b/VK9GvzpfI08tDxV/Hq8Fvww+9H7+butu627mjuKO637XXtlO217Qjudu7f7gbvAu9N79/vePAI8YzxMfL58pXzd/Ql9SH20vZ49yz4Efnj+bT6U/v7+7H8pP2L/qP/ZgDeAGoBsgHRAToCLAIFAqsBDgF2AO3/D/8w/j39Jvz8+gD6hfgD94f16vNA8s7wfO8J7pTsQ+sL6u7olOfc5kLmQOYL5gnmYuZo53roeOmN6iLsv+2L75nxrvOh9bf33Pm1+9v9GgA2Ah8EygW9B28JDgs9DMYNRg9zEIYRQBIXE9ATLhRrFKYU9xQMFRwVKxV2FacVyBXIFd8VoxVNFUkVfBUcFbwUgBR+FKoU2RQdFZgVIxZsFsUWxRenGLsZkhpdG3scqB1CHlserx7vHtoeth7nHU4dShzHGv8YfxfVFecT4hGLD/kMgwoNCGEFwwJxAM/9Ivt7+Cz2KPSC8ibxx+927jXtJuy/64jrbOtf65brzOt57FrtSu4G7/bv7/Do8VvzhfTY9Xf3wfjM+ZH6jPtv/Cn9kf3J/er9zv2T/Yr9QP3v/Gj8tfvV+kv6n/nT+PD3Dvca9iT1BPTi8rbxyfBy7xjuyuyx64LqKunF55/mheWe5NfjMOOX4hXi6OEE4lni8eK144fkgOXu5nzoPOrP69Lt0u/P8Qj0aPaY+Pr6N/2C/50B/gMhBh4I1wmUCzQNgg75D9ARlhOXFEEWQxgiGpAb3xyVHsUf/R/sH44gYiAzHvMbyBr4GGAWSRQXE0oSKBLWEncUjBaUGA4a9xvTHcce8B4dH7AeaByyGe0XkhVgE6wQ9w3jC1gK1QgwB8kFXQSpAkgBEgCF/63+dv1f/G/7dPqZ+cr4Bfgm92H2avXO9Dz0xvN0817zQvMa8yrzSfMt8wjzrfKH8k3yC/KE8SPxuvA88I7v8e5n7ujtKu1d7F/rXeo/6UjoV+eW5prlzOQP5GPjr+Ib4rzhd+Hj4D/gpd9x3y3fzN5h3l7eZ95z3mzekN7S3kzf299p4AXhsOGU4tnjCuWF5uvnaukU6/jsqe568KvywPT69pb5A/yw/k8BBgSxBqEJYgwWD8gRuBR6F/4ZIBxLHlUgOCK+I0AlnSbcJ98oyyl/KkErwSszLIwsCC0XLRMt6ixzLK8rwyrCKZcoaSfRJQYkNiJCICweDhzvGVEX3RRdEhUQ2Q2PCy0J+wbWBIgCSgBs/qn89PpC+db3cPZk9YH0q/MZ87XyMPLc8YLxR/EL8STxTfFq8Wnxh/Gi8cbx7/FJ8oLyv/LO8g3zJ/Mv8ybzY/OP87zzxvPH87rz1PPr8+HzsPNf89fyXfKq8SrxhfDt7zrvzu5T7sHtJ+2F7Pbrbuur6t/pKum66A7oK+dA5qPlQ+Xa5HfkROQF5AnkFeQ55JLkI+W55Szmm+a657joq+mY6vLrN+2u7qbwXvIj9Dv2OfhY+mj8sP7TACIDZgWsByIKpAwMD3cRvhMIFk4YkBplHEweGCDNIVcj2yQQJmAniSi9KaMqbyu3K/crBywPLKArZysHKxkqOildKFQn9CUxJH4igSCJHroc0Bq8GMwWaBQoEr0PrA2XCzcJ1waLBHQCVgDU/X/7W/kj9xH1W/PO8YDwNe8n7kLtw+xh7O3rdOvV6pTqxuqn6tfqB+sa60rrjuss7Ajt6u2Q7u3uou9K8Bfxq/Eq8jPz3vNd9E/1I/ZO9xH4wfhs+W36Rfub+4f7cPtc+zz74Pqf+l76Jvqm+U353Phl+P/3uveG93X3+fbu9iP3dPe69y749fiQ+TD6EPvO+0r8y/xz/dr9jv7f/h7/TP9J/0v/s/5I/tz9u/zR+/z6R/qx+TP50/i++JX4gvjj+NP5xPqi+8b8vP2J/nj/rgD/AXUDkgRzBYkGjgeUCDkJDApQC7EMUg0/DlUP7xAyEowTyxQaFhMXPxdRFzAXmRYFFvEUVhN4ESoPuQz3CdYGcQP+/6H8Ovmh9fDxb+4q63zoz+XZ41fiLOF34AvgB+Bz4BnhL+KL427laudt6uLtefEK9dL45fzjANcEzwiSDAIQWxN0Fv4YrBvsHYgh7CRjJ0Up1CruK9ssWy2PLUItbSx2K8QpjCefJXcjTSFoH8kdUBxtGyUaqhdpFTkTyhAxDmEL2wh3BkkEegJZAVkAy//o/2wADgGRAfIBZwKsArUDQAS/BOQEhwSOBO8E6ARQBA4DcgGP/+z9GPwm+h74bfWE8ufvRu1Q6gLnaOQ84n3gFN9p3g/e2N273QbeiN5y333g4+FW48rkdeac5y3p8uoS7AvtuO7m71PvZu5+7tPvkvCv8L3wGPH88a/xMvEn8d7vue397InsUeoU6ZbpQeoC7Dzto+678KPzB/Uj91v6Ev05/34B1Qa3C4QRPhiHIBUnyyueMHk21Dt1P0FDX0h8TkNUQFgZWzxfiWQqZ6RmRmbZaNBrLGvaagtsMG1ZbUFrMWrDZp1kF2MgX/9Zi1bgU/9N80gWQ4U8cDTVK4gmoB7rF40SLgvRBR4Bm/zz9xn0GPET7pTrWOmu56Xmheae5o3mRecI6AzpuOmq6tTr1uy87Wvu9u6T76TvV+8k747uUO5+7Ubsq+ro6G7nxOXU497hvN893QXb6Nlc2IzW/NSa1IrTgNL00WzRItHZ0FXQCdDvz4fPmM+Mz/HOGc4xzRrMxMoYysfI3cc3x8vGXMZ0xsXGysdsyUfLyMxvzhLQiNF/01PXPdoM3bbfFeN05pjp3OzI8GP0tfUO+az//gQyB0EOARlVItwokzFJP21MP1LIVt1hxmgJZHle+V5HWxZTXE0eS15JoEm7S7tRZltYZIZrbHYhfv9/6H1yerR0Z2u1YDtTuUa2O1EwzyQjG1sUPw0XBUP+APrF9NzuqepS5tzg892V3IzcMtxL24ra5Nn12dHZR9lr2i3bRNzY37rkEOcC5yzo4+rn7Ljryug36EHpCukX5dvijONq5dHkYuAT3nXejd4u3LrXcNOF0ZLQd80DyCfFqcSuwoq/Br3lume5mriFt3e28LXFtbW13LXEtvq42rvnvJ28575MwlnGQ8l8y3DNBNEG1l/WHtjp3fLhh+EI56/vdPFc8Xf4hQAoBLEFBwrbEUsYehzIIs0pti98NB44RT0jQz1HUUwTUgJWeVqRXx1j02UmauZr4WwhbzhwS3HhctN0YXUPd+l1KnM8cptxoW7GakVmpGHMXUpYiVDsSRZDFzueNBMtNSVjHloXEBFuC7IFHf8W+QH0P+/z6nHmF+Ot4LPeHN2Z3AzdZN283VPe7d6C3zLgNeFF4nTjeeSq5cvmCugo6TXq6OpW6zTrQuvC6oTpBehF5hzk0OFL39vdJdwl2rjYaNj41zTXpNW21KLTQtIF0fPQ2dA5z4jPONG70GbPhdDD09TTjtJZ0jTT19T71CXUdNSp1p/X/da91mXYOduI3C7dyd6T4e/j/uW655bqAe/K8w74tft5Aa0ICBDXFnwcJyK3KEswOjYqOus+R0WfSn9Na1JUWRZfCGMhaPVtvnHgdb14q3iyc8dso2d/YAhZGlGqRgw7izC+JrUXewpaAT76MfHp5wHgHtpU1irTgdE9ziPNjsyuymXLZMpiy1DRptft3Kji+uaH63DwjfUt+lD+agFzAxMG+gdKCJEH4wXdAnX+6vnd9OXvVupS5CneIdk10xTNAsj1w7a+f7pRt+i0a7P1sC6wmrBesbyyJ7Smtke4OryvwIfEgMk0zgfUD9oa30LkUOps8Cv12/gz/b4CBgj2C+EOrBFkEywV4xY6GBUaKxzTG3kbexxrH/IiHCW7J0IreC9sM9Q2kDsaQahGLkp0TeZSslg/XsJhJWVVaGVsOW+Eb2VxxHT5dsZ1+3Lxb6dsi2pGZC9bCFJdSYM+azLrJ4kcCRLwCEUA/vYC72zpx+QN4DzbMtcS1RjU6tIb02nV1de72ejbGuCE5BzoHuyr8b/2kvwJApEGAwvKD7YTwhUYF8EY1BnwGXoYoBYVFCIRwg3RCbgFegCp+pf0Eu4O5ybgLdpN09nMXccrwly9+rlZty62WLU2s6SyEbQ/tjq337nBvYzCQMiazsLUhdxQ5Z7sfvRR/JQDwAshFPsbJyTBK9IxCDgtP3VEvElyThtSbVVeV2ZZalv9XXZe/F6LYIlij2RUZoNou2sRb95vmXANcidyWHBSbhps+GinZYliiF9bXSdbJFhVVMNP80pzRj5AMDjhL5EnOR9zFl4NbwWj/hz4//EQ7d7oauYE5VnjoeEh4e7gU+B64N7gd+G+4vvjveSM5T3nEek4673tCvCG8W/za/Wm9wr6NPya/cL+LQAUAfMB+gK0AoMBlwBl/xf9/PnY9o3z++8F7OXnouNo35Dao9UI0czLOcd7w3jAsr1Ju7O5A7nxuPW5crvFva7AKcJRxl/LeM801PXZ4eHT6XXy1/yNCB4TtxkLIFEpRzLPOAE+sUUZUPlYMF53YZ5nu3Dddjp2JHRtd/58E3/jfN16l3xVf+B9UXhjcvFy4HOFbwBndWF6X0lbeFT5S+xEtD7xNnwvRSa7HpgYGxHpCUYDL/2b99Xyuu6e6lvn2uT94sLhUOE44XHhGuIY447kLua750rp/eqx7Fjubu878CvxEfKK8rjyx/KE8uzxKfEN8BbvJO7e7FbrdOmD52jl4uNq4vbgLN9M3bTbQ9oW2bvXstaW1R/UatJ60LPO9czaymXIJMa0w73A0b3+u/y517ift5u2b7Ymt8G4U7pdvQDAMMNBxwjLks760mbZ397G4/vnCu128rH3u/xQApYHqApfDt0TSBm1HcMjFitSMi84iT5fR/1OkFJCVZpaoF0IW6FX2FU5UjNNZkgzRFdC+EElQsdCaESsRg1IDko7SgJITkR6QJY7/jOoK34j4BuhFGoNPQdYAl3/kPzP+bn4+vfO9pL1OvQ889DxsfA479LtZ+z76qHpZehT55XmleVB5Rzl7eTe5JTlL+ZO5rbm/+bh5n/myeVR5bTkLORB417jbuMX463icuJk4tbh8ODY357eAt3p2sLYgtZE1DbSR9DTzTbLBcnmxgzF58OTwjbBxcBnwDHA0MDPwUHDb8X5x2LKEM220OHTo9fx23nfGuOl5gPquO0A8tz1evmz/IMAPwTXB6UL8w+aE8cWtBqkHpYiZibrKWYtozDGM7M24Tk9PeBAN0QoSNBLzU40Ur9UwVY8WWFbo1zlXddePV+TX5hfKl8OX1deC1zJWSFY3lXpUsFPOEw7SJpCpzwjNt4vaynBIkYcTRWvDtwHEALU/Ob3C/Nz7ujqv+fn5JDiKOGT4G7gWuA74XriveMD5VHmyed36e3qDewj7VDuc+838MDwL/EI8erwVfBP7+7tuuwl61/oXOWV4m3foNuP1/XTJ9BRzLTIbcU8wkPAPL7lvJ27FLu+uuq7WL33vVbAAMIxxEjGw8g2zKvOMNFw00XW9tgR243d6t+B4hXl/uaO6YLs4O8q87n23PrW/gQDGQdIC38QrBVKGvgeHCSRKVwuNTM6OQA+/kFeRoxKOU5SUEVTpVbHWQhbuFzYX2RiCmRCZUpmW2Y5ZkVkyWDGXMxWcU+pR4s+1jQLKqgeuBNmCYz+bvT665Dkcd3Q1rvRks1iyoDIxMZ4xjXGw8brx4LJ6ss0z3bTaNcu26bfPOQV6fLtmPIn99f7uv97AnYF/AdKCa4JOQkzCMYFCANu/6f7cfdU8u7si+dg4gHdztc/0yTOfsmoxUDCRb+vvCq7eLk/uHu35rYkt+S3ArmMury8OL80wkPGR8p+zs/SyNe/3HLhHuaR6m3vePTp+Cz92QE3BmoKmg5iE1IYHh3XId8mMSyeMf828juHQIRFH0qiTZJQGVTIV+dad11jYC1knGcWao5sYG/IcatzhHQMdG9zBXIab99qjmauYEtZaVINSZ8+PzWjKgYfDhQLCqD/Gfb67bnmFeBs2+HXBNS40ZrQt89rz/nPS9HH0hLVVNiG277eg+I+5/7rfPDn9DD5/f03AqcFUQiSC/4N9Q6PD8sPBQ9nDSwLOwjWBEoB4Pxy+BP0p++56gzmj+Gp3GfYZNQ30HHMFcm/xenC58C4v0K+Gb5Mvpy+nL/ewJ3C78SHx6XKP84q0m3WHdun4FbltOpb8Cr2Lfw4Aj4ITA6IFBkatR+KJakqHjAoNQU6Tj5MQmBGs0qaTtFRm1WhWVZdJmHKZE5o5mv2bmNwRHGNcpRyJ3GfbmpsMGnsZIlgMlzHV4RS7k0LSMtB6js3Nf0tyiV9HUkVLw2WBBH8AfWY7prozuP435Hczdoz2iPaQ9pP2z3dQt/v4WjkEue86qPuqvFE9Cf3yvlI/LL+DwGvAqcEWQZ0B5kItQlGCoMKkAreCccIxAdDBv4DjwEu/+b7Jvhm9BXxse0A6ljmsOJo3z7cT9m+1tjTDNJq0GvO/8zAy8nLgcsqzKvMwc04z9fQW9Pc1YHZqdx84Cjl2+li7hTzp/jx/hQFHAr9DvIUoRuFIXImoSt0MSY3TzsdP2lCDkeSSwBO6E6GURlVsFX9VVdWQFccWKJXElZvUwtSF1FTTjlK7ka+RCVB4TycOHk0yS9wKpolxB/RGjcW5xDmCzAHpQJN/nL6+PaZ89jwau6f7DTrWurt6cjp/Oli6lrrT+we7TnuSu928ILxdPJF82j0MfW69Uz2pPbY9iD3O/cn9972fvbo9V31j/SY80DyufA57/TtQexP6q/oPeeb5aDj/eHR4E/fU90M2y7ZTtce1aLSftBJzqfLHslQx9TF1MRNxOPD/sMhxXfGV8jWyrPOjNIx1hna396d43voge0s8nD2G/tc/y8DrwbLCrwOsxInFpUZAh7DIugmGyrmLdUx3zSzNpI3+DjIOY45xTjGNyA2zzObMbgvBi5yLCUr4CqVKuUp7ijcKG0okifMJfAjvSECH2ocHRl2FX0SkA/cDAAK5wfsBc4E2QOvAhYCkwH7AHMAxP8n/3L+oP1T/PT6gfkc+Mj2l/V69H7zRPJ+8a7w/u9s7xrv2O6v7tDuxu6r7sDutu607nfuSO7p7cLtfe0Y7WPs2usy60vq7+hz5wXmXOR/4oHgZ95Q3EzaUdgc1gHUGNKH0OvOtc2pzBTMxsvRy+rL4czhzWLPRdHD0zvWsNjG26neFuK35Vjp5Oxh8K7zD/e9+iL+swHgBDQIYgtUDkoRcBRKF9UZfBwLH04haSNGJT8nDCnvKncsai5EMPkx4jNhNos4LjqAO+s8/j2uPls/HECsQNdAWkAZQJg/0j5+PYg8+jqlOKs2WjTqMUkvTCzyKBMlASHPHKgYfhQ4EDkMBwj8A/v/d/xH+UD2d/Pb8L7u0OxC6wDqSen86PTo7+iE6VDqLesh7AztHu5w73HwNfHf8ZfyT/Oi877z0PNP88Dy4fG58C/vvO0N7J7p+eaC5Nrh196y277YtNW90vnPgs0ly3DJtceYxvPFbMV0xUrGYsdyyD3KSswSzv7PYdIq1ZzXgtoB3ezfhuLC5HnnQOok7evv4vGI9Hb3qfrE/SYBwwQvCNcLRg+0EswWuxopHm8h6iRGKJYr4i6AMnU1GjimOjA9SD+iQEJC+UPeRbBGYke4SPtJI0uoSzpLZEqeSZpH2UR9QRk9CzhzMsIrmCQPHTYVmA1BBvz+Bfjh8Svs5eY14njen9tu2ZTX69Xn1evVNdaH1//Y29oo3bffYOIB5SLoXet+7pLxw/TD96D66PzX/tgAWgLyAu4CXwKCAcP/yv0D+yX49vQq8SDtGek05TPhSt3I2e3VhNKwzwHN7Mq7yH/HzcUWxa/EHcRsxHfEQcVQxi7IrsmFy0HORdEm1CjXetor3ubhneU66VDtkPFj9UP5i/3BAdoF2glUDu0SjBcEHKwgWSUHKqcuKjMzN2A7Oz9YQt1E6EfASldNkU+MUQJUbVZSWAJaqVtJXWFelV7CXRhdxVsZWYhVplGJTK5Gk0AEORQxZykbIRUYgw+JB4X/Yfgr8ofsbeet447gpd0P3CPbl9q72j7bO9xS3UDfl+H0423mJelG7Ivvk/J19Q/49vqW/av/KQHaAuYDEgTpA3kDWAKuAKL+Fvw3+Tb2w/JW7/rrlejM5FHh/d1h2kjXSNRJ0cPOdsw/ymzI3cbZxcrE7MRVxYzFxMatxw3JIsu6zZHQdNPa1pbakt4742jnKuw08V/2lPvkAD4GlQshEUcWbRuvIFwlhyosL4IzfDdeO+8+s0LhRbRI2UvlTu1RFFUBWHdaRl24X6tgGGGpYYhhBmBgXdVa4lcHVMdPZkvlRr9Bej24N/ExDy3dJscgBBo4E6MMLwZt/6/4QPNk7ufpNuY748fgiN8v31PfdN9r4Nbhe+OD5WfnXukT7ODuFPED81L1cfd8+X/7L/1R/pj/ngBJAeABVwJQAhECyAGqADr/BP5d/C764fe39c3ynO927MDp/+Ya5EThdt4L3KDZbNd41RHTmNF10AjP4s3uzB7N98y2zXXOps9u0VfTLNbN2Gnc3d/u47Tohu1D8kX32fzPAqoIug2fEicYDB5dI5onMCyYMaU2ITonPRlAOkRNSGRKA0sqTWxQPlFKUVZRIlIGU6VSE1F4ThpNHkxwSVJF30GgP0M8+DduMxMv0SoSJh0heRu/FlYSdA39CLoEnwC3/Dr5MPZM8wTxE++f7X3s3ut+61zrlusj7Pnsue1D7irvHfAP8ejx2PKa83r0E/WR9QD2a/au9sT27PbZ9qr2gPYR9or1svTq8+Ly6fG78HvvCu6L7AjrWOl153Xlj+Oq4Y3fl92L23jZntfw1S/Uo9Iw0QbQzc45znfNTM0vzXvNB87iziDQwdHG03PWHtm627LeP+Ll5crptO2b8TD1FPnL/H0ABATXB2oLEw81EkwVChnQHEEgIiMVJiEpfismLVku2C/OMBQxzzA0MPoufS0XLM4qbyniJ34mqiXLJJwjYyLWIQkhvx/BHdMbjBnqFoQU5xEeD+8MxwrHCKAGRAUKBEMDnALaAUgB9wClAFgA5P+P/y7/n/4v/pP90fwR/EH7i/rM+TX5TPij9+P2NPaS9TT11fRk9AD0d/Pg8mfytPEb8U3wiO+x7hDuR+1u7HTrkOqb6a/oVecF5sDkeeMP4pzgMd/g3a7ciNtA2hXZEdhP13DW59Vj1TLVEtVs1dPVdNY/10rYl9lF29rce96c4HfiquTx5lfpqOsW7njw1vKW9Qn4bPqs/DT/ngHwA0cGoQjbCikNag+tEc0T6hXuFxEaFBwqHhIgUSJ6JIUmpChQK7YtlS8/MRMzlDTSNdQ2+DftOJE5kTnFObk5YTmeOFQ4czfUNWk06TIxMTEv3ixMKk4n9yNtINscOBmMFRASRA6XCsYGjQN+AJj9+/pq+Er2RfSa8kTxePD675/vQO9V76LvSPDt8JjxVvJL8wL0kPQb9cb1bfa99t327faG9hj2b/WX9FrzLvLR8BLvJO0u6wTpvuZT5A7iwN+A3V3bQNlQ17PVIdT+0gPSJ9GN0HjQidDx0KrReNI90yXUX9Xp1m7YR9qu21fd295d4DriNeQ15i/os+nM6x/uc/C18l/1H/jD+s39qgCfAwQHRwpLDVIQqhPKFj8aoh3xIO4jCicDKrQsNC8+MeQy3jSBNsU31zgIOts69zufPF48LDy7O2g6lDgiNvQydy9UK48mjyEfHFgWpRAqC5kFMgBS+8L2d/Ks7mHrxOiD5sXkS+Oq4l7iOuKO4kzjOOSO5e3mc+jv6d3rH+468D/yb/R29kv4r/kI+038Kv1l/Tz9ovzU+3j6z/iZ9jz0nPGW7lXrDOjM5JDhXt5x20XYdtUZ0+LQHc9jzTvMBctsyiHKu8k5ymfKEstQzBXOls880ZDTJNad2H3bht7G4fLkJ+hT6/Duo/I19rH5Zv0VAcgEZghHDFgQQxT0F68bdh9YIy4nyyrzLWIxsTR7N8U5Pjx6PqtARUKkQxFFu0YBSKtIgUljStVKdEoxSY5IgUdIRWFCUz+AO0k3jTIcLXgnhSFpG8UUdQ6OCKMCRf1y+B/0R/BR7erqxOhK50/mq+W/5RjmkOYj52no8+ma6zvtCe8Z8SHzHPUj9wv5Lvsq/dT+EQB+AXgC3gL4AtICKgINAX7/gv1E+xb5ZPak89jw4e2i6n3nXuQn4SXeN9tV2NbVgNMv0UDPqs2UzMXLm8uIy5fLhcxBzWnOOdB80tbUSNc82mnd4+Dm5Ljo8+wn8UX1bfnR/TwCxwYoCzQPChPeFoUaiR4nImUlRCibK3Mu3DAkM201bjewOTk7dT2GP8xAaEI+RCxFhEWqRfhFfUXqQ1FCiUBUPiU8PDmHNuAz+zB0LdcpxyaWIm0eoBnKFPkPIQsJBtcAdfxt+KP0P/FX7urrOuoU6Y7o+OcS6IXoOuk76kPrXOz47cXvefHx8q/0aPYC+Kn5R/uL/Ob9Bf/f/6MASwGVAbYBsgEnAUcAT//H/en75vkt+Kv1/PI88LTtOut76N3le+Mw4eLes9y/2qrYC9fK1ZfUjdP00sHSiNIH077Tk9QT1qLXu9nl25HeT+FA5OjnzOt27zXzSvfQ+1MAGQS5B/oLXxACFEoXpRrYHTYhDiSXJhApAixYLgEwhTFwM2c1ojYVNyg4EzmcOX45TjkEOW049DfBNpE1jTRpM4AxiS/SLdsrYymUJqkjgiBnHRQavxaSE0MQ9gymCX4GpAPFACP+rvut+d/3jPZ79av0G/TG887zzPOn8/DzL/R29Lr0KvWX9TX2iPbO9h/3bvel9/n3gfjn+CH5Svk++UT5BPnD+Dv4lve09rr1lfRb8xDyvPDm7vHsB+tL6V7nbeVn43Dhn9/a3RHcl9ot2QfY59Yc1m/VGdX01DLVkdU41hLXGdhU2THbBt3k3ifh0uNP5vLo/usP7+nx+fTK97v6h/1nAC8DSwY3CR8MPw9eElQV8xeaGicdJB+xIPMhYSNVJAUlbyXHJcAlvSXCJesl5iWtJYklvyXVJbUlhCXYJdclbSWSJAckFiOVIQ8gUB5cHGQaARiRFeoSihAUDrULbQksByUFgwPTAUQA+/7t/eH8BvwY+0b6hvkf+bL4QfjD9z73v/Za9vP1uPU29db0WvTS837zHvPX8qDyNfLR8SfxdvDG7xbvZe667bzszevD6sLphuhP5xPm2OSL40TiC+H93wXfFd4h3U3chtvI2kHa7dmq2XnZgNnE2TjatdpT21ncY92j3v3feOEZ4/3k6ubI6ODq5+zj7gjxIfNb9Vz3jPmF+7r9z//VAQEEJQY+CGwKeAyJDnEQaBJKFDwWDRjoGZIbZh0QH6IgGyLpI4QlyCbUJ/4o+ynhKpMrTyznLF0tXC1wLVotHC2ILDksgSssKhYp6iedJhwlSiNTIQ4fpBwsGsMXMRWEEgkQTA2UCu4HfwVJAw4B3f6t/OP6KvmS9yv2DPUl9G3zr/JX8gjy+/H88RHyLPJ/8p7yq/Ks8t3yFvMg8wjz7/KN8gTyc/HL8Mfvve6W7WrsBuuK6eXnUebB5DzjuuFK4Mzedd0x3CzbLNp22c7YKdil14LXd9ep1+vXnthi2SHaINtE3Lrdd9/44I/iM+QA5u/n5un060fuWfDP8kr1jve8+SD8l/4fAbEDPAa/CD4LkA3mD0sS4hQRF6sZ/hsJHikg/yG+I74lPyeoKK8psiq4K7gsZC33LRsuIS6aLQUtfCzZK7QqIymSJ7sl1CPJIXIfMx2TGpsXrxQmEnQPygw/CqkHKQXCAvEAQ/+o/WL8+voG+jX5bvjj9633cPdG90D3Zfdb97T3IPiG+OD4Yvmd+aX5X/kY+dr4ePjI9+j2nPUn9H3ywfDc7ubsy+pn6NTlbOMI4aTeTdwu2u7XEtZv1BnTytHi0AHQoM9TzyDPK8/Lz3zQQtG50prUCdaH1/HZdNzr3mLhUeRx50/q/uzp7zvzWPZ9+Uf8cP9yAmQFhgiIC5gOgRHnEzoWgRgLG5YdwB+GIWQjSyW3JgwouCm+Ks4rlyzVLBQtcC2wLW0tJC3dLEUsZyvwKQUp8SdJJjAkOiIcINQdVxvsGDsWSxNdEEcNWAqZB98EVgLm/8/9Avxs+hj5D/gI90r2sfWb9Yf1W/U39YT1HfbV9kT3u/dB+Ir48/i2+SP6ufoY+1D7YPua+7/7tvtt+976A/oe+av3HPaA9A3zTfFr75Ptx+vJ6X3nMuV/46vhDOBF3sbcjtvo2c/YIdju1+/XEtj612/YCtnh2VXb3dz13sHgo+Lq5IbnbeqT7aXw0/O19ob5dPxv/2kC1gXRCNELUg62EGET7xVVGKwagRx2HtwfKSF5Is4j4yT8JZEmLCdEJ1EnbyevJ4cn3iYbJkolJCT0IsMhlCBPH/cdVhynGtsYQxd8FbYT+hGsD7QNXQsFCfEGwgR+AiQAMv5r/NP6L/m793/2bPVx9NjzdPM58wTz9/Lm8u/y6fIX80zzmfPK8z30q/Qc9ZD1DPZo9r32Afdh95H3q/eG91z3Vffv9lT25vUe9frz3PIg8uDwle887hXt4+ue6mfpXeh353jma+WI5JXj2uJq4jDiv+Gy4e3hNuLS4qXjdeTI5Rrn/ujH6pHs0O7r8FDzMvan+F/7PP5zAaMEdwcnCucMqA8cEmwU0BYKGT0bGh2lHlEgSCL8Ix4l/yUoJywowyjoKGopvCmyKVop4yg4KLEnsSafJYIklCN+IgkhcR/OHRYcfRqfGLwW5RTMEosQrw41DbkLCQorCGIGBAWoAysCngAJ/5D9mPyA+4j6sPn/+GD4lPfC9mn29/V39dv0kPRV9PTzUvPf8lfy0PFD8brwQPCn7x3vlO7t7Untjezr60jrxOr+6RXpJehl52vmwuXP5PnjI+OG4tzh6OAM4Hnf+96P3vvddt383NDcn9zO3BHdj93d3VPe4d7a3/jgKOIg42zkiOXK5qDoeOpj7H7uj/C28qH0yfbx+Fr7q/0cAFEC5gQ+B7wJcwzTDo0RJRRnFn8YdBqdHM0ewyA0IsMjWCWgJt4ncSkzKvkqwStILKQs6ywkLeYssSxwLAYsjyuVKpYpHyhaJq0kJSN8Idcfdx2DG1cZQhdmFWoTZBF4D6AN9gsACgcITAZ5BJ0CGgGX/1X+FP0U/Aj74/mr+IX3hPar9dn0MfRd87fyF/J48dzwWPCy7xDvVO657QXtVuyC67bqFOqT6croHeh155zm4+Ub5VDkkOO+4uHh+eBb4K3fI9+x3k3e591m3R7d4ty+3KPchtxy3HXcd9yI3P7cXd3Q3Ube2d6o363gyeEK4zjkkeXv5nvoEOrj65vtfe9K8ZjzuPXC9yz6U/yK/i8BbwPoBTQInAoUDZgP7hFEFGcWwRjqGgAdCx83IQ0jaCStJf8mIygkKdgpgyoMK2wrayucK6krlSspKxErsCrLKfIoFSglJxgmwyQ+I5QhzR/+HU8ciBqoGKsWYBQoEh0QUg6bDNEK9QgBBzAFTAOjARsAlP79/HH77Pl5+BD3J/b09PTzz/Ko8Yjwm++p7szt3ez66xjrauqN6azo3ucS5z3mVeVY5I7jtOKD4Vngod/i3vzdJN1u3JrbLtvb2mXaA9q52YbZe9l72bPZ19lM2r7aq9ti3Ofc693q3s7fFeEr4oLjuOQf5pfn/OiA6hnsjO1h70jx+fJI9OD1tfeo+dP7x/2f/4UBLgMJBRsHrAnrC5UO2RD4EnUVdxeoGUccVx5yIOwhIiNtJP8lRSeAKCQpsym0KaUp5CmPKT4pzCgHKB0nWSajJWIkaiPyIaIgYx/LHtAdlhxnGwMakRiaF30WrhVUFI8S+xDQD6AOFQ0wC4sJ9AeGBlwFkQShA4ACPAH2/7P+3/3n/I776vl++B/3rPUH9I/yBPF57+rtF+yA6gzpn+cm5orkR+MK4q3gY9/C3lDcIttf2lbZ5tfr1v7VNNat15XVp9TS1UnWMdTp1VvZwtgE10XZedx/3Qzdy97b4dXjAOSs5rDpCOw17tnu8vCZ8vDzAfcZ+cv7Nf4AAKkBXgOeBRgIBwqjC14NPg+/EG4SqBQXFo0X6xgbGlkbdxyXHWMeHR+OH8MfFCDeHxUg+x9oH58eCR5kHaEcgxvQGtEZehhGFyoWGhUgFPgSpBFBEBoPJQ4QDRcMQAvUCYYIeAcDB4IGtQXdBEIE+wO9AwwDdAL9AVEBXgBz/5n+H/6O/Yf8W/uA+r75ifjd9mP1evTW8yPyhPCy7n3trexb67npruce5gHlH+MX4a/frN7r3bLcM9sj2uPYndjI2MXYxNgC2LjXotcA2FvZ6dov3FXe/uBB4rHgeN9x5nTrgfDS8T/wUu8q8ov4v/2LAfMBPwGMBOYHagt9Dw4QRhHtEzkWQhhqGnUcwRzyHiEgbyJiI7wiuSMxJN4kLCW+JHQkeSNIIk8hViBcH9gdzRt4GVUXxBUBFNwSjhHADrUMcgrFCMsHdgbJBL0CJwEVACf/y/1Y/CL7d/nB99T2h/W99L/zfvJS8crwX/BP7y3uke0r7Q/t9uwl7TjtRe2R7cLt7O1X7pzupO6M7ofuZ+5V7l7uSe597ZbsxOvZ6uvpyejM58TmeuXT4+nheOBI323eyd0p3bXcW9yI3E3di91h3mXfYOCx4YLjRuV356jpNezA7n7xhfRP91L6sP2WAMADZAelC2IPCBJzFDoXOhq9HAgfUyEBJDwmYSfIKD8qhSw3Li8u1i3rLrkwKTEQMSsxVDEJMk8xSTBqL4guni1fLMcqHSmnJ8UlaCPuIFkewRvnGOAVyxL1DxYNVgrGB1AFtAL//7T9zPv6+Wv4vPZH9drzCvM08mPx2fCk8KzwePAV8DPwWPAr8ArwifDp8ADxtvCH8D7wU/BN8Pzvle/q7ijuXu1f7EXr8unK6Irn1eaW5QjkpuJA4aPfXN4b3Q/c2tp/2STYmdZy1arUCdS10/TSFtJY0fHQx9B30Y/RAtIX0lfS7dLf00vVUNcU2RLbYNzV3VTgLOL+5CLokOoH7X7v9vES9Xr4w/tf/34CkwXBCFsNdhHvFKMZ1h3OIR4lwChYLXIy1zVjOD88qUCYQetC/0UVR29HL0VjRvpHR01LTWZFqz/WQBhGe0hPSO1F2j3QNhE1bDSJMyYuLSZOJUsmuSK0H6QajxQWDlwNrRQ1Fb4QXQpL/k3yMPct+yP/zf7/AzgBYviM9vz2t/Wu8m/zF/PT8yLzmO7a8b7yuPJO8avrPuaf5e3nHObd4yrg3dwA4frfB9tJ2sjZ4tmY2PbVj9Mz0+TTpdKe0DTQYtGJ0RTRpdAw0fnRwdKW0iLTltP407zULtXR1RbXQ9h42SDYGNny2qfdR9/33zDhAORm6J7n/uc67J/ufOwS8Gv3JPiq9un7SAI4BMgEKAhNDkoSthNuGFcdayFBJGAlXyhmK/Is8i8jM4Q1eDcbOT062TrtO+k7vzsJPBU8cDvUO0g8ejtUO546Kjk5OPk2FzVNM1MxHi8zLc4qUieAJMUhqh7nG8cYWRUEEqEO2AspCWkGXgNpAPP9mvtK+fT2MfWt82byRfGX8CPwFfDI74/vNe8z7zrvV++D76fvpu/B77bv0u/G76rva+9F7yDvHO/L7lLu3O0T7QjsQOtA6mTpX+hG50rmo+UV5Q7kyeKN4UTg7N6J3afco9u/2ujZ/Nml2QDZYdnH2Qfa1NoU2/Hbt9yy3ffeT+AY4rnjP+U650/pKeuS7Gzui/DV8ir1Tvds+bL7vv3T/+sBlgTVBgAKywwuDwMSZxQ0F9Iawx3lIEgjXiWMJzIqqiwIL6QwfjHrMrE0PTaNN4A5VzlFNgYyrzBaLygtECwBKkkmRyQMI8oc0hiCFhMVbhLoD4cNyQzLC9UJMwr4B80HTQfMA1oCrP7L/P38rf3Z/a/9p/wt+8b50Pih9/j1EPSS8vTwdu/T7TTsheoM6YnniuXo4z/iseAD3xjdctu32dvXLdZv1fbQANB7zurKLMcRx9HGrcdDy0nHE8WNyArKD8U5yQ3S3tHSzZDTO9uv3dPb59/O5nXriet18Wn3g/s//+r/OgOvBUIHpwzDEKYVXxkRHLkeQSEXJOsmKynkKo0soC7rL/MwdjIyMx40oDS2NME0/jQKNas0ZDQhNLwz9TJ+MWQwKC9FLaYqtihSJp4jDyFxHoAbYhh7FboS1Q8XDZwKagiSBqgE8QLHAdQATQCN/4r+Ev5G/l7+Iv4I/l/+RP/X/0AAowCoAYMCZgF4AWACtAXyBwIGuwMuBV0ICgkzCb8HngeWCmYJpQY2BD8FjgZxBUUDRwESAJYAd/3f+Yj5TPm2+bn2UfPM8AztDu5u7lTspeuw6U7oCuct5mPlOOZi5lnoDOqb6fnnouQl6sntrfGL8gPw5+2/73L0kvdV+iL6dvhH+jT8X/7bAGUAcADQAdoCkAM6BOEE7gNlBCAE6AS7BAYDhAKnAUsBuwCV/3r+IP3c+6H6Xvk/+Cf36/W49NTzRfOJ8lbyP/Jl8frwi/CP8PzwJfFe8UDxbPHN8V7y2/JT8xn0VPSZ9F71rPVs9jX3/ffC+AL6Ivu7+1/8Pf0L/vL+uv9XAMIAlAEwArICEQO2A2IE6gRhBcIFCwYaBloGAAcSB2UHlgd7B9IH3gf4BzgIQwgOCJEHfgdjB4MHkAeTB5IHcwdMBzMHMQc2B/0GrAYpBt8FfgU2BfIEkQQgBMEDPQPWAj8CrQGQAGn/LP4P/c37fvoh+dX3r/ZZ9f/z+PLy8Vnxe/DT7wPvfe7U7ZDtRe0N7c7sgOw27P7rtOvF653rhutL6yHr+eoA6wDrIev56u7qaupR6XjorOgh6A==\" type=\"audio/wav\" />\n",
       "                    Your browser does not support the audio element.\n",
       "                </audio>\n",
       "              "
      ],
      "text/plain": [
       "<IPython.lib.display.Audio object>"
      ]
     },
     "metadata": {},
     "output_type": "display_data"
    },
    {
     "data": {
      "image/png": "[encoded data removed]",
      "text/plain": [
       "<Figure size 1152x288 with 2 Axes>"
      ]
     },
     "metadata": {
      "needs_background": "light"
     },
     "output_type": "display_data"
    },
    {
     "data": {
      "text/plain": [
       "<Figure size 432x288 with 0 Axes>"
      ]
     },
     "metadata": {},
     "output_type": "display_data"
    },
    {
     "data": {
      "image/png": "[encoded data removed]",
      "text/plain": [
       "<Figure size 1152x288 with 2 Axes>"
      ]
     },
     "metadata": {
      "needs_background": "light"
     },
     "output_type": "display_data"
    },
    {
     "data": {
      "text/plain": [
       "<Figure size 432x288 with 0 Axes>"
      ]
     },
     "metadata": {},
     "output_type": "display_data"
    }
   ],
   "source": [
    "def get_audio(enc):\n",
    "    seq = decode_play(enc)\n",
    "    return seq\n",
    "\n",
    "def play_audio(seq):\n",
    "    return Audio(seq, rate=16000, autoplay=True)\n",
    "\n",
    "def moving_average(x, w):\n",
    "    return np.convolve(x, np.ones(w), 'valid') / w\n",
    "\n",
    "enc1 = batch_enc[0]\n",
    "enc2 = batch_enc[35]\n",
    "\n",
    "audio1 = get_audio(enc1)\n",
    "audio2 = get_audio(enc2)\n",
    "\n",
    "display(play_audio(audio1)) #gugu\n",
    "display(play_audio(audio2)) #gugu\n",
    "\n",
    "fft_mag1 = fft_magnitude(audio1)\n",
    "fft_mag2 = fft_magnitude(audio2)\n",
    "\n",
    "fft_mag1 = moving_average(fft_mag1, 40)\n",
    "fft_mag2 = moving_average(fft_mag2, 40)\n",
    "\n",
    "plot_two_graphs_side_by_side(audio1, fft_mag1[:1000], fig_size=(16, 4), y_lims=[(-0.3, 0.3), (0, 30)], title=\"Audio and FFT Magnitude\", type1=\"line\", type2=\"bar\")\n",
    "plot_two_graphs_side_by_side(audio2, fft_mag2[:1000], fig_size=(16, 4), y_lims=[(-0.3, 0.3), (0, 30)], title=\"Audio and FFT Magnitude\", type1=\"line\", type2=\"bar\")\n",
    "\n",
    "\n",
    "# for idx, file in enumerate(batch_enc):\n",
    "#     print(idx)\n",
    "#     display(play_audio(file)) # 35: gugu?"
   ]
  },
  {
   "cell_type": "code",
   "execution_count": 8,
   "metadata": {},
   "outputs": [
    {
     "data": {
      "text/html": [
       "\n",
       "                <audio  controls=\"controls\" autoplay=\"autoplay\">\n",
       "                    <source src=\"data:audio/wav;base64,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\" type=\"audio/wav\" />\n",
       "                    Your browser does not support the audio element.\n",
       "                </audio>\n",
       "              "
      ],
      "text/plain": [
       "<IPython.lib.display.Audio object>"
      ]
     },
     "metadata": {},
     "output_type": "display_data"
    },
    {
     "data": {
      "image/png": "[encoded data removed]",
      "text/plain": [
       "<Figure size 1152x288 with 2 Axes>"
      ]
     },
     "metadata": {
      "needs_background": "light"
     },
     "output_type": "display_data"
    },
    {
     "data": {
      "text/plain": [
       "<Figure size 432x288 with 0 Axes>"
      ]
     },
     "metadata": {},
     "output_type": "display_data"
    }
   ],
   "source": [
    "enc_interpolated = (enc1 + enc2) / 2\n",
    "audio_interpolated = get_audio(enc_interpolated)\n",
    "display(play_audio(audio_interpolated))\n",
    "\n",
    "fft_mag_interpolated = fft_magnitude(audio_interpolated)\n",
    "fft_mag_interpolated = moving_average(fft_mag_interpolated, 40)\n",
    "plot_two_graphs_side_by_side(audio_interpolated, fft_mag_interpolated[:1000], fig_size=(16, 4), y_lims=[(-0.3, 0.3), (0, 30)], title=\"Audio and FFT Magnitude\", type1=\"line\", type2=\"bar\")"
   ]
  },
  {
   "cell_type": "code",
   "execution_count": 12,
   "metadata": {},
   "outputs": [],
   "source": [
    "# save audio_interpolated\n",
    "\n",
    "import soundfile as sf\n",
    "\n",
    "def save_audio(audio, path):\n",
    "    sf.write(path, audio, 16000)\n",
    "\n",
    "save_audio(audio_interpolated, \"gugu_interpolated.wav\")\n"
   ]
  },
  {
   "cell_type": "code",
   "execution_count": 9,
   "metadata": {},
   "outputs": [
    {
     "data": {
      "application/vnd.jupyter.widget-view+json": {
       "model_id": "ba883101a3ad441e8a4981a0f3720f72",
       "version_major": 2,
       "version_minor": 0
      },
      "text/plain": [
       "interactive(children=(FloatSlider(value=0.0, description='alpha', max=1.0, step=0.01), Output()), _dom_classes…"
      ]
     },
     "metadata": {},
     "output_type": "display_data"
    },
    {
     "data": {
      "text/plain": [
       "<function __main__.weighted_average(alpha)>"
      ]
     },
     "execution_count": 9,
     "metadata": {},
     "output_type": "execute_result"
    }
   ],
   "source": [
    "def weighted_average(alpha):\n",
    "    enc_interpolated = (1 - alpha) * enc1 + alpha * enc2\n",
    "\n",
    "    audio_interpolated = get_audio(enc_interpolated)\n",
    "    display(play_audio(audio_interpolated))\n",
    "\n",
    "    fft_mag_interpolated = fft_magnitude(audio_interpolated)\n",
    "    fft_mag_interpolated = moving_average(fft_mag_interpolated, 40)\n",
    "    plot_two_graphs_side_by_side(audio_interpolated, fft_mag_interpolated[:1000], fig_size=(16, 4), y_lims=[(-0.3, 0.3), (0, 30)], title=\"Audio and FFT Magnitude\", type1=\"line\", type2=\"bar\")\n",
    "\n",
    "\n",
    "range = (0, 1, 0.01)\n",
    "interact(weighted_average, alpha=range)\n"
   ]
  },
  {
   "cell_type": "code",
   "execution_count": null,
   "metadata": {},
   "outputs": [],
   "source": [
    "# Notes for myself:\n",
    "# Listening to invidual timesteps doesn't make sense, as in practice for longer sequences the audio consists of a sum of neighbouring timesteps\n",
    "# Interpolating between two entire audio files does make sense, so by next class I should split up audio just by syllable and interpolate between those"
   ]
  }
 ],
 "metadata": {
  "kernelspec": {
   "display_name": "Python 3",
   "language": "python",
   "name": "python3"
  },
  "language_info": {
   "codemirror_mode": {
    "name": "ipython",
    "version": 3
   },
   "file_extension": ".py",
   "mimetype": "text/x-python",
   "name": "python",
   "nbconvert_exporter": "python",
   "pygments_lexer": "ipython3",
   "version": "3.10.4"
  },
  "orig_nbformat": 4
 },
 "nbformat": 4,
 "nbformat_minor": 2
}
