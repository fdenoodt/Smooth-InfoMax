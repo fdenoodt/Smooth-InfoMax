{
 "cells": [
  {
   "cell_type": "code",
   "execution_count": 1,
   "id": "8446184b",
   "metadata": {},
   "outputs": [],
   "source": [
    "import torch\n",
    "import torch.nn as nn\n",
    "import torch.utils as utils\n",
    "from torch.autograd import Variable\n",
    "import torchvision.datasets as dataset\n",
    "import torchvision.transforms as transforms\n",
    "import matplotlib.pyplot as plt\n",
    "import numpy as np\n",
    "%matplotlib inline"
   ]
  },
  {
   "cell_type": "code",
   "execution_count": 2,
   "id": "880243b6",
   "metadata": {},
   "outputs": [],
   "source": [
    "tensor_transform =  transforms.ToTensor()\n",
    "transform=transforms.Compose([\n",
    "    tensor_transform,\n",
    "])\n",
    "batch_size = 100\n",
    "\n",
    "mnist_train = dataset.MNIST(\"./\", train=True, transform=transform, target_transform=None, download=True)\n",
    "mnist_val  = dataset.MNIST(\"./\", train=False, transform=transform, target_transform=None, download=True)\n",
    "\n",
    "# Set Data Loader(input pipeline)\n",
    "train_loader = torch.utils.data.DataLoader(dataset=mnist_train,batch_size=batch_size,shuffle=True)\n",
    "val_loader = torch.utils.data.DataLoader(dataset=mnist_val,batch_size=batch_size,shuffle=False)"
   ]
  },
  {
   "cell_type": "code",
   "execution_count": 3,
   "id": "2680c130",
   "metadata": {},
   "outputs": [],
   "source": [
    "'''\n",
    "Function for generating noise that is going to be added to the inputs of the autoencoder\n",
    " :parameter\n",
    " mean  : float, scalar\n",
    " std   : float, scalar\n",
    " shape : tensor, shape (batch_size, num_channels, width, height)\n",
    " :returns\n",
    " noise : tensor, shape (batch_size, num_channels, width, height)\n",
    " return tensor with the Gaussian noise\n",
    "'''\n",
    "def gaussian_noise(mean, std, shape):\n",
    "    noise = torch.randn(shape) * std + mean\n",
    "    return noise"
   ]
  },
  {
   "cell_type": "code",
   "execution_count": 4,
   "id": "21fd677d",
   "metadata": {},
   "outputs": [],
   "source": [
    "'''\n",
    "Class for the Autoencoder model\n",
    "'''\n",
    "class AutoEncoder(nn.Module):\n",
    "    def __init__(self):\n",
    "        super(AutoEncoder,self).__init__()\n",
    "        # Encoder block\n",
    "        self.layer1 = nn.Conv2d(in_channels=1, out_channels=32, kernel_size=3, stride=2, padding=1)  \n",
    "        self.layer2 = nn.BatchNorm2d(num_features=32)\n",
    "        self.layer3 = nn.ReLU()\n",
    "        self.layer4 = nn.Conv2d(in_channels=32,out_channels=32,kernel_size=3, stride=2, padding=1)  \n",
    "        self.layer5 = nn.BatchNorm2d(num_features=32)\n",
    "        self.layer6 = nn.ReLU()\n",
    "        self.layer7 = nn.Conv2d(in_channels=32, out_channels=64,kernel_size=3, stride=1, padding=1)\n",
    "        \n",
    "        # Decoder block\n",
    "        self.layer8 = nn.ConvTranspose2d(in_channels=64, out_channels=32, kernel_size=3, stride=2, padding=1) \n",
    "        self.layer9 = nn.BatchNorm2d(num_features=32)\n",
    "        self.layer10 = nn.ReLU()\n",
    "        self.layer11 = nn.ConvTranspose2d(in_channels=32, out_channels=32, kernel_size=3, stride=2, padding=1) \n",
    "        self.layer12 = nn.BatchNorm2d(num_features=32)\n",
    "        self.layer13 = nn.ReLU()  \n",
    "        self.layer14 = nn.Conv2d(in_channels=32, out_channels=1, kernel_size=3, stride=1, padding=1)\n",
    "\n",
    "                \n",
    "    def forward(self,x):\n",
    "        #image encoding\n",
    "        x1 = self.layer1(x)\n",
    "        x2 = self.layer2(x1)\n",
    "        x3 = self.layer3(x2)\n",
    "        x4 = self.layer4(x3)\n",
    "        x5 = self.layer5(x4)\n",
    "        x6 = self.layer6(x5)\n",
    "        encoded = self.layer7(x6)\n",
    "\n",
    "        #image decoding\n",
    "        '''\n",
    "        pay attention to the \"output_size\" parameter of the Transposed convolutional in the forward pass.\n",
    "        You need to pass it correctly in order to avoid missmatches between the sizes of output and ground truth \n",
    "        during the loss calculation.\n",
    "        '''\n",
    "        x8 = self.layer8(encoded, output_size = x1.shape)\n",
    "        x9 = self.layer9(x8)\n",
    "        x10 = self.layer10(x9)\n",
    "        x11 = self.layer11(x10, output_size = x.shape)\n",
    "        x12 = self.layer12(x11)\n",
    "        x13 = self.layer13(x12)\n",
    "        decoded = self.layer14(x13)\n",
    "        return decoded"
   ]
  },
  {
   "cell_type": "code",
   "execution_count": 5,
   "id": "72b64a56",
   "metadata": {},
   "outputs": [],
   "source": [
    "'''\n",
    "Function for visualization of the loss values calculated during the training\n",
    ":parameter\n",
    "training_loss: list of scalars, training loss values of each epoch\n",
    "val_loss: list of scalars, validation loss values of each epoch\n",
    "'''\n",
    "def plot_losses(train_loss, val_loss):\n",
    "\n",
    "    epochs = range(1, len(train_loss) + 1)\n",
    "\n",
    "    plt.plot(epochs, train_loss, '--', label='Training loss')\n",
    "    plt.plot(epochs, val_loss, 'r', label='Validation loss')\n",
    "    plt.title('Training and validation loss')\n",
    "    plt.xlabel('Epochs')\n",
    "    plt.ylabel('Loss')\n",
    "    plt.legend()\n",
    "\n",
    "    plt.show()"
   ]
  },
  {
   "cell_type": "code",
   "execution_count": 6,
   "id": "bc0c449e",
   "metadata": {},
   "outputs": [
    {
     "name": "stdout",
     "output_type": "stream",
     "text": [
      "Training loss -  0.017935729067151743  Validation loss -  0.012968418290838599\n",
      "Training loss -  0.012302098299066226  Validation loss -  0.011470613870769739\n",
      "Training loss -  0.01155514569953084  Validation loss -  0.011101290201768279\n",
      "Training loss -  0.011097069188642006  Validation loss -  0.010758640998974443\n",
      "Training loss -  0.010840286184102297  Validation loss -  0.010477144382894038\n"
     ]
    },
    {
     "data": {
      "image/png": "[encoded data removed]",
      "text/plain": [
       "<Figure size 432x288 with 1 Axes>"
      ]
     },
     "metadata": {
      "needs_background": "light"
     },
     "output_type": "display_data"
    }
   ],
   "source": [
    "if torch.cuda.is_available():\n",
    "    device = 'cuda'\n",
    "else:\n",
    "    device = 'cpu'\n",
    "    \n",
    "learning_rate = 0.001\n",
    "epoch = 5\n",
    "\n",
    "model = AutoEncoder().to(device)\n",
    "criterion = nn.MSELoss()\n",
    "optimizer = torch.optim.Adam(model.parameters(), lr=learning_rate)\n",
    "input_shape = (batch_size, 1, 28, 28)\n",
    "'''\n",
    "Pay attention that for the validation set we are generating noise once, to do a consistent calculation of\n",
    "the validation loss (i.e. to calculate validation loss on the same input data)\n",
    "'''\n",
    "val_noise = gaussian_noise(mean=0, std=0.5, shape=input_shape)\n",
    "\n",
    "training_losses = []\n",
    "validation_losses = []\n",
    "for i in range(epoch):\n",
    "    model.train()\n",
    "    epoch_loss_train = 0\n",
    "    epoch_loss_val = 0\n",
    "    for image,label in train_loader:\n",
    "        ground_truth_batch = Variable(image).to(device)\n",
    "        '''\n",
    "        Pay attention that for the training set we are generating noise at for every batch.\n",
    "        This can act as a data augmentation.\n",
    "        '''\n",
    "        train_noise = gaussian_noise(mean=0, std=0.5, shape=input_shape)\n",
    "        input_batch = image + train_noise\n",
    "        input_batch = Variable(input_batch).to(device)\n",
    "\n",
    "        optimizer.zero_grad()\n",
    "        output_batch = model(input_batch)\n",
    "\n",
    "        loss = criterion(output_batch,ground_truth_batch)\n",
    "        loss.backward()\n",
    "        optimizer.step()\n",
    "        epoch_loss_train += loss.item()\n",
    "        \n",
    "    training_losses.append(epoch_loss_train / len(train_loader))\n",
    "    \n",
    "    model.eval()\n",
    "    for val_image, label in val_loader:\n",
    "        ground_truth_batch = Variable(val_image).to(device)\n",
    "        \n",
    "        input_batch = val_image + val_noise\n",
    "        input_batch = Variable(input_batch).to(device)\n",
    "\n",
    "        output_batch = model(input_batch)\n",
    "\n",
    "        val_loss = criterion(output_batch,ground_truth_batch)\n",
    "        epoch_loss_val += val_loss.item()\n",
    "    validation_losses.append(epoch_loss_val / len(val_loader))\n",
    "              \n",
    "                \n",
    "    print(\"Training loss - \",epoch_loss_train / len(train_loader),\n",
    "          \" Validation loss - \", epoch_loss_val / len(val_loader))\n",
    "\n",
    "plot_losses(train_loss=training_losses, val_loss=validation_losses)"
   ]
  },
  {
   "cell_type": "code",
   "execution_count": 7,
   "id": "b19251e1",
   "metadata": {},
   "outputs": [
    {
     "name": "stdout",
     "output_type": "stream",
     "text": [
      "torch.Size([1, 28, 28])\n"
     ]
    },
    {
     "data": {
      "image/png": "[encoded data removed]",
      "text/plain": [
       "<Figure size 432x288 with 1 Axes>"
      ]
     },
     "metadata": {
      "needs_background": "light"
     },
     "output_type": "display_data"
    },
    {
     "data": {
      "image/png": "[encoded data removed]",
      "text/plain": [
       "<Figure size 432x288 with 1 Axes>"
      ]
     },
     "metadata": {
      "needs_background": "light"
     },
     "output_type": "display_data"
    },
    {
     "data": {
      "image/png": "[encoded data removed]",
      "text/plain": [
       "<Figure size 432x288 with 1 Axes>"
      ]
     },
     "metadata": {
      "needs_background": "light"
     },
     "output_type": "display_data"
    },
    {
     "name": "stdout",
     "output_type": "stream",
     "text": [
      "tensor(7)\n"
     ]
    }
   ],
   "source": [
    "'''\n",
    "In this code snippet we will take random sample from the validation set and visualize its noisy version and the\n",
    "restored version obtained via the trained model\n",
    "'''\n",
    "model.eval()\n",
    "images, labels = next(iter(val_loader))   \n",
    "\n",
    "noisy_image = images[0:1] + val_noise[0:1]\n",
    "result = model(noisy_image.to(device))\n",
    "origin = images[0].transpose(0,2).detach().cpu().numpy()\n",
    "noisy =  noisy_image[0].transpose(0,2).detach().cpu().numpy()\n",
    "result = result[0].transpose(0,2).detach().cpu().numpy()\n",
    "\n",
    "plt.imshow(origin,cmap='gray')\n",
    "plt.show()\n",
    "\n",
    "plt.imshow(noisy,cmap='gray')\n",
    "plt.show()\n",
    "\n",
    "plt.imshow(result,cmap=\"gray\")\n",
    "plt.show()\n",
    "\n",
    "print(labels[0])"
   ]
  }
 ],
 "metadata": {
  "kernelspec": {
   "display_name": "Python 3",
   "language": "python",
   "name": "python3"
  },
  "language_info": {
   "codemirror_mode": {
    "name": "ipython",
    "version": 3
   },
   "file_extension": ".py",
   "mimetype": "text/x-python",
   "name": "python",
   "nbconvert_exporter": "python",
   "pygments_lexer": "ipython3",
   "version": "3.6.9"
  }
 },
 "nbformat": 4,
 "nbformat_minor": 5
}
