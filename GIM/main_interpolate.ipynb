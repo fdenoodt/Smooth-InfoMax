{
 "cells": [
  {
   "cell_type": "code",
   "execution_count": 1,
   "metadata": {},
   "outputs": [],
   "source": [
    "from __future__ import print_function\n",
    "import torch\n",
    "from GIM_encoder import GIM_Encoder\n",
    "from data import get_dataloader\n",
    "from decoder_architectures import SimpleV2Decoder\n",
    "from helper_functions import create_log_dir, fft_magnitude, plot_two_graphs_side_by_side\n",
    "from options_interpolate import get_options\n",
    "from IPython.display import Audio\n",
    "import numpy as np\n",
    "import soundfile as sf\n",
    "\n",
    "from ipywidgets import interact, interactive, fixed, interact_manual\n",
    "import ipywidgets as widgets\n",
    "import matplotlib.pyplot as plt\n",
    "import random"
   ]
  },
  {
   "cell_type": "code",
   "execution_count": 2,
   "metadata": {},
   "outputs": [],
   "source": [
    "def load_decoder(options, decoder_model_path, device):\n",
    "    decoder = options['decoder'].to(device)\n",
    "    decoder.load_state_dict(torch.load(\n",
    "        decoder_model_path, map_location=device))\n",
    "    return decoder\n",
    "\n",
    "\n",
    "def set_dimension_equal_to(batch, b_idx, dim_idx, val):\n",
    "    # batch is of shape: 171, 32, 2\n",
    "    # so always change the last two points\n",
    "\n",
    "    b, c, l = batch.shape\n",
    "    batch[b_idx, dim_idx, 0] = val\n",
    "\n",
    "def invent_latent_rnd(device):\n",
    "    batch_enc = torch.rand((171, 32, 2)).to(device)\n",
    "\n",
    "    return batch_enc\n",
    "\n",
    "\n",
    "def invent_latent(device):\n",
    "    # batch_enc = torch.randn((171, 32, 2)).to(device)\n",
    "    batch_enc = torch.zeros((171, 32, 2)).to(device)\n",
    "\n",
    "    # first sample: val(dim 0) := 1\n",
    "    nb_dims = 32\n",
    "    for dim in range(nb_dims):\n",
    "        set_dimension_equal_to(batch_enc, b_idx=dim, dim_idx=dim, val=0.5)\n",
    "\n",
    "    return batch_enc"
   ]
  },
  {
   "cell_type": "code",
   "execution_count": 3,
   "metadata": {},
   "outputs": [
    {
     "name": "stdout",
     "output_type": "stream",
     "text": [
      "Let's use 1 GPUs!\n",
      "Loading De Boer Sounds dataset...\n"
     ]
    }
   ],
   "source": [
    "def setup():\n",
    "  OPTIONS = get_options()\n",
    "  DEVICE = OPTIONS[\"device\"]\n",
    "\n",
    "  CPC_MODEL_PATH = OPTIONS[\"cpc_model_path\"]\n",
    "  DECODER_MODEL_PATH = OPTIONS[\"decoder_model_path\"]\n",
    "\n",
    "  ENCODER = GIM_Encoder(OPTIONS, path=CPC_MODEL_PATH)\n",
    "  ENCODER.encoder.eval()\n",
    "\n",
    "  DECODER = load_decoder(OPTIONS, DECODER_MODEL_PATH, DEVICE)\n",
    "  DECODER.eval()\n",
    "\n",
    "  train_loader, _, test_loader, _ = get_dataloader.get_dataloader(\n",
    "      OPTIONS, dataset=\"de_boer_sounds_reshuffledv2\", split_and_pad=False, train_noise=False, shuffle=True)\n",
    "\n",
    "  return OPTIONS, DEVICE, ENCODER, DECODER\n",
    "\n",
    "OPTIONS, DEVICE, ENCODER, DECODER = setup()"
   ]
  },
  {
   "cell_type": "code",
   "execution_count": 4,
   "metadata": {},
   "outputs": [
    {
     "data": {
      "application/vnd.jupyter.widget-view+json": {
       "model_id": "928f09b24aa7462ea9620d846a26c6bd",
       "version_major": 2,
       "version_minor": 0
      },
      "text/plain": [
       "interactive(children=(FloatSlider(value=0.0, description='dim_0_val', max=1.1, min=-1.1, step=0.01), FloatSlid…"
      ]
     },
     "metadata": {},
     "output_type": "display_data"
    },
    {
     "data": {
      "text/plain": [
       "<function __main__.plot_latents(**kwargs)>"
      ]
     },
     "execution_count": 4,
     "metadata": {},
     "output_type": "execute_result"
    }
   ],
   "source": [
    "def latent_space(device, **kwargs):\n",
    "    batch_enc = torch.zeros((171, 32, 2)).to(device)\n",
    "\n",
    "    for dim_idx, dim_val in kwargs.items():\n",
    "        #eg: dim_1_val\n",
    "        dim_idx = int(dim_idx.split(\"_\")[-2])\n",
    "        set_dimension_equal_to(batch_enc, b_idx=0, dim_idx=dim_idx, val=dim_val)\n",
    "\n",
    "    # set_dimension_equal_to(batch_enc, b_idx=0, dim_idx=0, val=dim1_val)\n",
    "\n",
    "    return batch_enc\n",
    "\n",
    "\n",
    "def plot_latents(**kwargs):\n",
    "    batch_enc_audio = latent_space(DEVICE, **kwargs)\n",
    "    batch_outp = DECODER(batch_enc_audio)\n",
    "\n",
    "    target_dir = \"invented_audios\"\n",
    "    sr = 16000\n",
    "    create_log_dir(target_dir)\n",
    "    for idx, outp in enumerate(batch_outp):\n",
    "        sequence = outp[0].cpu().detach().numpy()\n",
    "        fft_mag = fft_magnitude(sequence)\n",
    "        fft_mag = fft_mag[:100]\n",
    "        plot_two_graphs_side_by_side(sequence, fft_mag, fig_size=(\n",
    "            10, 4), y_lims=[(-0.1, 0.1), (0, 5)])\n",
    "        \n",
    "        # play audio\n",
    "        return Audio(sequence, rate=sr)\n",
    "\n",
    "        break\n",
    "    return\n",
    "\n",
    "\n",
    "range = (-1.1, 1.1, 0.01)\n",
    "interact(plot_latents,\n",
    "         dim_0_val=range,\n",
    "         dim_1_val=range,\n",
    "         dim_2_val=range,\n",
    "         dim_3_val=range,\n",
    "         dim_4_val=range,\n",
    "         dim_5_val=range,\n",
    "         dim_6_val=range,\n",
    "         dim_7_val=range,\n",
    "         dim_8_val=range,\n",
    "         dim_9_val=range,\n",
    "         dim_10_val=range,\n",
    "         dim_11_val=range,\n",
    "         dim_12_val=range,\n",
    "         dim_13_val=range,\n",
    "         dim_14_val=range,\n",
    "         dim_15_val=range,\n",
    "         dim_16_val=range,\n",
    "         dim_17_val=range,\n",
    "         dim_18_val=range,\n",
    "         dim_19_val=range,\n",
    "         dim_20_val=range,\n",
    "         dim_21_val=range,\n",
    "         dim_22_val=range,\n",
    "         dim_23_val=range,\n",
    "         dim_24_val=range,\n",
    "         dim_25_val=range,\n",
    "         dim_26_val=range,\n",
    "         dim_27_val=range,\n",
    "         dim_28_val=range,\n",
    "         dim_29_val=range,\n",
    "         dim_30_val=range,\n",
    "         dim_31_val=range)\n"
   ]
  },
  {
   "cell_type": "code",
   "execution_count": 5,
   "metadata": {},
   "outputs": [
    {
     "data": {
      "text/plain": [
       "<Figure size 720x720 with 0 Axes>"
      ]
     },
     "metadata": {},
     "output_type": "display_data"
    },
    {
     "data": {
      "application/vnd.jupyter.widget-view+json": {
       "model_id": "bd0aab65f145415582eccc8e453c362a",
       "version_major": 2,
       "version_minor": 0
      },
      "text/plain": [
       "interactive(children=(IntSlider(value=50, description='dots', min=1), Output()), _dom_classes=('widget-interac…"
      ]
     },
     "metadata": {},
     "output_type": "display_data"
    }
   ],
   "source": [
    "\n",
    "\n",
    "def series(dots):\n",
    "    plt.figure(figsize=(10, 10))\n",
    "    a, b = [], []\n",
    "    for i in range(dots):\n",
    "        a.append(random.randint(1, 100))\n",
    "        b.append(random.randint(1, 100))\n",
    "    plt.scatter(a, b, c=\"red\")\n",
    "    return\n",
    "\n",
    "interact(series, dots=(1, 100, 1))\n",
    "\n",
    "# colr=[\"red\", \"orange\", \"brown\"]\n",
    "\n",
    "None"
   ]
  },
  {
   "cell_type": "code",
   "execution_count": null,
   "metadata": {},
   "outputs": [],
   "source": []
  },
  {
   "cell_type": "code",
   "execution_count": null,
   "metadata": {},
   "outputs": [],
   "source": []
  }
 ],
 "metadata": {
  "kernelspec": {
   "display_name": "Python 3",
   "language": "python",
   "name": "python3"
  },
  "language_info": {
   "codemirror_mode": {
    "name": "ipython",
    "version": 3
   },
   "file_extension": ".py",
   "mimetype": "text/x-python",
   "name": "python",
   "nbconvert_exporter": "python",
   "pygments_lexer": "ipython3",
   "version": "3.10.4"
  },
  "orig_nbformat": 4
 },
 "nbformat": 4,
 "nbformat_minor": 2
}
